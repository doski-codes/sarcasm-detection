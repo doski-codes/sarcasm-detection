{
 "cells": [
  {
   "cell_type": "code",
   "execution_count": 1,
   "id": "614c6602",
   "metadata": {},
   "outputs": [],
   "source": [
    "import numpy as np\n",
    "import pandas as pd\n",
    "\n",
    "from string import punctuation\n",
    "\n",
    "import spacy\n",
    "from spacy.lang.en.stop_words import STOP_WORDS\n",
    "\n",
    "from collections import Counter"
   ]
  },
  {
   "cell_type": "code",
   "execution_count": 2,
   "id": "6b535427",
   "metadata": {},
   "outputs": [],
   "source": [
    "data = pd.read_csv('../Datasets/train-balanced-sarcasm.csv')"
   ]
  },
  {
   "cell_type": "code",
   "execution_count": 3,
   "id": "6955e166",
   "metadata": {},
   "outputs": [
    {
     "data": {
      "text/html": [
       "<div>\n",
       "<style scoped>\n",
       "    .dataframe tbody tr th:only-of-type {\n",
       "        vertical-align: middle;\n",
       "    }\n",
       "\n",
       "    .dataframe tbody tr th {\n",
       "        vertical-align: top;\n",
       "    }\n",
       "\n",
       "    .dataframe thead th {\n",
       "        text-align: right;\n",
       "    }\n",
       "</style>\n",
       "<table border=\"1\" class=\"dataframe\">\n",
       "  <thead>\n",
       "    <tr style=\"text-align: right;\">\n",
       "      <th></th>\n",
       "      <th>label</th>\n",
       "      <th>comment</th>\n",
       "      <th>author</th>\n",
       "      <th>subreddit</th>\n",
       "      <th>score</th>\n",
       "      <th>ups</th>\n",
       "      <th>downs</th>\n",
       "      <th>date</th>\n",
       "      <th>created_utc</th>\n",
       "      <th>parent_comment</th>\n",
       "    </tr>\n",
       "  </thead>\n",
       "  <tbody>\n",
       "    <tr>\n",
       "      <th>0</th>\n",
       "      <td>0</td>\n",
       "      <td>NC and NH.</td>\n",
       "      <td>Trumpbart</td>\n",
       "      <td>politics</td>\n",
       "      <td>2</td>\n",
       "      <td>-1</td>\n",
       "      <td>-1</td>\n",
       "      <td>2016-10</td>\n",
       "      <td>2016-10-16 23:55:23</td>\n",
       "      <td>Yeah, I get that argument. At this point, I'd ...</td>\n",
       "    </tr>\n",
       "    <tr>\n",
       "      <th>1</th>\n",
       "      <td>0</td>\n",
       "      <td>You do know west teams play against west teams...</td>\n",
       "      <td>Shbshb906</td>\n",
       "      <td>nba</td>\n",
       "      <td>-4</td>\n",
       "      <td>-1</td>\n",
       "      <td>-1</td>\n",
       "      <td>2016-11</td>\n",
       "      <td>2016-11-01 00:24:10</td>\n",
       "      <td>The blazers and Mavericks (The wests 5 and 6 s...</td>\n",
       "    </tr>\n",
       "    <tr>\n",
       "      <th>2</th>\n",
       "      <td>0</td>\n",
       "      <td>They were underdogs earlier today, but since G...</td>\n",
       "      <td>Creepeth</td>\n",
       "      <td>nfl</td>\n",
       "      <td>3</td>\n",
       "      <td>3</td>\n",
       "      <td>0</td>\n",
       "      <td>2016-09</td>\n",
       "      <td>2016-09-22 21:45:37</td>\n",
       "      <td>They're favored to win.</td>\n",
       "    </tr>\n",
       "    <tr>\n",
       "      <th>3</th>\n",
       "      <td>0</td>\n",
       "      <td>This meme isn't funny none of the \"new york ni...</td>\n",
       "      <td>icebrotha</td>\n",
       "      <td>BlackPeopleTwitter</td>\n",
       "      <td>-8</td>\n",
       "      <td>-1</td>\n",
       "      <td>-1</td>\n",
       "      <td>2016-10</td>\n",
       "      <td>2016-10-18 21:03:47</td>\n",
       "      <td>deadass don't kill my buzz</td>\n",
       "    </tr>\n",
       "    <tr>\n",
       "      <th>4</th>\n",
       "      <td>0</td>\n",
       "      <td>I could use one of those tools.</td>\n",
       "      <td>cush2push</td>\n",
       "      <td>MaddenUltimateTeam</td>\n",
       "      <td>6</td>\n",
       "      <td>-1</td>\n",
       "      <td>-1</td>\n",
       "      <td>2016-12</td>\n",
       "      <td>2016-12-30 17:00:13</td>\n",
       "      <td>Yep can confirm I saw the tool they use for th...</td>\n",
       "    </tr>\n",
       "  </tbody>\n",
       "</table>\n",
       "</div>"
      ],
      "text/plain": [
       "   label                                            comment     author  \\\n",
       "0      0                                         NC and NH.  Trumpbart   \n",
       "1      0  You do know west teams play against west teams...  Shbshb906   \n",
       "2      0  They were underdogs earlier today, but since G...   Creepeth   \n",
       "3      0  This meme isn't funny none of the \"new york ni...  icebrotha   \n",
       "4      0                    I could use one of those tools.  cush2push   \n",
       "\n",
       "            subreddit  score  ups  downs     date          created_utc  \\\n",
       "0            politics      2   -1     -1  2016-10  2016-10-16 23:55:23   \n",
       "1                 nba     -4   -1     -1  2016-11  2016-11-01 00:24:10   \n",
       "2                 nfl      3    3      0  2016-09  2016-09-22 21:45:37   \n",
       "3  BlackPeopleTwitter     -8   -1     -1  2016-10  2016-10-18 21:03:47   \n",
       "4  MaddenUltimateTeam      6   -1     -1  2016-12  2016-12-30 17:00:13   \n",
       "\n",
       "                                      parent_comment  \n",
       "0  Yeah, I get that argument. At this point, I'd ...  \n",
       "1  The blazers and Mavericks (The wests 5 and 6 s...  \n",
       "2                            They're favored to win.  \n",
       "3                         deadass don't kill my buzz  \n",
       "4  Yep can confirm I saw the tool they use for th...  "
      ]
     },
     "execution_count": 3,
     "metadata": {},
     "output_type": "execute_result"
    }
   ],
   "source": [
    "data.head()"
   ]
  },
  {
   "cell_type": "code",
   "execution_count": 4,
   "id": "b2fdce89",
   "metadata": {},
   "outputs": [
    {
     "name": "stdout",
     "output_type": "stream",
     "text": [
      "<class 'pandas.core.frame.DataFrame'>\n",
      "RangeIndex: 1010826 entries, 0 to 1010825\n",
      "Data columns (total 10 columns):\n",
      " #   Column          Non-Null Count    Dtype \n",
      "---  ------          --------------    ----- \n",
      " 0   label           1010826 non-null  int64 \n",
      " 1   comment         1010773 non-null  object\n",
      " 2   author          1010826 non-null  object\n",
      " 3   subreddit       1010826 non-null  object\n",
      " 4   score           1010826 non-null  int64 \n",
      " 5   ups             1010826 non-null  int64 \n",
      " 6   downs           1010826 non-null  int64 \n",
      " 7   date            1010826 non-null  object\n",
      " 8   created_utc     1010826 non-null  object\n",
      " 9   parent_comment  1010826 non-null  object\n",
      "dtypes: int64(4), object(6)\n",
      "memory usage: 77.1+ MB\n"
     ]
    }
   ],
   "source": [
    "data.info()"
   ]
  },
  {
   "cell_type": "code",
   "execution_count": 5,
   "id": "a13b31de",
   "metadata": {},
   "outputs": [],
   "source": [
    "data['date'] = pd.to_datetime(data['date']).dt.date"
   ]
  },
  {
   "cell_type": "code",
   "execution_count": 6,
   "id": "7f65e8be",
   "metadata": {},
   "outputs": [
    {
     "data": {
      "text/html": [
       "<div>\n",
       "<style scoped>\n",
       "    .dataframe tbody tr th:only-of-type {\n",
       "        vertical-align: middle;\n",
       "    }\n",
       "\n",
       "    .dataframe tbody tr th {\n",
       "        vertical-align: top;\n",
       "    }\n",
       "\n",
       "    .dataframe thead th {\n",
       "        text-align: right;\n",
       "    }\n",
       "</style>\n",
       "<table border=\"1\" class=\"dataframe\">\n",
       "  <thead>\n",
       "    <tr style=\"text-align: right;\">\n",
       "      <th></th>\n",
       "      <th>label</th>\n",
       "      <th>comment</th>\n",
       "      <th>author</th>\n",
       "      <th>subreddit</th>\n",
       "      <th>score</th>\n",
       "      <th>ups</th>\n",
       "      <th>downs</th>\n",
       "      <th>date</th>\n",
       "      <th>created_utc</th>\n",
       "      <th>parent_comment</th>\n",
       "    </tr>\n",
       "  </thead>\n",
       "  <tbody>\n",
       "    <tr>\n",
       "      <th>0</th>\n",
       "      <td>0</td>\n",
       "      <td>NC and NH.</td>\n",
       "      <td>Trumpbart</td>\n",
       "      <td>politics</td>\n",
       "      <td>2</td>\n",
       "      <td>-1</td>\n",
       "      <td>-1</td>\n",
       "      <td>2016-10-01</td>\n",
       "      <td>2016-10-16 23:55:23</td>\n",
       "      <td>Yeah, I get that argument. At this point, I'd ...</td>\n",
       "    </tr>\n",
       "    <tr>\n",
       "      <th>1</th>\n",
       "      <td>0</td>\n",
       "      <td>You do know west teams play against west teams...</td>\n",
       "      <td>Shbshb906</td>\n",
       "      <td>nba</td>\n",
       "      <td>-4</td>\n",
       "      <td>-1</td>\n",
       "      <td>-1</td>\n",
       "      <td>2016-11-01</td>\n",
       "      <td>2016-11-01 00:24:10</td>\n",
       "      <td>The blazers and Mavericks (The wests 5 and 6 s...</td>\n",
       "    </tr>\n",
       "    <tr>\n",
       "      <th>2</th>\n",
       "      <td>0</td>\n",
       "      <td>They were underdogs earlier today, but since G...</td>\n",
       "      <td>Creepeth</td>\n",
       "      <td>nfl</td>\n",
       "      <td>3</td>\n",
       "      <td>3</td>\n",
       "      <td>0</td>\n",
       "      <td>2016-09-01</td>\n",
       "      <td>2016-09-22 21:45:37</td>\n",
       "      <td>They're favored to win.</td>\n",
       "    </tr>\n",
       "    <tr>\n",
       "      <th>3</th>\n",
       "      <td>0</td>\n",
       "      <td>This meme isn't funny none of the \"new york ni...</td>\n",
       "      <td>icebrotha</td>\n",
       "      <td>BlackPeopleTwitter</td>\n",
       "      <td>-8</td>\n",
       "      <td>-1</td>\n",
       "      <td>-1</td>\n",
       "      <td>2016-10-01</td>\n",
       "      <td>2016-10-18 21:03:47</td>\n",
       "      <td>deadass don't kill my buzz</td>\n",
       "    </tr>\n",
       "    <tr>\n",
       "      <th>4</th>\n",
       "      <td>0</td>\n",
       "      <td>I could use one of those tools.</td>\n",
       "      <td>cush2push</td>\n",
       "      <td>MaddenUltimateTeam</td>\n",
       "      <td>6</td>\n",
       "      <td>-1</td>\n",
       "      <td>-1</td>\n",
       "      <td>2016-12-01</td>\n",
       "      <td>2016-12-30 17:00:13</td>\n",
       "      <td>Yep can confirm I saw the tool they use for th...</td>\n",
       "    </tr>\n",
       "  </tbody>\n",
       "</table>\n",
       "</div>"
      ],
      "text/plain": [
       "   label                                            comment     author  \\\n",
       "0      0                                         NC and NH.  Trumpbart   \n",
       "1      0  You do know west teams play against west teams...  Shbshb906   \n",
       "2      0  They were underdogs earlier today, but since G...   Creepeth   \n",
       "3      0  This meme isn't funny none of the \"new york ni...  icebrotha   \n",
       "4      0                    I could use one of those tools.  cush2push   \n",
       "\n",
       "            subreddit  score  ups  downs        date          created_utc  \\\n",
       "0            politics      2   -1     -1  2016-10-01  2016-10-16 23:55:23   \n",
       "1                 nba     -4   -1     -1  2016-11-01  2016-11-01 00:24:10   \n",
       "2                 nfl      3    3      0  2016-09-01  2016-09-22 21:45:37   \n",
       "3  BlackPeopleTwitter     -8   -1     -1  2016-10-01  2016-10-18 21:03:47   \n",
       "4  MaddenUltimateTeam      6   -1     -1  2016-12-01  2016-12-30 17:00:13   \n",
       "\n",
       "                                      parent_comment  \n",
       "0  Yeah, I get that argument. At this point, I'd ...  \n",
       "1  The blazers and Mavericks (The wests 5 and 6 s...  \n",
       "2                            They're favored to win.  \n",
       "3                         deadass don't kill my buzz  \n",
       "4  Yep can confirm I saw the tool they use for th...  "
      ]
     },
     "execution_count": 6,
     "metadata": {},
     "output_type": "execute_result"
    }
   ],
   "source": [
    "data.head()"
   ]
  },
  {
   "cell_type": "code",
   "execution_count": 7,
   "id": "53a92839",
   "metadata": {},
   "outputs": [
    {
     "data": {
      "text/plain": [
       "(datetime.date(2009, 1, 1), datetime.date(2016, 12, 1))"
      ]
     },
     "execution_count": 7,
     "metadata": {},
     "output_type": "execute_result"
    }
   ],
   "source": [
    "data['date'].min(), data['date'].max()"
   ]
  },
  {
   "cell_type": "code",
   "execution_count": 8,
   "id": "77233409",
   "metadata": {},
   "outputs": [
    {
     "data": {
      "text/plain": [
       "2016-12-01    53292\n",
       "2016-11-01    47989\n",
       "2016-10-01    46161\n",
       "2016-08-01    42197\n",
       "2016-09-01    41152\n",
       "              ...  \n",
       "2009-04-01      122\n",
       "2009-05-01      110\n",
       "2009-03-01      105\n",
       "2009-01-01      104\n",
       "2009-02-01       89\n",
       "Name: date, Length: 96, dtype: int64"
      ]
     },
     "execution_count": 8,
     "metadata": {},
     "output_type": "execute_result"
    }
   ],
   "source": [
    "data.date.value_counts()"
   ]
  },
  {
   "cell_type": "code",
   "execution_count": 9,
   "id": "69008e0a",
   "metadata": {},
   "outputs": [],
   "source": [
    "recent_data = data.loc[pd.to_datetime(data.date).dt.year == 2016]"
   ]
  },
  {
   "cell_type": "code",
   "execution_count": 10,
   "id": "6894e459",
   "metadata": {},
   "outputs": [],
   "source": [
    "df = data[['comment', 'label']]"
   ]
  },
  {
   "cell_type": "code",
   "execution_count": 11,
   "id": "bc6db6ee",
   "metadata": {},
   "outputs": [
    {
     "name": "stderr",
     "output_type": "stream",
     "text": [
      "<ipython-input-11-d730d9aacb9a>:1: SettingWithCopyWarning: \n",
      "A value is trying to be set on a copy of a slice from a DataFrame.\n",
      "Try using .loc[row_indexer,col_indexer] = value instead\n",
      "\n",
      "See the caveats in the documentation: https://pandas.pydata.org/pandas-docs/stable/user_guide/indexing.html#returning-a-view-versus-a-copy\n",
      "  df['comment'] = df['comment'].str.lower()\n"
     ]
    }
   ],
   "source": [
    "df['comment'] = df['comment'].str.lower()"
   ]
  },
  {
   "cell_type": "code",
   "execution_count": 12,
   "id": "03158fae",
   "metadata": {},
   "outputs": [
    {
     "name": "stderr",
     "output_type": "stream",
     "text": [
      "/Users/doski/miniconda3/envs/getinno-env/lib/python3.9/site-packages/pandas/core/frame.py:5171: SettingWithCopyWarning: \n",
      "A value is trying to be set on a copy of a slice from a DataFrame\n",
      "\n",
      "See the caveats in the documentation: https://pandas.pydata.org/pandas-docs/stable/user_guide/indexing.html#returning-a-view-versus-a-copy\n",
      "  return super().fillna(\n"
     ]
    }
   ],
   "source": [
    "df.fillna(' ', inplace=True)"
   ]
  },
  {
   "cell_type": "code",
   "execution_count": 13,
   "id": "2b270080",
   "metadata": {},
   "outputs": [
    {
     "name": "stderr",
     "output_type": "stream",
     "text": [
      "<ipython-input-13-71b550de0f8b>:1: SettingWithCopyWarning: \n",
      "A value is trying to be set on a copy of a slice from a DataFrame.\n",
      "Try using .loc[row_indexer,col_indexer] = value instead\n",
      "\n",
      "See the caveats in the documentation: https://pandas.pydata.org/pandas-docs/stable/user_guide/indexing.html#returning-a-view-versus-a-copy\n",
      "  df['comment_words'] = df['comment'].apply(lambda x: x.split(' '))\n"
     ]
    }
   ],
   "source": [
    "df['comment_words'] = df['comment'].apply(lambda x: x.split(' '))"
   ]
  },
  {
   "cell_type": "code",
   "execution_count": 14,
   "id": "9027a9d3",
   "metadata": {},
   "outputs": [
    {
     "data": {
      "text/html": [
       "<div>\n",
       "<style scoped>\n",
       "    .dataframe tbody tr th:only-of-type {\n",
       "        vertical-align: middle;\n",
       "    }\n",
       "\n",
       "    .dataframe tbody tr th {\n",
       "        vertical-align: top;\n",
       "    }\n",
       "\n",
       "    .dataframe thead th {\n",
       "        text-align: right;\n",
       "    }\n",
       "</style>\n",
       "<table border=\"1\" class=\"dataframe\">\n",
       "  <thead>\n",
       "    <tr style=\"text-align: right;\">\n",
       "      <th></th>\n",
       "      <th>comment</th>\n",
       "      <th>label</th>\n",
       "      <th>comment_words</th>\n",
       "    </tr>\n",
       "  </thead>\n",
       "  <tbody>\n",
       "    <tr>\n",
       "      <th>0</th>\n",
       "      <td>nc and nh.</td>\n",
       "      <td>0</td>\n",
       "      <td>[nc, and, nh.]</td>\n",
       "    </tr>\n",
       "    <tr>\n",
       "      <th>1</th>\n",
       "      <td>you do know west teams play against west teams...</td>\n",
       "      <td>0</td>\n",
       "      <td>[you, do, know, west, teams, play, against, we...</td>\n",
       "    </tr>\n",
       "    <tr>\n",
       "      <th>2</th>\n",
       "      <td>they were underdogs earlier today, but since g...</td>\n",
       "      <td>0</td>\n",
       "      <td>[they, were, underdogs, earlier, today,, but, ...</td>\n",
       "    </tr>\n",
       "    <tr>\n",
       "      <th>3</th>\n",
       "      <td>this meme isn't funny none of the \"new york ni...</td>\n",
       "      <td>0</td>\n",
       "      <td>[this, meme, isn't, funny, none, of, the, \"new...</td>\n",
       "    </tr>\n",
       "    <tr>\n",
       "      <th>4</th>\n",
       "      <td>i could use one of those tools.</td>\n",
       "      <td>0</td>\n",
       "      <td>[i, could, use, one, of, those, tools.]</td>\n",
       "    </tr>\n",
       "  </tbody>\n",
       "</table>\n",
       "</div>"
      ],
      "text/plain": [
       "                                             comment  label  \\\n",
       "0                                         nc and nh.      0   \n",
       "1  you do know west teams play against west teams...      0   \n",
       "2  they were underdogs earlier today, but since g...      0   \n",
       "3  this meme isn't funny none of the \"new york ni...      0   \n",
       "4                    i could use one of those tools.      0   \n",
       "\n",
       "                                       comment_words  \n",
       "0                                     [nc, and, nh.]  \n",
       "1  [you, do, know, west, teams, play, against, we...  \n",
       "2  [they, were, underdogs, earlier, today,, but, ...  \n",
       "3  [this, meme, isn't, funny, none, of, the, \"new...  \n",
       "4            [i, could, use, one, of, those, tools.]  "
      ]
     },
     "execution_count": 14,
     "metadata": {},
     "output_type": "execute_result"
    }
   ],
   "source": [
    "df.head()"
   ]
  },
  {
   "cell_type": "code",
   "execution_count": 15,
   "id": "2993a989",
   "metadata": {},
   "outputs": [
    {
     "name": "stderr",
     "output_type": "stream",
     "text": [
      "<ipython-input-15-dfcfab283c31>:1: SettingWithCopyWarning: \n",
      "A value is trying to be set on a copy of a slice from a DataFrame.\n",
      "Try using .loc[row_indexer,col_indexer] = value instead\n",
      "\n",
      "See the caveats in the documentation: https://pandas.pydata.org/pandas-docs/stable/user_guide/indexing.html#returning-a-view-versus-a-copy\n",
      "  df['word_count'] = df['comment_words'].apply(len)\n"
     ]
    }
   ],
   "source": [
    "df['word_count'] = df['comment_words'].apply(len)"
   ]
  },
  {
   "cell_type": "code",
   "execution_count": 16,
   "id": "3b84a55b",
   "metadata": {},
   "outputs": [
    {
     "data": {
      "text/html": [
       "<div>\n",
       "<style scoped>\n",
       "    .dataframe tbody tr th:only-of-type {\n",
       "        vertical-align: middle;\n",
       "    }\n",
       "\n",
       "    .dataframe tbody tr th {\n",
       "        vertical-align: top;\n",
       "    }\n",
       "\n",
       "    .dataframe thead th {\n",
       "        text-align: right;\n",
       "    }\n",
       "</style>\n",
       "<table border=\"1\" class=\"dataframe\">\n",
       "  <thead>\n",
       "    <tr style=\"text-align: right;\">\n",
       "      <th></th>\n",
       "      <th>comment</th>\n",
       "      <th>label</th>\n",
       "      <th>comment_words</th>\n",
       "      <th>word_count</th>\n",
       "    </tr>\n",
       "  </thead>\n",
       "  <tbody>\n",
       "    <tr>\n",
       "      <th>0</th>\n",
       "      <td>nc and nh.</td>\n",
       "      <td>0</td>\n",
       "      <td>[nc, and, nh.]</td>\n",
       "      <td>3</td>\n",
       "    </tr>\n",
       "    <tr>\n",
       "      <th>1</th>\n",
       "      <td>you do know west teams play against west teams...</td>\n",
       "      <td>0</td>\n",
       "      <td>[you, do, know, west, teams, play, against, we...</td>\n",
       "      <td>14</td>\n",
       "    </tr>\n",
       "    <tr>\n",
       "      <th>2</th>\n",
       "      <td>they were underdogs earlier today, but since g...</td>\n",
       "      <td>0</td>\n",
       "      <td>[they, were, underdogs, earlier, today,, but, ...</td>\n",
       "      <td>19</td>\n",
       "    </tr>\n",
       "    <tr>\n",
       "      <th>3</th>\n",
       "      <td>this meme isn't funny none of the \"new york ni...</td>\n",
       "      <td>0</td>\n",
       "      <td>[this, meme, isn't, funny, none, of, the, \"new...</td>\n",
       "      <td>12</td>\n",
       "    </tr>\n",
       "    <tr>\n",
       "      <th>4</th>\n",
       "      <td>i could use one of those tools.</td>\n",
       "      <td>0</td>\n",
       "      <td>[i, could, use, one, of, those, tools.]</td>\n",
       "      <td>7</td>\n",
       "    </tr>\n",
       "  </tbody>\n",
       "</table>\n",
       "</div>"
      ],
      "text/plain": [
       "                                             comment  label  \\\n",
       "0                                         nc and nh.      0   \n",
       "1  you do know west teams play against west teams...      0   \n",
       "2  they were underdogs earlier today, but since g...      0   \n",
       "3  this meme isn't funny none of the \"new york ni...      0   \n",
       "4                    i could use one of those tools.      0   \n",
       "\n",
       "                                       comment_words  word_count  \n",
       "0                                     [nc, and, nh.]           3  \n",
       "1  [you, do, know, west, teams, play, against, we...          14  \n",
       "2  [they, were, underdogs, earlier, today,, but, ...          19  \n",
       "3  [this, meme, isn't, funny, none, of, the, \"new...          12  \n",
       "4            [i, could, use, one, of, those, tools.]           7  "
      ]
     },
     "execution_count": 16,
     "metadata": {},
     "output_type": "execute_result"
    }
   ],
   "source": [
    "df.head()"
   ]
  },
  {
   "cell_type": "code",
   "execution_count": 17,
   "id": "c6641098",
   "metadata": {},
   "outputs": [
    {
     "name": "stderr",
     "output_type": "stream",
     "text": [
      "<ipython-input-17-a26680be395d>:2: SettingWithCopyWarning: \n",
      "A value is trying to be set on a copy of a slice from a DataFrame.\n",
      "Try using .loc[row_indexer,col_indexer] = value instead\n",
      "\n",
      "See the caveats in the documentation: https://pandas.pydata.org/pandas-docs/stable/user_guide/indexing.html#returning-a-view-versus-a-copy\n",
      "  df['comment_words'] = df['comment_words'].apply(\n"
     ]
    }
   ],
   "source": [
    "# Remove punctuations\n",
    "df['comment_words'] = df['comment_words'].apply(\n",
    "    lambda x: [word for word in x if word not in punctuation]\n",
    ")"
   ]
  },
  {
   "cell_type": "code",
   "execution_count": 18,
   "id": "46d62218",
   "metadata": {},
   "outputs": [
    {
     "name": "stderr",
     "output_type": "stream",
     "text": [
      "<ipython-input-18-12ff3feb71f0>:2: SettingWithCopyWarning: \n",
      "A value is trying to be set on a copy of a slice from a DataFrame.\n",
      "Try using .loc[row_indexer,col_indexer] = value instead\n",
      "\n",
      "See the caveats in the documentation: https://pandas.pydata.org/pandas-docs/stable/user_guide/indexing.html#returning-a-view-versus-a-copy\n",
      "  df['comment_words'] = df['comment_words'].apply(\n"
     ]
    }
   ],
   "source": [
    "# Remove stop words\n",
    "df['comment_words'] = df['comment_words'].apply(\n",
    "    lambda x: [word for word in x if (word not in STOP_WORDS)]\n",
    ")"
   ]
  },
  {
   "cell_type": "code",
   "execution_count": 19,
   "id": "69484f9a",
   "metadata": {},
   "outputs": [],
   "source": [
    "# Load english pre-trained spacy language model\n",
    "en_model = spacy.load('en_core_web_sm', exclude=[\"tagger\", \"parser\", \"ner\", \"attribute_ruler\"])\n",
    "en_model.enable_pipe(\"lemmatizer\")"
   ]
  },
  {
   "cell_type": "code",
   "execution_count": 20,
   "id": "b9273278",
   "metadata": {},
   "outputs": [],
   "source": [
    "import time\n",
    "\n",
    "start = time.time()"
   ]
  },
  {
   "cell_type": "code",
   "execution_count": 21,
   "id": "16a85a4e",
   "metadata": {},
   "outputs": [
    {
     "name": "stderr",
     "output_type": "stream",
     "text": [
      "/Users/doski/miniconda3/envs/getinno-env/lib/python3.9/site-packages/spacy/pipeline/lemmatizer.py:211: UserWarning: [W108] The rule-based lemmatizer did not find POS annotation for one or more tokens. Check that your pipeline includes components that assign token.pos, typically 'tagger'+'attribute_ruler' or 'morphologizer'.\n",
      "  warnings.warn(Warnings.W108)\n",
      "<ipython-input-21-e6611625e7dc>:2: SettingWithCopyWarning: \n",
      "A value is trying to be set on a copy of a slice from a DataFrame.\n",
      "Try using .loc[row_indexer,col_indexer] = value instead\n",
      "\n",
      "See the caveats in the documentation: https://pandas.pydata.org/pandas-docs/stable/user_guide/indexing.html#returning-a-view-versus-a-copy\n",
      "  df['comment_lemma'] = df['comment_words'].apply(lambda x: [token.lemma_ for token in en_model(' '.join(x))])\n"
     ]
    }
   ],
   "source": [
    "# Extract the lemma from the words in the cleaned message\n",
    "df['comment_lemma'] = df['comment_words'].apply(lambda x: [token.lemma_ for token in en_model(' '.join(x))])"
   ]
  },
  {
   "cell_type": "code",
   "execution_count": 22,
   "id": "f19d6edc",
   "metadata": {},
   "outputs": [],
   "source": [
    "end = time.time() - start"
   ]
  },
  {
   "cell_type": "code",
   "execution_count": 23,
   "id": "da3976b2",
   "metadata": {},
   "outputs": [
    {
     "data": {
      "text/plain": [
       "28.156444998582206"
      ]
     },
     "execution_count": 23,
     "metadata": {},
     "output_type": "execute_result"
    }
   ],
   "source": [
    "end/60"
   ]
  },
  {
   "cell_type": "code",
   "execution_count": 24,
   "id": "e807fc1a",
   "metadata": {},
   "outputs": [],
   "source": [
    "start = time.time()"
   ]
  },
  {
   "cell_type": "code",
   "execution_count": 25,
   "id": "90bb595b",
   "metadata": {},
   "outputs": [
    {
     "name": "stderr",
     "output_type": "stream",
     "text": [
      "<ipython-input-25-abcd1ebc6986>:1: SettingWithCopyWarning: \n",
      "A value is trying to be set on a copy of a slice from a DataFrame.\n",
      "Try using .loc[row_indexer,col_indexer] = value instead\n",
      "\n",
      "See the caveats in the documentation: https://pandas.pydata.org/pandas-docs/stable/user_guide/indexing.html#returning-a-view-versus-a-copy\n",
      "  df['embeddings'] = df['comment'].apply(lambda x: [np.mean(token.vector) for token in en_model(x)])\n"
     ]
    }
   ],
   "source": [
    "df['embeddings'] = df['comment'].apply(lambda x: [np.mean(token.vector) for token in en_model(x)])"
   ]
  },
  {
   "cell_type": "code",
   "execution_count": 26,
   "id": "0dbfd4b7",
   "metadata": {},
   "outputs": [],
   "source": [
    "end = time.time() - start"
   ]
  },
  {
   "cell_type": "code",
   "execution_count": 27,
   "id": "4e74d727",
   "metadata": {},
   "outputs": [
    {
     "data": {
      "text/plain": [
       "32.61304548581441"
      ]
     },
     "execution_count": 27,
     "metadata": {},
     "output_type": "execute_result"
    }
   ],
   "source": [
    "end/60"
   ]
  },
  {
   "cell_type": "code",
   "execution_count": 28,
   "id": "1d06fd32",
   "metadata": {},
   "outputs": [
    {
     "name": "stderr",
     "output_type": "stream",
     "text": [
      "<ipython-input-28-ba622c8bacaf>:2: SettingWithCopyWarning: \n",
      "A value is trying to be set on a copy of a slice from a DataFrame.\n",
      "Try using .loc[row_indexer,col_indexer] = value instead\n",
      "\n",
      "See the caveats in the documentation: https://pandas.pydata.org/pandas-docs/stable/user_guide/indexing.html#returning-a-view-versus-a-copy\n",
      "  df['comment_lemma'] = df['comment_lemma'].apply(\n"
     ]
    }
   ],
   "source": [
    "# Remove punctuations\n",
    "df['comment_lemma'] = df['comment_lemma'].apply(\n",
    "    lambda x: [word for word in x if word not in punctuation]\n",
    ")"
   ]
  },
  {
   "cell_type": "code",
   "execution_count": 29,
   "id": "bfdeceb9",
   "metadata": {},
   "outputs": [
    {
     "name": "stderr",
     "output_type": "stream",
     "text": [
      "<ipython-input-29-c12c84b4e63d>:2: SettingWithCopyWarning: \n",
      "A value is trying to be set on a copy of a slice from a DataFrame.\n",
      "Try using .loc[row_indexer,col_indexer] = value instead\n",
      "\n",
      "See the caveats in the documentation: https://pandas.pydata.org/pandas-docs/stable/user_guide/indexing.html#returning-a-view-versus-a-copy\n",
      "  df['comment_lemma'] = df['comment_lemma'].apply(\n"
     ]
    }
   ],
   "source": [
    "# Remove stop words\n",
    "df['comment_lemma'] = df['comment_lemma'].apply(\n",
    "    lambda x: [word for word in x if (word not in STOP_WORDS)]\n",
    ")"
   ]
  },
  {
   "cell_type": "code",
   "execution_count": 30,
   "id": "8cb09beb",
   "metadata": {},
   "outputs": [
    {
     "data": {
      "text/html": [
       "<div>\n",
       "<style scoped>\n",
       "    .dataframe tbody tr th:only-of-type {\n",
       "        vertical-align: middle;\n",
       "    }\n",
       "\n",
       "    .dataframe tbody tr th {\n",
       "        vertical-align: top;\n",
       "    }\n",
       "\n",
       "    .dataframe thead th {\n",
       "        text-align: right;\n",
       "    }\n",
       "</style>\n",
       "<table border=\"1\" class=\"dataframe\">\n",
       "  <thead>\n",
       "    <tr style=\"text-align: right;\">\n",
       "      <th></th>\n",
       "      <th>comment</th>\n",
       "      <th>label</th>\n",
       "      <th>comment_words</th>\n",
       "      <th>word_count</th>\n",
       "      <th>comment_lemma</th>\n",
       "      <th>embeddings</th>\n",
       "    </tr>\n",
       "  </thead>\n",
       "  <tbody>\n",
       "    <tr>\n",
       "      <th>0</th>\n",
       "      <td>nc and nh.</td>\n",
       "      <td>0</td>\n",
       "      <td>[nc, nh.]</td>\n",
       "      <td>3</td>\n",
       "      <td>[nc, nh]</td>\n",
       "      <td>[-0.015460032, 0.003731611, 0.020356858, 0.009...</td>\n",
       "    </tr>\n",
       "    <tr>\n",
       "      <th>1</th>\n",
       "      <td>you do know west teams play against west teams...</td>\n",
       "      <td>0</td>\n",
       "      <td>[know, west, teams, play, west, teams, east, t...</td>\n",
       "      <td>14</td>\n",
       "      <td>[know, west, teams, play, west, teams, east, t...</td>\n",
       "      <td>[0.010391404, 0.03184216, -0.0034754674, -0.02...</td>\n",
       "    </tr>\n",
       "    <tr>\n",
       "      <th>2</th>\n",
       "      <td>they were underdogs earlier today, but since g...</td>\n",
       "      <td>0</td>\n",
       "      <td>[underdogs, earlier, today,, gronk's, announce...</td>\n",
       "      <td>19</td>\n",
       "      <td>[underdogs, earlier, today, gronk, announcemen...</td>\n",
       "      <td>[-0.014239922, -0.02061134, -0.005229493, 0.01...</td>\n",
       "    </tr>\n",
       "    <tr>\n",
       "      <th>3</th>\n",
       "      <td>this meme isn't funny none of the \"new york ni...</td>\n",
       "      <td>0</td>\n",
       "      <td>[meme, isn't, funny, \"new, york, nigga\", ones,...</td>\n",
       "      <td>12</td>\n",
       "      <td>[meme, funny, new, york, nigga, ones]</td>\n",
       "      <td>[-0.0061914944, -0.022155004, -0.0043228767, 0...</td>\n",
       "    </tr>\n",
       "    <tr>\n",
       "      <th>4</th>\n",
       "      <td>i could use one of those tools.</td>\n",
       "      <td>0</td>\n",
       "      <td>[use, tools.]</td>\n",
       "      <td>7</td>\n",
       "      <td>[use, tools]</td>\n",
       "      <td>[-0.0146077005, 0.011123444, -0.013298005, -0....</td>\n",
       "    </tr>\n",
       "  </tbody>\n",
       "</table>\n",
       "</div>"
      ],
      "text/plain": [
       "                                             comment  label  \\\n",
       "0                                         nc and nh.      0   \n",
       "1  you do know west teams play against west teams...      0   \n",
       "2  they were underdogs earlier today, but since g...      0   \n",
       "3  this meme isn't funny none of the \"new york ni...      0   \n",
       "4                    i could use one of those tools.      0   \n",
       "\n",
       "                                       comment_words  word_count  \\\n",
       "0                                          [nc, nh.]           3   \n",
       "1  [know, west, teams, play, west, teams, east, t...          14   \n",
       "2  [underdogs, earlier, today,, gronk's, announce...          19   \n",
       "3  [meme, isn't, funny, \"new, york, nigga\", ones,...          12   \n",
       "4                                      [use, tools.]           7   \n",
       "\n",
       "                                       comment_lemma  \\\n",
       "0                                           [nc, nh]   \n",
       "1  [know, west, teams, play, west, teams, east, t...   \n",
       "2  [underdogs, earlier, today, gronk, announcemen...   \n",
       "3              [meme, funny, new, york, nigga, ones]   \n",
       "4                                       [use, tools]   \n",
       "\n",
       "                                          embeddings  \n",
       "0  [-0.015460032, 0.003731611, 0.020356858, 0.009...  \n",
       "1  [0.010391404, 0.03184216, -0.0034754674, -0.02...  \n",
       "2  [-0.014239922, -0.02061134, -0.005229493, 0.01...  \n",
       "3  [-0.0061914944, -0.022155004, -0.0043228767, 0...  \n",
       "4  [-0.0146077005, 0.011123444, -0.013298005, -0....  "
      ]
     },
     "execution_count": 30,
     "metadata": {},
     "output_type": "execute_result"
    }
   ],
   "source": [
    "df.head()"
   ]
  },
  {
   "cell_type": "code",
   "execution_count": 31,
   "id": "f8d9f4d3",
   "metadata": {},
   "outputs": [
    {
     "name": "stderr",
     "output_type": "stream",
     "text": [
      "<ipython-input-31-c0900dda70a0>:1: SettingWithCopyWarning: \n",
      "A value is trying to be set on a copy of a slice from a DataFrame.\n",
      "Try using .loc[row_indexer,col_indexer] = value instead\n",
      "\n",
      "See the caveats in the documentation: https://pandas.pydata.org/pandas-docs/stable/user_guide/indexing.html#returning-a-view-versus-a-copy\n",
      "  df['lemma'] = df['comment_lemma'].apply(lambda x: ' '.join(x))\n"
     ]
    }
   ],
   "source": [
    "df['lemma'] = df['comment_lemma'].apply(lambda x: ' '.join(x))"
   ]
  },
  {
   "cell_type": "code",
   "execution_count": 32,
   "id": "ea6a05e6",
   "metadata": {},
   "outputs": [],
   "source": [
    "df[['lemma', 'label', 'comment', 'comment_words', 'embeddings']].to_csv('../Datasets/clean_reddit_data.csv', index=False)"
   ]
  },
  {
   "cell_type": "code",
   "execution_count": null,
   "id": "3ddd9648",
   "metadata": {},
   "outputs": [],
   "source": []
  },
  {
   "cell_type": "code",
   "execution_count": 33,
   "id": "5c56891c",
   "metadata": {},
   "outputs": [],
   "source": [
    "# df.groupby(['label'], as_index=False).agg(\n",
    "#     word_count_min = ('word_count', 'min'),\n",
    "#     word_count_avg = ('word_count', 'mean'),\n",
    "#     word_count_mid = ('word_count', 'median'),\n",
    "#     word_count_max = ('word_count', 'max'),\n",
    "#     common_words = ('comment_words', 'sum')\n",
    "# )"
   ]
  },
  {
   "cell_type": "code",
   "execution_count": 34,
   "id": "4902ba04",
   "metadata": {},
   "outputs": [],
   "source": [
    "# tmp = pd.DataFrame(df.comment_words.sum(), columns=['words'])"
   ]
  },
  {
   "cell_type": "code",
   "execution_count": 35,
   "id": "e6e39f3e",
   "metadata": {},
   "outputs": [],
   "source": [
    "# tmp.value_counts(dropna=False)"
   ]
  },
  {
   "cell_type": "code",
   "execution_count": 36,
   "id": "e8668560",
   "metadata": {},
   "outputs": [],
   "source": [
    "# Counter(df.comment_words.sum()).most_common(100)"
   ]
  },
  {
   "cell_type": "code",
   "execution_count": null,
   "id": "b647866f",
   "metadata": {},
   "outputs": [],
   "source": []
  }
 ],
 "metadata": {
  "kernelspec": {
   "display_name": "Python 3",
   "language": "python",
   "name": "python3"
  },
  "language_info": {
   "codemirror_mode": {
    "name": "ipython",
    "version": 3
   },
   "file_extension": ".py",
   "mimetype": "text/x-python",
   "name": "python",
   "nbconvert_exporter": "python",
   "pygments_lexer": "ipython3",
   "version": "3.9.6"
  }
 },
 "nbformat": 4,
 "nbformat_minor": 5
}
