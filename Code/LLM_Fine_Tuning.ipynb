{
 "cells": [
  {
   "cell_type": "code",
   "execution_count": 1,
   "id": "bca6118e",
   "metadata": {
    "colab": {
     "base_uri": "https://localhost:8080/"
    },
    "id": "bca6118e",
    "outputId": "51086a88-0fa7-4514-ac79-04c141744f68"
   },
   "outputs": [
    {
     "name": "stderr",
     "output_type": "stream",
     "text": [
      "/Users/doski/miniconda3/envs/getinno-env/lib/python3.9/site-packages/tqdm/auto.py:22: TqdmWarning: IProgress not found. Please update jupyter and ipywidgets. See https://ipywidgets.readthedocs.io/en/stable/user_install.html\n",
      "  from .autonotebook import tqdm as notebook_tqdm\n",
      "[nltk_data] Downloading package punkt to /Users/doski/nltk_data...\n",
      "[nltk_data]   Package punkt is already up-to-date!\n"
     ]
    },
    {
     "data": {
      "text/plain": [
       "True"
      ]
     },
     "execution_count": 1,
     "metadata": {},
     "output_type": "execute_result"
    }
   ],
   "source": [
    "import re\n",
    "import string\n",
    "\n",
    "import numpy as np\n",
    "import pandas as pd\n",
    "from matplotlib import pyplot as plt\n",
    "import seaborn as sns\n",
    "\n",
    "from collections import Counter\n",
    "\n",
    "import spacy\n",
    "from spacy.lang.en.stop_words import STOP_WORDS\n",
    "\n",
    "from sklearn.model_selection import train_test_split, GridSearchCV\n",
    "from sklearn.feature_extraction.text import CountVectorizer\n",
    "\n",
    "from sklearn.svm import LinearSVC\n",
    "from sklearn.naive_bayes import GaussianNB\n",
    "from sklearn.tree import DecisionTreeClassifier\n",
    "from sklearn.neural_network import MLPClassifier\n",
    "from sklearn.linear_model import LogisticRegression\n",
    "from sklearn.ensemble import GradientBoostingClassifier, RandomForestClassifier\n",
    "\n",
    "from sklearn.metrics import confusion_matrix, classification_report, RocCurveDisplay\n",
    "\n",
    "from sklearn.pipeline import Pipeline\n",
    "from sklearn.compose import ColumnTransformer\n",
    "from sklearn.preprocessing import StandardScaler, MaxAbsScaler, Normalizer\n",
    "\n",
    "import tensorflow.keras\n",
    "from tensorflow.keras.models import Sequential\n",
    "from tensorflow.keras.preprocessing.text import Tokenizer\n",
    "from tensorflow.keras.preprocessing.sequence import pad_sequences\n",
    "from tensorflow.keras.layers import Dense, LSTM, Embedding, Bidirectional\n",
    "\n",
    "from sentence_transformers import SentenceTransformer\n",
    "\n",
    "from transformers import (AutoModelForSequenceClassification,\n",
    "                          AutoTokenizer, AutoModelForSeq2SeqLM,\n",
    "                          DataCollatorForSeq2Seq, Seq2SeqTrainer,\n",
    "                          Seq2SeqTrainingArguments)\n",
    "\n",
    "from datasets import Dataset, load_dataset, concatenate_datasets\n",
    "\n",
    "from huggingface_hub import HfFolder\n",
    "\n",
    "import evaluate\n",
    "import nltk\n",
    "from nltk.tokenize import sent_tokenize\n",
    "\n",
    "nltk.download('punkt')"
   ]
  },
  {
   "cell_type": "code",
   "execution_count": 2,
   "id": "0041eb69",
   "metadata": {
    "id": "0041eb69"
   },
   "outputs": [],
   "source": [
    "data = pd.read_json('../Datasets/sarcasm_data.json')"
   ]
  },
  {
   "cell_type": "code",
   "execution_count": 3,
   "id": "afb34a8f",
   "metadata": {
    "colab": {
     "base_uri": "https://localhost:8080/",
     "height": 533
    },
    "id": "afb34a8f",
    "outputId": "a5091140-2f5a-4290-bbc0-20bb198ed262"
   },
   "outputs": [
    {
     "data": {
      "text/html": [
       "<div>\n",
       "<style scoped>\n",
       "    .dataframe tbody tr th:only-of-type {\n",
       "        vertical-align: middle;\n",
       "    }\n",
       "\n",
       "    .dataframe tbody tr th {\n",
       "        vertical-align: top;\n",
       "    }\n",
       "\n",
       "    .dataframe thead th {\n",
       "        text-align: right;\n",
       "    }\n",
       "</style>\n",
       "<table border=\"1\" class=\"dataframe\">\n",
       "  <thead>\n",
       "    <tr style=\"text-align: right;\">\n",
       "      <th></th>\n",
       "      <th>160</th>\n",
       "      <th>170</th>\n",
       "      <th>180</th>\n",
       "      <th>190</th>\n",
       "      <th>1105</th>\n",
       "      <th>1162</th>\n",
       "      <th>1175</th>\n",
       "      <th>1182</th>\n",
       "      <th>1213</th>\n",
       "      <th>1276</th>\n",
       "      <th>...</th>\n",
       "      <th>2623</th>\n",
       "      <th>2131</th>\n",
       "      <th>2236</th>\n",
       "      <th>2546</th>\n",
       "      <th>2242</th>\n",
       "      <th>2169</th>\n",
       "      <th>2235</th>\n",
       "      <th>234</th>\n",
       "      <th>2608</th>\n",
       "      <th>2524</th>\n",
       "    </tr>\n",
       "  </thead>\n",
       "  <tbody>\n",
       "    <tr>\n",
       "      <th>utterance</th>\n",
       "      <td>It's just a privilege to watch your mind at work.</td>\n",
       "      <td>I don't think I'll be able to stop thinking ab...</td>\n",
       "      <td>Since it's not bee season, you can have my epi...</td>\n",
       "      <td>Lois Lane is falling, accelerating at an initi...</td>\n",
       "      <td>I'm just inferring this is a couch because the...</td>\n",
       "      <td>Sheldon, if you were a robot, and I knew and y...</td>\n",
       "      <td>If you're compiling a mix CD for a double suic...</td>\n",
       "      <td>No. The dark crescent-shaped patterns under yo...</td>\n",
       "      <td>How's this? \"Pleased to meet you, Dr. Gablehau...</td>\n",
       "      <td>Yeah, my parents felt that naming me Leonard a...</td>\n",
       "      <td>...</td>\n",
       "      <td>What do you know? Its a treat for the eyes and...</td>\n",
       "      <td>I really don't wanna sit with Allen Iverson ov...</td>\n",
       "      <td>Gee, if only she were one and had no idea what...</td>\n",
       "      <td>Oh sure, she was probably up all night excited...</td>\n",
       "      <td>Are you still enjoying your nap?</td>\n",
       "      <td>Hes not right for the part, and if I suggest h...</td>\n",
       "      <td>Oh yeah he has a caretaker his older brother, ...</td>\n",
       "      <td>Is it me or the greetings gone downhill around...</td>\n",
       "      <td>You are right, by saying nice, I am virtually ...</td>\n",
       "      <td>Yes and we are \"very\" excited about it.</td>\n",
       "    </tr>\n",
       "    <tr>\n",
       "      <th>speaker</th>\n",
       "      <td>SHELDON</td>\n",
       "      <td>PENNY</td>\n",
       "      <td>SHELDON</td>\n",
       "      <td>SHELDON</td>\n",
       "      <td>SHELDON</td>\n",
       "      <td>HOWARD</td>\n",
       "      <td>SHELDON</td>\n",
       "      <td>SHELDON</td>\n",
       "      <td>SHELDON</td>\n",
       "      <td>LEONARD</td>\n",
       "      <td>...</td>\n",
       "      <td>CHANDLER</td>\n",
       "      <td>CHANDLER</td>\n",
       "      <td>CHANDLER</td>\n",
       "      <td>CHANDLER</td>\n",
       "      <td>CHANDLER</td>\n",
       "      <td>CHANDLER</td>\n",
       "      <td>CHANDLER</td>\n",
       "      <td>CHANDLER</td>\n",
       "      <td>CHANDLER</td>\n",
       "      <td>CHANDLER</td>\n",
       "    </tr>\n",
       "    <tr>\n",
       "      <th>context</th>\n",
       "      <td>[I never would have identified the fingerprint...</td>\n",
       "      <td>[This is one of my favorite places to kick bac...</td>\n",
       "      <td>[Here we go. Pad thai, no peanuts., But does i...</td>\n",
       "      <td>[A marathon? How many Superman movies are ther...</td>\n",
       "      <td>[Great Caesar's ghost, look at this place., So...</td>\n",
       "      <td>[On the other hand, no arousal., None?, None.,...</td>\n",
       "      <td>[Oh, good Lord., God, that's a good song.]</td>\n",
       "      <td>[How do I look?, Could you be more specific?, ...</td>\n",
       "      <td>[You know, I am not going to enjoy this party....</td>\n",
       "      <td>[He switched over to high-energy radiation res...</td>\n",
       "      <td>...</td>\n",
       "      <td>[Chandler?, Hey! Ah!, What do you think?, I th...</td>\n",
       "      <td>[Wish I could switch with someone.]</td>\n",
       "      <td>[You can't go away this weekend, its Emma's bi...</td>\n",
       "      <td>[Hey, Hey, where's the birthday girl?, Oh she ...</td>\n",
       "      <td>[Okay?, Hi Emma, it's the year 2020.]</td>\n",
       "      <td>[What am I gonna do now?, Just pass the tape a...</td>\n",
       "      <td>[Helo! Anybody in there order a celebrity?, Wh...</td>\n",
       "      <td>[Hey, You son of a bitch!]</td>\n",
       "      <td>[Did I go to this school?, Hey, there's Missy ...</td>\n",
       "      <td>[Anyway, if you don't feel like being alone to...</td>\n",
       "    </tr>\n",
       "    <tr>\n",
       "      <th>context_speakers</th>\n",
       "      <td>[LEONARD, SHELDON]</td>\n",
       "      <td>[HOWARD, PENNY, HOWARD, HOWARD, HOWARD, PENNY,...</td>\n",
       "      <td>[LEONARD, HOWARD, LEONARD]</td>\n",
       "      <td>[PENNY, SHELDON, PENNY, SHELDON, SHELDON, PENN...</td>\n",
       "      <td>[SHELDON, LEONARD, SHELDON, SHELDON, SHELDON, ...</td>\n",
       "      <td>[PERSON, LEONARD, PERSON, LEONARD, PERSON, LEO...</td>\n",
       "      <td>[SHELDON, LEONARD]</td>\n",
       "      <td>[LEONARD, SHELDON, LEONARD]</td>\n",
       "      <td>[SHELDON, LEONARD, SHELDON, LEONARD, SHELDON, ...</td>\n",
       "      <td>[PERSON, PERSON, LEONARD, PERSON, LEONARD, PER...</td>\n",
       "      <td>...</td>\n",
       "      <td>[PHOEBE, CHANDLER, MONICA, CHANDLER]</td>\n",
       "      <td>[CHANDLER]</td>\n",
       "      <td>[RACHEL, MONICA, RACHEL]</td>\n",
       "      <td>[MONICA, CHANDLER, RACHEL]</td>\n",
       "      <td>[ROSS, CHANDLER]</td>\n",
       "      <td>[CHANDLER, RACHEL]</td>\n",
       "      <td>[JOEY, PERSON, CHANDLER, PERSON]</td>\n",
       "      <td>[CHANDLER, JOEY]</td>\n",
       "      <td>[CHANDLER, ROSS, CHANDLER, ROSS]</td>\n",
       "      <td>[ROSS]</td>\n",
       "    </tr>\n",
       "    <tr>\n",
       "      <th>show</th>\n",
       "      <td>BBT</td>\n",
       "      <td>BBT</td>\n",
       "      <td>BBT</td>\n",
       "      <td>BBT</td>\n",
       "      <td>BBT</td>\n",
       "      <td>BBT</td>\n",
       "      <td>BBT</td>\n",
       "      <td>BBT</td>\n",
       "      <td>BBT</td>\n",
       "      <td>BBT</td>\n",
       "      <td>...</td>\n",
       "      <td>FRIENDS</td>\n",
       "      <td>FRIENDS</td>\n",
       "      <td>FRIENDS</td>\n",
       "      <td>FRIENDS</td>\n",
       "      <td>FRIENDS</td>\n",
       "      <td>FRIENDS</td>\n",
       "      <td>FRIENDS</td>\n",
       "      <td>FRIENDS</td>\n",
       "      <td>FRIENDS</td>\n",
       "      <td>FRIENDS</td>\n",
       "    </tr>\n",
       "  </tbody>\n",
       "</table>\n",
       "<p>5 rows × 690 columns</p>\n",
       "</div>"
      ],
      "text/plain": [
       "                                                               160   \\\n",
       "utterance         It's just a privilege to watch your mind at work.   \n",
       "speaker                                                     SHELDON   \n",
       "context           [I never would have identified the fingerprint...   \n",
       "context_speakers                                 [LEONARD, SHELDON]   \n",
       "show                                                            BBT   \n",
       "\n",
       "                                                               170   \\\n",
       "utterance         I don't think I'll be able to stop thinking ab...   \n",
       "speaker                                                       PENNY   \n",
       "context           [This is one of my favorite places to kick bac...   \n",
       "context_speakers  [HOWARD, PENNY, HOWARD, HOWARD, HOWARD, PENNY,...   \n",
       "show                                                            BBT   \n",
       "\n",
       "                                                               180   \\\n",
       "utterance         Since it's not bee season, you can have my epi...   \n",
       "speaker                                                     SHELDON   \n",
       "context           [Here we go. Pad thai, no peanuts., But does i...   \n",
       "context_speakers                         [LEONARD, HOWARD, LEONARD]   \n",
       "show                                                            BBT   \n",
       "\n",
       "                                                               190   \\\n",
       "utterance         Lois Lane is falling, accelerating at an initi...   \n",
       "speaker                                                     SHELDON   \n",
       "context           [A marathon? How many Superman movies are ther...   \n",
       "context_speakers  [PENNY, SHELDON, PENNY, SHELDON, SHELDON, PENN...   \n",
       "show                                                            BBT   \n",
       "\n",
       "                                                               1105  \\\n",
       "utterance         I'm just inferring this is a couch because the...   \n",
       "speaker                                                     SHELDON   \n",
       "context           [Great Caesar's ghost, look at this place., So...   \n",
       "context_speakers  [SHELDON, LEONARD, SHELDON, SHELDON, SHELDON, ...   \n",
       "show                                                            BBT   \n",
       "\n",
       "                                                               1162  \\\n",
       "utterance         Sheldon, if you were a robot, and I knew and y...   \n",
       "speaker                                                      HOWARD   \n",
       "context           [On the other hand, no arousal., None?, None.,...   \n",
       "context_speakers  [PERSON, LEONARD, PERSON, LEONARD, PERSON, LEO...   \n",
       "show                                                            BBT   \n",
       "\n",
       "                                                               1175  \\\n",
       "utterance         If you're compiling a mix CD for a double suic...   \n",
       "speaker                                                     SHELDON   \n",
       "context                  [Oh, good Lord., God, that's a good song.]   \n",
       "context_speakers                                 [SHELDON, LEONARD]   \n",
       "show                                                            BBT   \n",
       "\n",
       "                                                               1182  \\\n",
       "utterance         No. The dark crescent-shaped patterns under yo...   \n",
       "speaker                                                     SHELDON   \n",
       "context           [How do I look?, Could you be more specific?, ...   \n",
       "context_speakers                        [LEONARD, SHELDON, LEONARD]   \n",
       "show                                                            BBT   \n",
       "\n",
       "                                                               1213  \\\n",
       "utterance         How's this? \"Pleased to meet you, Dr. Gablehau...   \n",
       "speaker                                                     SHELDON   \n",
       "context           [You know, I am not going to enjoy this party....   \n",
       "context_speakers  [SHELDON, LEONARD, SHELDON, LEONARD, SHELDON, ...   \n",
       "show                                                            BBT   \n",
       "\n",
       "                                                               1276  ...  \\\n",
       "utterance         Yeah, my parents felt that naming me Leonard a...  ...   \n",
       "speaker                                                     LEONARD  ...   \n",
       "context           [He switched over to high-energy radiation res...  ...   \n",
       "context_speakers  [PERSON, PERSON, LEONARD, PERSON, LEONARD, PER...  ...   \n",
       "show                                                            BBT  ...   \n",
       "\n",
       "                                                               2623  \\\n",
       "utterance         What do you know? Its a treat for the eyes and...   \n",
       "speaker                                                    CHANDLER   \n",
       "context           [Chandler?, Hey! Ah!, What do you think?, I th...   \n",
       "context_speakers               [PHOEBE, CHANDLER, MONICA, CHANDLER]   \n",
       "show                                                        FRIENDS   \n",
       "\n",
       "                                                               2131  \\\n",
       "utterance         I really don't wanna sit with Allen Iverson ov...   \n",
       "speaker                                                    CHANDLER   \n",
       "context                         [Wish I could switch with someone.]   \n",
       "context_speakers                                         [CHANDLER]   \n",
       "show                                                        FRIENDS   \n",
       "\n",
       "                                                               2236  \\\n",
       "utterance         Gee, if only she were one and had no idea what...   \n",
       "speaker                                                    CHANDLER   \n",
       "context           [You can't go away this weekend, its Emma's bi...   \n",
       "context_speakers                           [RACHEL, MONICA, RACHEL]   \n",
       "show                                                        FRIENDS   \n",
       "\n",
       "                                                               2546  \\\n",
       "utterance         Oh sure, she was probably up all night excited...   \n",
       "speaker                                                    CHANDLER   \n",
       "context           [Hey, Hey, where's the birthday girl?, Oh she ...   \n",
       "context_speakers                         [MONICA, CHANDLER, RACHEL]   \n",
       "show                                                        FRIENDS   \n",
       "\n",
       "                                                   2242  \\\n",
       "utterance              Are you still enjoying your nap?   \n",
       "speaker                                        CHANDLER   \n",
       "context           [Okay?, Hi Emma, it's the year 2020.]   \n",
       "context_speakers                       [ROSS, CHANDLER]   \n",
       "show                                            FRIENDS   \n",
       "\n",
       "                                                               2169  \\\n",
       "utterance         Hes not right for the part, and if I suggest h...   \n",
       "speaker                                                    CHANDLER   \n",
       "context           [What am I gonna do now?, Just pass the tape a...   \n",
       "context_speakers                                 [CHANDLER, RACHEL]   \n",
       "show                                                        FRIENDS   \n",
       "\n",
       "                                                               2235  \\\n",
       "utterance         Oh yeah he has a caretaker his older brother, ...   \n",
       "speaker                                                    CHANDLER   \n",
       "context           [Helo! Anybody in there order a celebrity?, Wh...   \n",
       "context_speakers                   [JOEY, PERSON, CHANDLER, PERSON]   \n",
       "show                                                        FRIENDS   \n",
       "\n",
       "                                                               234   \\\n",
       "utterance         Is it me or the greetings gone downhill around...   \n",
       "speaker                                                    CHANDLER   \n",
       "context                                  [Hey, You son of a bitch!]   \n",
       "context_speakers                                   [CHANDLER, JOEY]   \n",
       "show                                                        FRIENDS   \n",
       "\n",
       "                                                               2608  \\\n",
       "utterance         You are right, by saying nice, I am virtually ...   \n",
       "speaker                                                    CHANDLER   \n",
       "context           [Did I go to this school?, Hey, there's Missy ...   \n",
       "context_speakers                   [CHANDLER, ROSS, CHANDLER, ROSS]   \n",
       "show                                                        FRIENDS   \n",
       "\n",
       "                                                               2524  \n",
       "utterance                   Yes and we are \"very\" excited about it.  \n",
       "speaker                                                    CHANDLER  \n",
       "context           [Anyway, if you don't feel like being alone to...  \n",
       "context_speakers                                             [ROSS]  \n",
       "show                                                        FRIENDS  \n",
       "\n",
       "[5 rows x 690 columns]"
      ]
     },
     "execution_count": 3,
     "metadata": {},
     "output_type": "execute_result"
    }
   ],
   "source": [
    "data.head()"
   ]
  },
  {
   "cell_type": "code",
   "execution_count": 4,
   "id": "471de838",
   "metadata": {
    "id": "471de838"
   },
   "outputs": [],
   "source": [
    "data = data.T"
   ]
  },
  {
   "cell_type": "code",
   "execution_count": 5,
   "id": "45ce5d33",
   "metadata": {
    "colab": {
     "base_uri": "https://localhost:8080/",
     "height": 293
    },
    "id": "45ce5d33",
    "outputId": "b163bca8-eda1-4caa-bbeb-35d938e3751e"
   },
   "outputs": [
    {
     "data": {
      "text/html": [
       "<div>\n",
       "<style scoped>\n",
       "    .dataframe tbody tr th:only-of-type {\n",
       "        vertical-align: middle;\n",
       "    }\n",
       "\n",
       "    .dataframe tbody tr th {\n",
       "        vertical-align: top;\n",
       "    }\n",
       "\n",
       "    .dataframe thead th {\n",
       "        text-align: right;\n",
       "    }\n",
       "</style>\n",
       "<table border=\"1\" class=\"dataframe\">\n",
       "  <thead>\n",
       "    <tr style=\"text-align: right;\">\n",
       "      <th></th>\n",
       "      <th>utterance</th>\n",
       "      <th>speaker</th>\n",
       "      <th>context</th>\n",
       "      <th>context_speakers</th>\n",
       "      <th>show</th>\n",
       "      <th>sarcasm</th>\n",
       "    </tr>\n",
       "  </thead>\n",
       "  <tbody>\n",
       "    <tr>\n",
       "      <th>160</th>\n",
       "      <td>It's just a privilege to watch your mind at work.</td>\n",
       "      <td>SHELDON</td>\n",
       "      <td>[I never would have identified the fingerprint...</td>\n",
       "      <td>[LEONARD, SHELDON]</td>\n",
       "      <td>BBT</td>\n",
       "      <td>True</td>\n",
       "    </tr>\n",
       "    <tr>\n",
       "      <th>170</th>\n",
       "      <td>I don't think I'll be able to stop thinking ab...</td>\n",
       "      <td>PENNY</td>\n",
       "      <td>[This is one of my favorite places to kick bac...</td>\n",
       "      <td>[HOWARD, PENNY, HOWARD, HOWARD, HOWARD, PENNY,...</td>\n",
       "      <td>BBT</td>\n",
       "      <td>True</td>\n",
       "    </tr>\n",
       "    <tr>\n",
       "      <th>180</th>\n",
       "      <td>Since it's not bee season, you can have my epi...</td>\n",
       "      <td>SHELDON</td>\n",
       "      <td>[Here we go. Pad thai, no peanuts., But does i...</td>\n",
       "      <td>[LEONARD, HOWARD, LEONARD]</td>\n",
       "      <td>BBT</td>\n",
       "      <td>False</td>\n",
       "    </tr>\n",
       "    <tr>\n",
       "      <th>190</th>\n",
       "      <td>Lois Lane is falling, accelerating at an initi...</td>\n",
       "      <td>SHELDON</td>\n",
       "      <td>[A marathon? How many Superman movies are ther...</td>\n",
       "      <td>[PENNY, SHELDON, PENNY, SHELDON, SHELDON, PENN...</td>\n",
       "      <td>BBT</td>\n",
       "      <td>False</td>\n",
       "    </tr>\n",
       "    <tr>\n",
       "      <th>1105</th>\n",
       "      <td>I'm just inferring this is a couch because the...</td>\n",
       "      <td>SHELDON</td>\n",
       "      <td>[Great Caesar's ghost, look at this place., So...</td>\n",
       "      <td>[SHELDON, LEONARD, SHELDON, SHELDON, SHELDON, ...</td>\n",
       "      <td>BBT</td>\n",
       "      <td>True</td>\n",
       "    </tr>\n",
       "  </tbody>\n",
       "</table>\n",
       "</div>"
      ],
      "text/plain": [
       "                                              utterance  speaker  \\\n",
       "160   It's just a privilege to watch your mind at work.  SHELDON   \n",
       "170   I don't think I'll be able to stop thinking ab...    PENNY   \n",
       "180   Since it's not bee season, you can have my epi...  SHELDON   \n",
       "190   Lois Lane is falling, accelerating at an initi...  SHELDON   \n",
       "1105  I'm just inferring this is a couch because the...  SHELDON   \n",
       "\n",
       "                                                context  \\\n",
       "160   [I never would have identified the fingerprint...   \n",
       "170   [This is one of my favorite places to kick bac...   \n",
       "180   [Here we go. Pad thai, no peanuts., But does i...   \n",
       "190   [A marathon? How many Superman movies are ther...   \n",
       "1105  [Great Caesar's ghost, look at this place., So...   \n",
       "\n",
       "                                       context_speakers show sarcasm  \n",
       "160                                  [LEONARD, SHELDON]  BBT    True  \n",
       "170   [HOWARD, PENNY, HOWARD, HOWARD, HOWARD, PENNY,...  BBT    True  \n",
       "180                          [LEONARD, HOWARD, LEONARD]  BBT   False  \n",
       "190   [PENNY, SHELDON, PENNY, SHELDON, SHELDON, PENN...  BBT   False  \n",
       "1105  [SHELDON, LEONARD, SHELDON, SHELDON, SHELDON, ...  BBT    True  "
      ]
     },
     "execution_count": 5,
     "metadata": {},
     "output_type": "execute_result"
    }
   ],
   "source": [
    "data.head()"
   ]
  },
  {
   "cell_type": "code",
   "execution_count": 6,
   "id": "8e98683b",
   "metadata": {
    "colab": {
     "base_uri": "https://localhost:8080/"
    },
    "id": "8e98683b",
    "outputId": "4dd6f170-2117-40b8-b376-5cf98ba5ff8e"
   },
   "outputs": [
    {
     "name": "stdout",
     "output_type": "stream",
     "text": [
      "<class 'pandas.core.frame.DataFrame'>\n",
      "Int64Index: 690 entries, 160 to 2524\n",
      "Data columns (total 6 columns):\n",
      " #   Column            Non-Null Count  Dtype \n",
      "---  ------            --------------  ----- \n",
      " 0   utterance         690 non-null    object\n",
      " 1   speaker           690 non-null    object\n",
      " 2   context           690 non-null    object\n",
      " 3   context_speakers  690 non-null    object\n",
      " 4   show              690 non-null    object\n",
      " 5   sarcasm           690 non-null    object\n",
      "dtypes: object(6)\n",
      "memory usage: 53.9+ KB\n"
     ]
    }
   ],
   "source": [
    "data.info()"
   ]
  },
  {
   "cell_type": "code",
   "execution_count": 7,
   "id": "7d9eca03",
   "metadata": {
    "colab": {
     "base_uri": "https://localhost:8080/"
    },
    "id": "7d9eca03",
    "outputId": "92a3d4ab-4b66-4390-d3b5-3f34c7fa5766"
   },
   "outputs": [
    {
     "data": {
      "text/plain": [
       "FRIENDS           356\n",
       "BBT               280\n",
       "GOLDENGIRLS        40\n",
       "SARCASMOHOLICS     14\n",
       "Name: show, dtype: int64"
      ]
     },
     "execution_count": 7,
     "metadata": {},
     "output_type": "execute_result"
    }
   ],
   "source": [
    "data.show.value_counts(dropna=False)"
   ]
  },
  {
   "cell_type": "code",
   "execution_count": 8,
   "id": "66497483",
   "metadata": {
    "colab": {
     "base_uri": "https://localhost:8080/"
    },
    "id": "66497483",
    "outputId": "716583bb-366d-421a-f736-452810cae0ab"
   },
   "outputs": [
    {
     "data": {
      "text/plain": [
       "True     345\n",
       "False    345\n",
       "Name: sarcasm, dtype: int64"
      ]
     },
     "execution_count": 8,
     "metadata": {},
     "output_type": "execute_result"
    }
   ],
   "source": [
    "data.sarcasm.value_counts(dropna=False)"
   ]
  },
  {
   "cell_type": "code",
   "execution_count": 9,
   "id": "cc3739a4",
   "metadata": {
    "id": "cc3739a4"
   },
   "outputs": [],
   "source": [
    "data.rename(columns={'utterance': 'comment', 'sarcasm': 'label'}, inplace=True)"
   ]
  },
  {
   "cell_type": "code",
   "execution_count": 10,
   "id": "1e423ad0",
   "metadata": {
    "id": "1e423ad0"
   },
   "outputs": [],
   "source": [
    "df = data[['comment', 'label']].reset_index()"
   ]
  },
  {
   "cell_type": "code",
   "execution_count": 11,
   "id": "53b5b3b4",
   "metadata": {
    "id": "53b5b3b4"
   },
   "outputs": [],
   "source": [
    "df['comment'] = df['comment'].str.lower()"
   ]
  },
  {
   "cell_type": "code",
   "execution_count": 12,
   "id": "493bae99",
   "metadata": {
    "colab": {
     "base_uri": "https://localhost:8080/",
     "height": 206
    },
    "id": "493bae99",
    "outputId": "178cd287-2639-4b07-f040-25a148fe9dd7"
   },
   "outputs": [
    {
     "data": {
      "text/html": [
       "<div>\n",
       "<style scoped>\n",
       "    .dataframe tbody tr th:only-of-type {\n",
       "        vertical-align: middle;\n",
       "    }\n",
       "\n",
       "    .dataframe tbody tr th {\n",
       "        vertical-align: top;\n",
       "    }\n",
       "\n",
       "    .dataframe thead th {\n",
       "        text-align: right;\n",
       "    }\n",
       "</style>\n",
       "<table border=\"1\" class=\"dataframe\">\n",
       "  <thead>\n",
       "    <tr style=\"text-align: right;\">\n",
       "      <th></th>\n",
       "      <th>index</th>\n",
       "      <th>comment</th>\n",
       "      <th>label</th>\n",
       "    </tr>\n",
       "  </thead>\n",
       "  <tbody>\n",
       "    <tr>\n",
       "      <th>0</th>\n",
       "      <td>160</td>\n",
       "      <td>it's just a privilege to watch your mind at work.</td>\n",
       "      <td>True</td>\n",
       "    </tr>\n",
       "    <tr>\n",
       "      <th>1</th>\n",
       "      <td>170</td>\n",
       "      <td>i don't think i'll be able to stop thinking ab...</td>\n",
       "      <td>True</td>\n",
       "    </tr>\n",
       "    <tr>\n",
       "      <th>2</th>\n",
       "      <td>180</td>\n",
       "      <td>since it's not bee season, you can have my epi...</td>\n",
       "      <td>False</td>\n",
       "    </tr>\n",
       "    <tr>\n",
       "      <th>3</th>\n",
       "      <td>190</td>\n",
       "      <td>lois lane is falling, accelerating at an initi...</td>\n",
       "      <td>False</td>\n",
       "    </tr>\n",
       "    <tr>\n",
       "      <th>4</th>\n",
       "      <td>1105</td>\n",
       "      <td>i'm just inferring this is a couch because the...</td>\n",
       "      <td>True</td>\n",
       "    </tr>\n",
       "  </tbody>\n",
       "</table>\n",
       "</div>"
      ],
      "text/plain": [
       "   index                                            comment  label\n",
       "0    160  it's just a privilege to watch your mind at work.   True\n",
       "1    170  i don't think i'll be able to stop thinking ab...   True\n",
       "2    180  since it's not bee season, you can have my epi...  False\n",
       "3    190  lois lane is falling, accelerating at an initi...  False\n",
       "4   1105  i'm just inferring this is a couch because the...   True"
      ]
     },
     "execution_count": 12,
     "metadata": {},
     "output_type": "execute_result"
    }
   ],
   "source": [
    "df.head()"
   ]
  },
  {
   "cell_type": "code",
   "execution_count": 13,
   "id": "9e6eac9b",
   "metadata": {
    "id": "9e6eac9b"
   },
   "outputs": [],
   "source": [
    "df.replace({'label': {True: 1, False: 0}}, inplace=True)"
   ]
  },
  {
   "cell_type": "code",
   "execution_count": 14,
   "id": "fcce6c2e",
   "metadata": {
    "colab": {
     "base_uri": "https://localhost:8080/",
     "height": 206
    },
    "id": "fcce6c2e",
    "outputId": "15cc2b3b-8509-4845-e6fc-a23022ad406c"
   },
   "outputs": [
    {
     "data": {
      "text/html": [
       "<div>\n",
       "<style scoped>\n",
       "    .dataframe tbody tr th:only-of-type {\n",
       "        vertical-align: middle;\n",
       "    }\n",
       "\n",
       "    .dataframe tbody tr th {\n",
       "        vertical-align: top;\n",
       "    }\n",
       "\n",
       "    .dataframe thead th {\n",
       "        text-align: right;\n",
       "    }\n",
       "</style>\n",
       "<table border=\"1\" class=\"dataframe\">\n",
       "  <thead>\n",
       "    <tr style=\"text-align: right;\">\n",
       "      <th></th>\n",
       "      <th>index</th>\n",
       "      <th>comment</th>\n",
       "      <th>label</th>\n",
       "    </tr>\n",
       "  </thead>\n",
       "  <tbody>\n",
       "    <tr>\n",
       "      <th>0</th>\n",
       "      <td>160</td>\n",
       "      <td>it's just a privilege to watch your mind at work.</td>\n",
       "      <td>1</td>\n",
       "    </tr>\n",
       "    <tr>\n",
       "      <th>1</th>\n",
       "      <td>170</td>\n",
       "      <td>i don't think i'll be able to stop thinking ab...</td>\n",
       "      <td>1</td>\n",
       "    </tr>\n",
       "    <tr>\n",
       "      <th>2</th>\n",
       "      <td>180</td>\n",
       "      <td>since it's not bee season, you can have my epi...</td>\n",
       "      <td>0</td>\n",
       "    </tr>\n",
       "    <tr>\n",
       "      <th>3</th>\n",
       "      <td>190</td>\n",
       "      <td>lois lane is falling, accelerating at an initi...</td>\n",
       "      <td>0</td>\n",
       "    </tr>\n",
       "    <tr>\n",
       "      <th>4</th>\n",
       "      <td>1105</td>\n",
       "      <td>i'm just inferring this is a couch because the...</td>\n",
       "      <td>1</td>\n",
       "    </tr>\n",
       "  </tbody>\n",
       "</table>\n",
       "</div>"
      ],
      "text/plain": [
       "   index                                            comment  label\n",
       "0    160  it's just a privilege to watch your mind at work.      1\n",
       "1    170  i don't think i'll be able to stop thinking ab...      1\n",
       "2    180  since it's not bee season, you can have my epi...      0\n",
       "3    190  lois lane is falling, accelerating at an initi...      0\n",
       "4   1105  i'm just inferring this is a couch because the...      1"
      ]
     },
     "execution_count": 14,
     "metadata": {},
     "output_type": "execute_result"
    }
   ],
   "source": [
    "df.head()"
   ]
  },
  {
   "cell_type": "code",
   "execution_count": 15,
   "id": "e9caabdc",
   "metadata": {
    "id": "e9caabdc"
   },
   "outputs": [],
   "source": [
    "df['comment_words'] = df['comment'].apply(lambda x: x.split(' '))"
   ]
  },
  {
   "cell_type": "code",
   "execution_count": 16,
   "id": "5cd2a3f7",
   "metadata": {
    "id": "5cd2a3f7"
   },
   "outputs": [],
   "source": [
    "df['message_len'] = df['comment_words'].apply(len)"
   ]
  },
  {
   "cell_type": "code",
   "execution_count": 17,
   "id": "c3ccc0c3",
   "metadata": {
    "colab": {
     "base_uri": "https://localhost:8080/",
     "height": 206
    },
    "id": "c3ccc0c3",
    "outputId": "9c76bdd7-84a5-4086-8422-916ae79b0fb4"
   },
   "outputs": [
    {
     "data": {
      "text/html": [
       "<div>\n",
       "<style scoped>\n",
       "    .dataframe tbody tr th:only-of-type {\n",
       "        vertical-align: middle;\n",
       "    }\n",
       "\n",
       "    .dataframe tbody tr th {\n",
       "        vertical-align: top;\n",
       "    }\n",
       "\n",
       "    .dataframe thead th {\n",
       "        text-align: right;\n",
       "    }\n",
       "</style>\n",
       "<table border=\"1\" class=\"dataframe\">\n",
       "  <thead>\n",
       "    <tr style=\"text-align: right;\">\n",
       "      <th></th>\n",
       "      <th>index</th>\n",
       "      <th>comment</th>\n",
       "      <th>label</th>\n",
       "      <th>comment_words</th>\n",
       "      <th>message_len</th>\n",
       "    </tr>\n",
       "  </thead>\n",
       "  <tbody>\n",
       "    <tr>\n",
       "      <th>0</th>\n",
       "      <td>160</td>\n",
       "      <td>it's just a privilege to watch your mind at work.</td>\n",
       "      <td>1</td>\n",
       "      <td>[it's, just, a, privilege, to, watch, your, mi...</td>\n",
       "      <td>10</td>\n",
       "    </tr>\n",
       "    <tr>\n",
       "      <th>1</th>\n",
       "      <td>170</td>\n",
       "      <td>i don't think i'll be able to stop thinking ab...</td>\n",
       "      <td>1</td>\n",
       "      <td>[i, don't, think, i'll, be, able, to, stop, th...</td>\n",
       "      <td>11</td>\n",
       "    </tr>\n",
       "    <tr>\n",
       "      <th>2</th>\n",
       "      <td>180</td>\n",
       "      <td>since it's not bee season, you can have my epi...</td>\n",
       "      <td>0</td>\n",
       "      <td>[since, it's, not, bee, season,, you, can, hav...</td>\n",
       "      <td>10</td>\n",
       "    </tr>\n",
       "    <tr>\n",
       "      <th>3</th>\n",
       "      <td>190</td>\n",
       "      <td>lois lane is falling, accelerating at an initi...</td>\n",
       "      <td>0</td>\n",
       "      <td>[lois, lane, is, falling,, accelerating, at, a...</td>\n",
       "      <td>51</td>\n",
       "    </tr>\n",
       "    <tr>\n",
       "      <th>4</th>\n",
       "      <td>1105</td>\n",
       "      <td>i'm just inferring this is a couch because the...</td>\n",
       "      <td>1</td>\n",
       "      <td>[i'm, just, inferring, this, is, a, couch, bec...</td>\n",
       "      <td>20</td>\n",
       "    </tr>\n",
       "  </tbody>\n",
       "</table>\n",
       "</div>"
      ],
      "text/plain": [
       "   index                                            comment  label  \\\n",
       "0    160  it's just a privilege to watch your mind at work.      1   \n",
       "1    170  i don't think i'll be able to stop thinking ab...      1   \n",
       "2    180  since it's not bee season, you can have my epi...      0   \n",
       "3    190  lois lane is falling, accelerating at an initi...      0   \n",
       "4   1105  i'm just inferring this is a couch because the...      1   \n",
       "\n",
       "                                       comment_words  message_len  \n",
       "0  [it's, just, a, privilege, to, watch, your, mi...           10  \n",
       "1  [i, don't, think, i'll, be, able, to, stop, th...           11  \n",
       "2  [since, it's, not, bee, season,, you, can, hav...           10  \n",
       "3  [lois, lane, is, falling,, accelerating, at, a...           51  \n",
       "4  [i'm, just, inferring, this, is, a, couch, bec...           20  "
      ]
     },
     "execution_count": 17,
     "metadata": {},
     "output_type": "execute_result"
    }
   ],
   "source": [
    "df.head()"
   ]
  },
  {
   "cell_type": "code",
   "execution_count": 18,
   "id": "0a1d4f39",
   "metadata": {
    "colab": {
     "base_uri": "https://localhost:8080/"
    },
    "id": "0a1d4f39",
    "outputId": "376c0ae4-f8da-4c79-ece2-da80e091eb02"
   },
   "outputs": [
    {
     "data": {
      "text/plain": [
       "[('i', 267),\n",
       " ('a', 257),\n",
       " ('the', 244),\n",
       " ('you', 228),\n",
       " ('to', 212),\n",
       " ('and', 146),\n",
       " ('of', 123),\n",
       " ('in', 99),\n",
       " ('that', 90),\n",
       " ('it', 77),\n",
       " ('my', 75),\n",
       " ('is', 75),\n",
       " ('just', 71),\n",
       " (\"i'm\", 65),\n",
       " ('was', 63),\n",
       " ('have', 60),\n",
       " (\"don't\", 55),\n",
       " ('for', 55),\n",
       " ('with', 55),\n",
       " ('on', 54),\n",
       " ('all', 51),\n",
       " ('your', 50),\n",
       " ('not', 49),\n",
       " ('if', 49),\n",
       " ('we', 49),\n",
       " ('what', 48),\n",
       " (\"it's\", 46),\n",
       " ('me', 45),\n",
       " ('but', 44),\n",
       " ('like', 43),\n",
       " ('no,', 42),\n",
       " ('no', 41),\n",
       " ('so', 41),\n",
       " ('do', 41),\n",
       " ('this', 40),\n",
       " ('about', 39),\n",
       " ('oh,', 37),\n",
       " ('are', 37),\n",
       " ('he', 35),\n",
       " ('be', 34),\n",
       " ('am', 33),\n",
       " ('an', 32),\n",
       " ('out', 32),\n",
       " (\"you're\", 32),\n",
       " ('oh', 32),\n",
       " ('can', 31),\n",
       " ('she', 31),\n",
       " ('at', 29),\n",
       " ('think', 28),\n",
       " ('go', 27),\n",
       " ('yeah,', 26),\n",
       " ('well,', 26),\n",
       " ('when', 26),\n",
       " ('her', 25),\n",
       " ('because', 25),\n",
       " ('up', 24),\n",
       " ('how', 24),\n",
       " ('see', 24),\n",
       " ('it.', 23),\n",
       " ('got', 23),\n",
       " ('know', 23),\n",
       " (\"that's\", 23),\n",
       " ('would', 22),\n",
       " ('going', 22),\n",
       " ('really', 22),\n",
       " ('you.', 21),\n",
       " ('good', 21),\n",
       " ('get', 21),\n",
       " ('gonna', 21),\n",
       " ('as', 20),\n",
       " ('they', 20),\n",
       " ('why', 20),\n",
       " ('want', 19),\n",
       " ('', 19),\n",
       " ('our', 18),\n",
       " ('one', 17),\n",
       " ('okay,', 17),\n",
       " ('there', 16),\n",
       " ('little', 16),\n",
       " ('who', 15),\n",
       " ('were', 15),\n",
       " ('know,', 15),\n",
       " ('-', 15),\n",
       " ('right,', 15),\n",
       " ('could', 15),\n",
       " ('his', 15),\n",
       " ('maybe', 14),\n",
       " ('talk', 14),\n",
       " ('had', 14),\n",
       " (\"i'll\", 13),\n",
       " ('now', 13),\n",
       " (\"there's\", 13),\n",
       " ('new', 13),\n",
       " ('come', 13),\n",
       " ('here', 13),\n",
       " ('look', 13),\n",
       " ('something', 13),\n",
       " ('uh,', 13),\n",
       " (\"can't\", 13),\n",
       " ('from', 12)]"
      ]
     },
     "execution_count": 18,
     "metadata": {},
     "output_type": "execute_result"
    }
   ],
   "source": [
    "Counter(df.comment_words.sum()).most_common(100)"
   ]
  },
  {
   "cell_type": "code",
   "execution_count": 19,
   "id": "a8512204",
   "metadata": {
    "id": "a8512204"
   },
   "outputs": [],
   "source": [
    "df['comment_words'] = df['comment_words'].apply(\n",
    "    lambda x: [''.join(re.findall('[\\s\\w\\d]', word)) for word in x if (\n",
    "        (word not in string.punctuation) and (word not in STOP_WORDS)\n",
    "    )]\n",
    ")"
   ]
  },
  {
   "cell_type": "code",
   "execution_count": 20,
   "id": "74323d84",
   "metadata": {
    "colab": {
     "base_uri": "https://localhost:8080/",
     "height": 206
    },
    "id": "74323d84",
    "outputId": "f1ed6da3-405e-4acc-9e22-14bc7b05a19f"
   },
   "outputs": [
    {
     "data": {
      "text/html": [
       "<div>\n",
       "<style scoped>\n",
       "    .dataframe tbody tr th:only-of-type {\n",
       "        vertical-align: middle;\n",
       "    }\n",
       "\n",
       "    .dataframe tbody tr th {\n",
       "        vertical-align: top;\n",
       "    }\n",
       "\n",
       "    .dataframe thead th {\n",
       "        text-align: right;\n",
       "    }\n",
       "</style>\n",
       "<table border=\"1\" class=\"dataframe\">\n",
       "  <thead>\n",
       "    <tr style=\"text-align: right;\">\n",
       "      <th></th>\n",
       "      <th>index</th>\n",
       "      <th>comment</th>\n",
       "      <th>label</th>\n",
       "      <th>comment_words</th>\n",
       "      <th>message_len</th>\n",
       "    </tr>\n",
       "  </thead>\n",
       "  <tbody>\n",
       "    <tr>\n",
       "      <th>0</th>\n",
       "      <td>160</td>\n",
       "      <td>it's just a privilege to watch your mind at work.</td>\n",
       "      <td>1</td>\n",
       "      <td>[its, privilege, watch, mind, work]</td>\n",
       "      <td>10</td>\n",
       "    </tr>\n",
       "    <tr>\n",
       "      <th>1</th>\n",
       "      <td>170</td>\n",
       "      <td>i don't think i'll be able to stop thinking ab...</td>\n",
       "      <td>1</td>\n",
       "      <td>[dont, think, ill, able, stop, thinking, it]</td>\n",
       "      <td>11</td>\n",
       "    </tr>\n",
       "    <tr>\n",
       "      <th>2</th>\n",
       "      <td>180</td>\n",
       "      <td>since it's not bee season, you can have my epi...</td>\n",
       "      <td>0</td>\n",
       "      <td>[its, bee, season, epinephrine]</td>\n",
       "      <td>10</td>\n",
       "    </tr>\n",
       "    <tr>\n",
       "      <th>3</th>\n",
       "      <td>190</td>\n",
       "      <td>lois lane is falling, accelerating at an initi...</td>\n",
       "      <td>0</td>\n",
       "      <td>[lois, lane, falling, accelerating, initial, r...</td>\n",
       "      <td>51</td>\n",
       "    </tr>\n",
       "    <tr>\n",
       "      <th>4</th>\n",
       "      <td>1105</td>\n",
       "      <td>i'm just inferring this is a couch because the...</td>\n",
       "      <td>1</td>\n",
       "      <td>[im, inferring, couch, evidence, suggests, cof...</td>\n",
       "      <td>20</td>\n",
       "    </tr>\n",
       "  </tbody>\n",
       "</table>\n",
       "</div>"
      ],
      "text/plain": [
       "   index                                            comment  label  \\\n",
       "0    160  it's just a privilege to watch your mind at work.      1   \n",
       "1    170  i don't think i'll be able to stop thinking ab...      1   \n",
       "2    180  since it's not bee season, you can have my epi...      0   \n",
       "3    190  lois lane is falling, accelerating at an initi...      0   \n",
       "4   1105  i'm just inferring this is a couch because the...      1   \n",
       "\n",
       "                                       comment_words  message_len  \n",
       "0                [its, privilege, watch, mind, work]           10  \n",
       "1       [dont, think, ill, able, stop, thinking, it]           11  \n",
       "2                    [its, bee, season, epinephrine]           10  \n",
       "3  [lois, lane, falling, accelerating, initial, r...           51  \n",
       "4  [im, inferring, couch, evidence, suggests, cof...           20  "
      ]
     },
     "execution_count": 20,
     "metadata": {},
     "output_type": "execute_result"
    }
   ],
   "source": [
    "df.head()"
   ]
  },
  {
   "cell_type": "code",
   "execution_count": 21,
   "id": "51593a97",
   "metadata": {
    "colab": {
     "base_uri": "https://localhost:8080/",
     "height": 206
    },
    "id": "51593a97",
    "outputId": "26d493a5-ef37-44ca-cfda-e7d1b52697d5"
   },
   "outputs": [
    {
     "data": {
      "text/html": [
       "<div>\n",
       "<style scoped>\n",
       "    .dataframe tbody tr th:only-of-type {\n",
       "        vertical-align: middle;\n",
       "    }\n",
       "\n",
       "    .dataframe tbody tr th {\n",
       "        vertical-align: top;\n",
       "    }\n",
       "\n",
       "    .dataframe thead th {\n",
       "        text-align: right;\n",
       "    }\n",
       "</style>\n",
       "<table border=\"1\" class=\"dataframe\">\n",
       "  <thead>\n",
       "    <tr style=\"text-align: right;\">\n",
       "      <th></th>\n",
       "      <th>index</th>\n",
       "      <th>comment</th>\n",
       "      <th>label</th>\n",
       "      <th>comment_words</th>\n",
       "      <th>message_len</th>\n",
       "    </tr>\n",
       "  </thead>\n",
       "  <tbody>\n",
       "    <tr>\n",
       "      <th>0</th>\n",
       "      <td>160</td>\n",
       "      <td>it's just a privilege to watch your mind at work.</td>\n",
       "      <td>1</td>\n",
       "      <td>[its, privilege, watch, mind, work]</td>\n",
       "      <td>10</td>\n",
       "    </tr>\n",
       "    <tr>\n",
       "      <th>1</th>\n",
       "      <td>170</td>\n",
       "      <td>i don't think i'll be able to stop thinking ab...</td>\n",
       "      <td>1</td>\n",
       "      <td>[dont, think, ill, able, stop, thinking, it]</td>\n",
       "      <td>11</td>\n",
       "    </tr>\n",
       "    <tr>\n",
       "      <th>2</th>\n",
       "      <td>180</td>\n",
       "      <td>since it's not bee season, you can have my epi...</td>\n",
       "      <td>0</td>\n",
       "      <td>[its, bee, season, epinephrine]</td>\n",
       "      <td>10</td>\n",
       "    </tr>\n",
       "    <tr>\n",
       "      <th>3</th>\n",
       "      <td>190</td>\n",
       "      <td>lois lane is falling, accelerating at an initi...</td>\n",
       "      <td>0</td>\n",
       "      <td>[lois, lane, falling, accelerating, initial, r...</td>\n",
       "      <td>51</td>\n",
       "    </tr>\n",
       "    <tr>\n",
       "      <th>4</th>\n",
       "      <td>1105</td>\n",
       "      <td>i'm just inferring this is a couch because the...</td>\n",
       "      <td>1</td>\n",
       "      <td>[im, inferring, couch, evidence, suggests, cof...</td>\n",
       "      <td>20</td>\n",
       "    </tr>\n",
       "  </tbody>\n",
       "</table>\n",
       "</div>"
      ],
      "text/plain": [
       "   index                                            comment  label  \\\n",
       "0    160  it's just a privilege to watch your mind at work.      1   \n",
       "1    170  i don't think i'll be able to stop thinking ab...      1   \n",
       "2    180  since it's not bee season, you can have my epi...      0   \n",
       "3    190  lois lane is falling, accelerating at an initi...      0   \n",
       "4   1105  i'm just inferring this is a couch because the...      1   \n",
       "\n",
       "                                       comment_words  message_len  \n",
       "0                [its, privilege, watch, mind, work]           10  \n",
       "1       [dont, think, ill, able, stop, thinking, it]           11  \n",
       "2                    [its, bee, season, epinephrine]           10  \n",
       "3  [lois, lane, falling, accelerating, initial, r...           51  \n",
       "4  [im, inferring, couch, evidence, suggests, cof...           20  "
      ]
     },
     "execution_count": 21,
     "metadata": {},
     "output_type": "execute_result"
    }
   ],
   "source": [
    "df.head()"
   ]
  },
  {
   "cell_type": "code",
   "execution_count": 22,
   "id": "28313ea7",
   "metadata": {
    "id": "28313ea7"
   },
   "outputs": [],
   "source": [
    "reddit_data = pd.read_csv('../Datasets/clean_reddit_data.csv')"
   ]
  },
  {
   "cell_type": "code",
   "execution_count": 23,
   "id": "f69fe24a",
   "metadata": {
    "id": "f69fe24a"
   },
   "outputs": [],
   "source": [
    "train_reddit, test_reddit = train_test_split(\n",
    "    reddit_data,\n",
    "    train_size=10000-int(345*0.6),\n",
    "    test_size=2000-int(345*0.4),\n",
    "    random_state=9\n",
    ")"
   ]
  },
  {
   "cell_type": "code",
   "execution_count": 24,
   "id": "f71e24db",
   "metadata": {
    "id": "f71e24db"
   },
   "outputs": [],
   "source": [
    "train_movies, test_movies = train_test_split(\n",
    "    df,\n",
    "    train_size=0.6,\n",
    "    random_state=9\n",
    ")"
   ]
  },
  {
   "cell_type": "code",
   "execution_count": 25,
   "id": "837f0f61",
   "metadata": {
    "id": "837f0f61"
   },
   "outputs": [],
   "source": [
    "train = pd.concat([train_reddit, train_movies], ignore_index=True)\n",
    "test = pd.concat([test_reddit, test_movies], ignore_index=True)"
   ]
  },
  {
   "cell_type": "code",
   "execution_count": 26,
   "id": "6b9cef01",
   "metadata": {
    "id": "6b9cef01"
   },
   "outputs": [],
   "source": [
    "train['label'] = train['label'].astype(str)\n",
    "test['label'] = test['label'].astype(str)"
   ]
  },
  {
   "cell_type": "code",
   "execution_count": null,
   "id": "00ab7986",
   "metadata": {
    "id": "00ab7986"
   },
   "outputs": [],
   "source": []
  },
  {
   "cell_type": "code",
   "execution_count": 27,
   "id": "cdae2088",
   "metadata": {
    "id": "cdae2088"
   },
   "outputs": [],
   "source": [
    "MODEL_PATH = \"google/flan-t5-base\"\n",
    "\n",
    "tokenizer = AutoTokenizer.from_pretrained(MODEL_PATH)"
   ]
  },
  {
   "cell_type": "code",
   "execution_count": 28,
   "id": "04257a8e",
   "metadata": {
    "id": "04257a8e"
   },
   "outputs": [],
   "source": [
    "dataset = load_dataset('imdb')"
   ]
  },
  {
   "cell_type": "code",
   "execution_count": 29,
   "id": "31d7171e",
   "metadata": {
    "id": "31d7171e"
   },
   "outputs": [],
   "source": [
    "dataset.clear()"
   ]
  },
  {
   "cell_type": "code",
   "execution_count": 30,
   "id": "eb10d29c",
   "metadata": {
    "id": "eb10d29c"
   },
   "outputs": [],
   "source": [
    "dataset['train'] = Dataset.from_pandas(train[['comment', 'label']])\n",
    "dataset['test'] = Dataset.from_pandas(test[['comment', 'label']])"
   ]
  },
  {
   "cell_type": "code",
   "execution_count": 31,
   "id": "97dfe73b",
   "metadata": {
    "colab": {
     "base_uri": "https://localhost:8080/"
    },
    "id": "97dfe73b",
    "outputId": "693d44a1-33d8-4ef2-ff25-5db0c9caa701"
   },
   "outputs": [
    {
     "data": {
      "text/plain": [
       "DatasetDict({\n",
       "    train: Dataset({\n",
       "        features: ['comment', 'label'],\n",
       "        num_rows: 10207\n",
       "    })\n",
       "    test: Dataset({\n",
       "        features: ['comment', 'label'],\n",
       "        num_rows: 2138\n",
       "    })\n",
       "})"
      ]
     },
     "execution_count": 31,
     "metadata": {},
     "output_type": "execute_result"
    }
   ],
   "source": [
    "dataset"
   ]
  },
  {
   "cell_type": "code",
   "execution_count": 32,
   "id": "e8ea8ee5",
   "metadata": {
    "colab": {
     "base_uri": "https://localhost:8080/",
     "height": 117,
     "referenced_widgets": [
      "22429d82281b40868470a9be3f734b67",
      "3d0a0b2c4a524fe2b575ba789ee3311b",
      "0c644876e40748ddb89931efd01f9e4a",
      "397693b3d8204346b120927af53b335d",
      "4140a0d818e04d12b1ca7cca6e8cd44b",
      "8d49dba1826a4fda9dd1031bd41ae8b3",
      "ae10d75c8cb347948a1fda788cef2db3",
      "217620cc469845f9a8de6ab387630efe",
      "2c7c0cc76f124314984b3e976ce9cc60",
      "6550383e9a5541a89bcc66a2c0d27220",
      "254adb737d8b4b2bbea7cc6735811db4",
      "3d814f353db442eb9112606754300151",
      "4bccd35a446a41869b3b45abf171037c",
      "c019a93111554d2697ce71ab38af5af0",
      "e35fb316644b4c6992a4d7942ee7de37",
      "40e696c7e32445e2be8ceb210cd3f192",
      "fd1ef7ce4859446e83e2d98440127e9b",
      "bf3b9fff89354804ba6f113d727e5954",
      "bd929a65cf3748db9b4ffb4ab361f2fa",
      "d31b45625f1444e681dd4e9f7cbf096f",
      "4d1502e7dc5e4a03815e413c409b177b",
      "03c0d3f0e5a0496abd505788ad10b16e"
     ]
    },
    "id": "e8ea8ee5",
    "outputId": "7acd408c-6a80-4aab-872b-1d3120d76c8e"
   },
   "outputs": [
    {
     "name": "stderr",
     "output_type": "stream",
     "text": [
      "Map: 100%|██████████| 12345/12345 [00:00<00:00, 17680.29 examples/s]\n"
     ]
    },
    {
     "name": "stdout",
     "output_type": "stream",
     "text": [
      "Max source length: 172\n"
     ]
    },
    {
     "name": "stderr",
     "output_type": "stream",
     "text": [
      "Map: 100%|██████████| 12345/12345 [00:00<00:00, 20655.46 examples/s]"
     ]
    },
    {
     "name": "stdout",
     "output_type": "stream",
     "text": [
      "Max target length: 3\n"
     ]
    },
    {
     "name": "stderr",
     "output_type": "stream",
     "text": [
      "\n"
     ]
    }
   ],
   "source": [
    "# The maximum total input sequence length after tokenization.\n",
    "# Sequences longer than this will be truncated, sequences shorter will be padded.\n",
    "tokenized_inputs = concatenate_datasets(\n",
    "    [dataset['train'], dataset['test']]\n",
    ")\\\n",
    ".map(\n",
    "    lambda x: tokenizer(x['comment'], truncation=True),\n",
    "    batched=True,\n",
    "    remove_columns=['comment', 'label']\n",
    ")\n",
    "max_source_length = max([len(x) for x in tokenized_inputs['input_ids']])\n",
    "print(f'Max source length: {max_source_length}')\n",
    "\n",
    "# The maximum total sequence length for target text after tokenization.\n",
    "# Sequences longer than this will be truncated, sequences shorter will be padded.\"\n",
    "tokenized_targets = concatenate_datasets(\n",
    "    [dataset['train'], dataset['test']]\n",
    ")\\\n",
    ".map(\n",
    "    lambda x: tokenizer(x['label'], truncation=True),\n",
    "    batched=True,\n",
    "    remove_columns=['comment', 'label']\n",
    ")\n",
    "max_target_length = max([len(x) for x in tokenized_targets['input_ids']])\n",
    "print(f'Max target length: {max_target_length}')"
   ]
  },
  {
   "cell_type": "code",
   "execution_count": 33,
   "id": "422f958a",
   "metadata": {
    "id": "422f958a"
   },
   "outputs": [],
   "source": [
    "def preprocess_function(sample, padding='max_length'):\n",
    "    # add prefix to the input for t5\n",
    "    inputs = [item for item in sample['comment']]\n",
    "\n",
    "    # tokenize inputs\n",
    "    model_inputs = tokenizer(inputs, max_length=max_source_length, padding=padding, truncation=True)\n",
    "\n",
    "    # Tokenize targets with the `text_target` keyword argument\n",
    "    labels = tokenizer(text_target=sample['label'], max_length=max_target_length, padding=padding, truncation=True)\n",
    "\n",
    "    # If we are padding here, replace all tokenizer.pad_token_id in the labels by -100 when we want to ignore\n",
    "    # padding in the loss.\n",
    "    if padding == 'max_length':\n",
    "        labels['input_ids'] = [\n",
    "            [(l if l != tokenizer.pad_token_id else -100) for l in label] for label in labels['input_ids']\n",
    "        ]\n",
    "\n",
    "    model_inputs['labels'] = labels['input_ids']\n",
    "    return model_inputs"
   ]
  },
  {
   "cell_type": "code",
   "execution_count": 34,
   "id": "3c599027",
   "metadata": {
    "colab": {
     "base_uri": "https://localhost:8080/",
     "height": 99,
     "referenced_widgets": [
      "071287633ce64e13b6d0717ae91f0b0b",
      "d153e9aaf7224735bd78b7043a662a5b",
      "cc89f898a300478a9e751a0118a5e040",
      "1073efef5f09447780b0dec524020907",
      "ab8fff6765a34e458c0de3414a1004f1",
      "d308f4a7b64c47ceba050db0cd4f902b",
      "1e87a9d47fa946e9ba163fde263bb8e6",
      "ad4cd9501de8484dbfc2b39df830db05",
      "46b7925760c948d992ed8d59ac3158c0",
      "735a5e9f6a83425c92e5dccfa8b63be5",
      "181cc8652a3d4e04985faedbe425c5ce",
      "28b286da424e4e6283128bac2607e605",
      "d154d6a185e54ab0bf073d4b86425630",
      "e77d11aeca504243b185baae63592ba1",
      "ca4790f6fba247c0bd561d41d575dd56",
      "3caf6ebe08af4114bea4515221034c59",
      "35a7b6e205f241ed8038db402ccf43be",
      "3ea499e59e854635873384340bbc2d97",
      "8f661c7cfbaf4c7a9915987ab8cc7814",
      "e420e14be19b4572891e9aafcbfd7f38",
      "c658c2a73485447784b805287cfc32db",
      "fa12dfe901284b858032a56731066c63"
     ]
    },
    "id": "3c599027",
    "outputId": "34c01d11-893a-4c9b-8ec0-466e89047ff9"
   },
   "outputs": [
    {
     "name": "stderr",
     "output_type": "stream",
     "text": [
      "Map: 100%|██████████| 10207/10207 [00:01<00:00, 8080.53 examples/s]\n",
      "Map: 100%|██████████| 2138/2138 [00:00<00:00, 7612.61 examples/s]"
     ]
    },
    {
     "name": "stdout",
     "output_type": "stream",
     "text": [
      "Keys of tokenized dataset: ['input_ids', 'attention_mask', 'labels']\n"
     ]
    },
    {
     "name": "stderr",
     "output_type": "stream",
     "text": [
      "\n"
     ]
    }
   ],
   "source": [
    "tokenized_dataset = dataset.map(preprocess_function, batched=True, remove_columns=['comment', 'label'])\n",
    "print(f\"Keys of tokenized dataset: {list(tokenized_dataset['train'].features)}\")"
   ]
  },
  {
   "cell_type": "code",
   "execution_count": 35,
   "id": "d800cc4b",
   "metadata": {
    "id": "d800cc4b"
   },
   "outputs": [],
   "source": [
    "# load model from the hub\n",
    "model = AutoModelForSeq2SeqLM.from_pretrained(MODEL_PATH)"
   ]
  },
  {
   "cell_type": "code",
   "execution_count": 36,
   "id": "820d8ccc",
   "metadata": {
    "id": "820d8ccc"
   },
   "outputs": [],
   "source": [
    "# Metric\n",
    "metric = evaluate.load('accuracy')"
   ]
  },
  {
   "cell_type": "code",
   "execution_count": 37,
   "id": "db53737b",
   "metadata": {
    "id": "db53737b"
   },
   "outputs": [],
   "source": [
    "# helper function to postprocess text\n",
    "def postprocess_text(preds, labels):\n",
    "    preds = [pred.strip() for pred in preds]\n",
    "    labels = [label.strip() for label in labels]\n",
    "\n",
    "    # rougeLSum expects newline after each sentence\n",
    "    preds = ['\\n'.join(sent_tokenize(pred)) for pred in preds]\n",
    "    labels = ['\\n'.join(sent_tokenize(label)) for label in labels]\n",
    "\n",
    "    return preds, labels"
   ]
  },
  {
   "cell_type": "code",
   "execution_count": 38,
   "id": "e3c20838",
   "metadata": {
    "id": "e3c20838"
   },
   "outputs": [],
   "source": [
    "def compute_metrics(eval_preds):\n",
    "    preds, labels = eval_preds\n",
    "    if isinstance(preds, tuple):\n",
    "        preds = preds[0]\n",
    "    decoded_preds = tokenizer.batch_decode(preds, skip_special_tokens=True)\n",
    "    # Replace -100 in the labels as we can't decode them.\n",
    "    labels = np.where(labels != -100, labels, tokenizer.pad_token_id)\n",
    "    decoded_labels = tokenizer.batch_decode(labels, skip_special_tokens=True)\n",
    "\n",
    "    # Some simple post-processing\n",
    "    decoded_preds, decoded_labels = postprocess_text(decoded_preds, decoded_labels)\n",
    "\n",
    "    result = metric.compute(predictions=decoded_preds, references=decoded_labels, average='macro')\n",
    "    result = {k: round(v * 100, 4) for k, v in result.items()}\n",
    "    prediction_lens = [np.count_nonzero(pred != tokenizer.pad_token_id) for pred in preds]\n",
    "    result['gen_len'] = np.mean(prediction_lens)\n",
    "    return result"
   ]
  },
  {
   "cell_type": "code",
   "execution_count": 39,
   "id": "71b044e0",
   "metadata": {
    "id": "71b044e0"
   },
   "outputs": [],
   "source": [
    "# we want to ignore tokenizer pad token in the loss\n",
    "label_pad_token_id = -100\n",
    "\n",
    "# Data collator\n",
    "data_collator = DataCollatorForSeq2Seq(\n",
    "    tokenizer,\n",
    "    model=model,\n",
    "    label_pad_token_id=label_pad_token_id,\n",
    "    pad_to_multiple_of=8\n",
    ")"
   ]
  },
  {
   "cell_type": "code",
   "execution_count": 40,
   "id": "cb0af305",
   "metadata": {
    "id": "cb0af305"
   },
   "outputs": [],
   "source": [
    "# Hugging Face repository id\n",
    "# repository_id = f\"{model_id.split('/')[1]}-imdb-text-classification\""
   ]
  },
  {
   "cell_type": "code",
   "execution_count": 41,
   "id": "a7d315db",
   "metadata": {
    "id": "a7d315db"
   },
   "outputs": [],
   "source": [
    "# Define training args\n",
    "training_args = Seq2SeqTrainingArguments(\n",
    "    output_dir='.',\n",
    "#     output_dir=repository_id,\n",
    "    per_device_train_batch_size=8,\n",
    "    per_device_eval_batch_size=8,\n",
    "    predict_with_generate=True,\n",
    "    fp16=False, # Overflows with fp16\n",
    "    learning_rate=3e-4,\n",
    "\n",
    "    num_train_epochs=2,\n",
    "    # logging & evaluation strategies\n",
    "#     logging_dir=f\"{repository_id}/logs\",\n",
    "    logging_strategy=\"epoch\",\n",
    "    # logging_steps=1000,\n",
    "    evaluation_strategy=\"no\",\n",
    "    save_strategy=\"epoch\",\n",
    "    save_total_limit=2,\n",
    "    load_best_model_at_end=False,\n",
    "    # metric_for_best_model=\"overall_f1\",\n",
    "    # push to hub parameters\n",
    "#     report_to=\"tensorboard\",\n",
    "#     push_to_hub=True,\n",
    "#     hub_strategy=\"every_save\",\n",
    "#     hub_model_id=repository_id,\n",
    "#     hub_token=HfFolder.get_token(),\n",
    ")"
   ]
  },
  {
   "cell_type": "code",
   "execution_count": 42,
   "id": "21fbdd57",
   "metadata": {
    "id": "21fbdd57"
   },
   "outputs": [],
   "source": [
    "# Create Trainer instance\n",
    "trainer = Seq2SeqTrainer(\n",
    "    model=model,\n",
    "    args=training_args,\n",
    "    data_collator=data_collator,\n",
    "    train_dataset=tokenized_dataset[\"train\"],\n",
    "    eval_dataset=tokenized_dataset[\"test\"],\n",
    "    compute_metrics=compute_metrics,\n",
    ")"
   ]
  },
  {
   "cell_type": "code",
   "execution_count": 43,
   "id": "444bf09a",
   "metadata": {
    "colab": {
     "base_uri": "https://localhost:8080/",
     "height": 172
    },
    "id": "444bf09a",
    "outputId": "10410331-6d70-4d15-8b33-13757b5d3078"
   },
   "outputs": [
    {
     "name": "stderr",
     "output_type": "stream",
     "text": [
      "/Users/doski/miniconda3/envs/getinno-env/lib/python3.9/site-packages/transformers/optimization.py:411: FutureWarning: This implementation of AdamW is deprecated and will be removed in a future version. Use the PyTorch implementation torch.optim.AdamW instead, or set `no_deprecation_warning=True` to disable this warning\n",
      "  warnings.warn(\n",
      "You're using a T5TokenizerFast tokenizer. Please note that with a fast tokenizer, using the `__call__` method is faster than using a method to encode the text followed by a call to the `pad` method to get a padded encoding.\n"
     ]
    },
    {
     "data": {
      "text/html": [
       "\n",
       "    <div>\n",
       "      \n",
       "      <progress value='2552' max='2552' style='width:300px; height:20px; vertical-align: middle;'></progress>\n",
       "      [2552/2552 19:20:20, Epoch 2/2]\n",
       "    </div>\n",
       "    <table border=\"1\" class=\"dataframe\">\n",
       "  <thead>\n",
       " <tr style=\"text-align: left;\">\n",
       "      <th>Step</th>\n",
       "      <th>Training Loss</th>\n",
       "    </tr>\n",
       "  </thead>\n",
       "  <tbody>\n",
       "    <tr>\n",
       "      <td>1276</td>\n",
       "      <td>0.273400</td>\n",
       "    </tr>\n",
       "    <tr>\n",
       "      <td>2552</td>\n",
       "      <td>0.190900</td>\n",
       "    </tr>\n",
       "  </tbody>\n",
       "</table><p>"
      ],
      "text/plain": [
       "<IPython.core.display.HTML object>"
      ]
     },
     "metadata": {},
     "output_type": "display_data"
    },
    {
     "data": {
      "text/plain": [
       "TrainOutput(global_step=2552, training_loss=0.2321525800938143, metrics={'train_runtime': 69642.3948, 'train_samples_per_second': 0.293, 'train_steps_per_second': 0.037, 'total_flos': 4805156328800256.0, 'train_loss': 0.2321525800938143, 'epoch': 2.0})"
      ]
     },
     "execution_count": 43,
     "metadata": {},
     "output_type": "execute_result"
    }
   ],
   "source": [
    "# Start training\n",
    "trainer.train()"
   ]
  },
  {
   "cell_type": "code",
   "execution_count": 54,
   "id": "BiX-Ggf7tqqi",
   "metadata": {
    "id": "BiX-Ggf7tqqi"
   },
   "outputs": [],
   "source": [
    "# trainer.evaluate()"
   ]
  },
  {
   "cell_type": "code",
   "execution_count": 45,
   "id": "09b6bb26",
   "metadata": {},
   "outputs": [],
   "source": [
    "trainer.save_model('../Models/Tuned-Flan-T5-Base')"
   ]
  },
  {
   "cell_type": "code",
   "execution_count": 46,
   "id": "7aa98441",
   "metadata": {},
   "outputs": [],
   "source": [
    "from tqdm.auto import tqdm"
   ]
  },
  {
   "cell_type": "code",
   "execution_count": 47,
   "id": "eaf0ba4e",
   "metadata": {},
   "outputs": [
    {
     "name": "stderr",
     "output_type": "stream",
     "text": [
      "\r",
      "  0%|          | 0/2138 [00:00<?, ?it/s]"
     ]
    }
   ],
   "source": [
    "samples_number = len(dataset['test'])\n",
    "progress_bar = tqdm(range(samples_number))\n",
    "predictions_list = []\n",
    "labels_list = []"
   ]
  },
  {
   "cell_type": "code",
   "execution_count": 50,
   "id": "06b1ea77",
   "metadata": {},
   "outputs": [
    {
     "name": "stderr",
     "output_type": "stream",
     "text": [
      "100%|██████████| 2138/2138 [1:15:44<00:00,  1.70s/it]  "
     ]
    }
   ],
   "source": [
    "for i in range(samples_number):\n",
    "    text = dataset['test']['comment'][i]\n",
    "    inputs = tokenizer.encode_plus(text, padding='max_length', max_length=512, return_tensors='pt')\n",
    "    outputs = model.generate(\n",
    "        inputs['input_ids'], \n",
    "        attention_mask=inputs['attention_mask'], \n",
    "        max_length=150, \n",
    "        num_beams=4, \n",
    "        early_stopping=True\n",
    "    )\n",
    "    prediction = tokenizer.decode(outputs[0], skip_special_tokens=True)\n",
    "    predictions_list.append(prediction)\n",
    "    labels_list.append(dataset['test']['label'][i])\n",
    "\n",
    "    progress_bar.update(1)"
   ]
  },
  {
   "cell_type": "code",
   "execution_count": 51,
   "id": "a793d34c",
   "metadata": {},
   "outputs": [],
   "source": [
    "str_labels_list = []\n",
    "\n",
    "for i in range(len(labels_list)): \n",
    "    str_labels_list.append(str(labels_list[i]))"
   ]
  },
  {
   "cell_type": "code",
   "execution_count": 53,
   "id": "cbbcd90b",
   "metadata": {},
   "outputs": [
    {
     "name": "stdout",
     "output_type": "stream",
     "text": [
      "              precision    recall  f1-score   support\n",
      "\n",
      "           0       0.67      0.63      0.65      1044\n",
      "           1       0.67      0.71      0.69      1094\n",
      "\n",
      "    accuracy                           0.67      2138\n",
      "   macro avg       0.67      0.67      0.67      2138\n",
      "weighted avg       0.67      0.67      0.67      2138\n",
      "\n"
     ]
    }
   ],
   "source": [
    "print(classification_report(str_labels_list, predictions_list, zero_division=0))"
   ]
  },
  {
   "cell_type": "code",
   "execution_count": null,
   "id": "9cd67c54",
   "metadata": {},
   "outputs": [],
   "source": []
  }
 ],
 "metadata": {
  "colab": {
   "provenance": []
  },
  "kernelspec": {
   "display_name": "Python 3",
   "language": "python",
   "name": "python3"
  },
  "language_info": {
   "codemirror_mode": {
    "name": "ipython",
    "version": 3
   },
   "file_extension": ".py",
   "mimetype": "text/x-python",
   "name": "python",
   "nbconvert_exporter": "python",
   "pygments_lexer": "ipython3",
   "version": "3.9.6"
  },
  "widgets": {
   "application/vnd.jupyter.widget-state+json": {
    "03c0d3f0e5a0496abd505788ad10b16e": {
     "model_module": "@jupyter-widgets/controls",
     "model_module_version": "1.5.0",
     "model_name": "DescriptionStyleModel",
     "state": {
      "_model_module": "@jupyter-widgets/controls",
      "_model_module_version": "1.5.0",
      "_model_name": "DescriptionStyleModel",
      "_view_count": null,
      "_view_module": "@jupyter-widgets/base",
      "_view_module_version": "1.2.0",
      "_view_name": "StyleView",
      "description_width": ""
     }
    },
    "071287633ce64e13b6d0717ae91f0b0b": {
     "model_module": "@jupyter-widgets/controls",
     "model_module_version": "1.5.0",
     "model_name": "HBoxModel",
     "state": {
      "_dom_classes": [],
      "_model_module": "@jupyter-widgets/controls",
      "_model_module_version": "1.5.0",
      "_model_name": "HBoxModel",
      "_view_count": null,
      "_view_module": "@jupyter-widgets/controls",
      "_view_module_version": "1.5.0",
      "_view_name": "HBoxView",
      "box_style": "",
      "children": [
       "IPY_MODEL_d153e9aaf7224735bd78b7043a662a5b",
       "IPY_MODEL_cc89f898a300478a9e751a0118a5e040",
       "IPY_MODEL_1073efef5f09447780b0dec524020907"
      ],
      "layout": "IPY_MODEL_ab8fff6765a34e458c0de3414a1004f1"
     }
    },
    "0c644876e40748ddb89931efd01f9e4a": {
     "model_module": "@jupyter-widgets/controls",
     "model_module_version": "1.5.0",
     "model_name": "FloatProgressModel",
     "state": {
      "_dom_classes": [],
      "_model_module": "@jupyter-widgets/controls",
      "_model_module_version": "1.5.0",
      "_model_name": "FloatProgressModel",
      "_view_count": null,
      "_view_module": "@jupyter-widgets/controls",
      "_view_module_version": "1.5.0",
      "_view_name": "ProgressView",
      "bar_style": "success",
      "description": "",
      "description_tooltip": null,
      "layout": "IPY_MODEL_217620cc469845f9a8de6ab387630efe",
      "max": 12345,
      "min": 0,
      "orientation": "horizontal",
      "style": "IPY_MODEL_2c7c0cc76f124314984b3e976ce9cc60",
      "value": 12345
     }
    },
    "1073efef5f09447780b0dec524020907": {
     "model_module": "@jupyter-widgets/controls",
     "model_module_version": "1.5.0",
     "model_name": "HTMLModel",
     "state": {
      "_dom_classes": [],
      "_model_module": "@jupyter-widgets/controls",
      "_model_module_version": "1.5.0",
      "_model_name": "HTMLModel",
      "_view_count": null,
      "_view_module": "@jupyter-widgets/controls",
      "_view_module_version": "1.5.0",
      "_view_name": "HTMLView",
      "description": "",
      "description_tooltip": null,
      "layout": "IPY_MODEL_735a5e9f6a83425c92e5dccfa8b63be5",
      "placeholder": "​",
      "style": "IPY_MODEL_181cc8652a3d4e04985faedbe425c5ce",
      "value": " 10207/10207 [00:02&lt;00:00, 4679.05 examples/s]"
     }
    },
    "181cc8652a3d4e04985faedbe425c5ce": {
     "model_module": "@jupyter-widgets/controls",
     "model_module_version": "1.5.0",
     "model_name": "DescriptionStyleModel",
     "state": {
      "_model_module": "@jupyter-widgets/controls",
      "_model_module_version": "1.5.0",
      "_model_name": "DescriptionStyleModel",
      "_view_count": null,
      "_view_module": "@jupyter-widgets/base",
      "_view_module_version": "1.2.0",
      "_view_name": "StyleView",
      "description_width": ""
     }
    },
    "1e87a9d47fa946e9ba163fde263bb8e6": {
     "model_module": "@jupyter-widgets/controls",
     "model_module_version": "1.5.0",
     "model_name": "DescriptionStyleModel",
     "state": {
      "_model_module": "@jupyter-widgets/controls",
      "_model_module_version": "1.5.0",
      "_model_name": "DescriptionStyleModel",
      "_view_count": null,
      "_view_module": "@jupyter-widgets/base",
      "_view_module_version": "1.2.0",
      "_view_name": "StyleView",
      "description_width": ""
     }
    },
    "217620cc469845f9a8de6ab387630efe": {
     "model_module": "@jupyter-widgets/base",
     "model_module_version": "1.2.0",
     "model_name": "LayoutModel",
     "state": {
      "_model_module": "@jupyter-widgets/base",
      "_model_module_version": "1.2.0",
      "_model_name": "LayoutModel",
      "_view_count": null,
      "_view_module": "@jupyter-widgets/base",
      "_view_module_version": "1.2.0",
      "_view_name": "LayoutView",
      "align_content": null,
      "align_items": null,
      "align_self": null,
      "border": null,
      "bottom": null,
      "display": null,
      "flex": null,
      "flex_flow": null,
      "grid_area": null,
      "grid_auto_columns": null,
      "grid_auto_flow": null,
      "grid_auto_rows": null,
      "grid_column": null,
      "grid_gap": null,
      "grid_row": null,
      "grid_template_areas": null,
      "grid_template_columns": null,
      "grid_template_rows": null,
      "height": null,
      "justify_content": null,
      "justify_items": null,
      "left": null,
      "margin": null,
      "max_height": null,
      "max_width": null,
      "min_height": null,
      "min_width": null,
      "object_fit": null,
      "object_position": null,
      "order": null,
      "overflow": null,
      "overflow_x": null,
      "overflow_y": null,
      "padding": null,
      "right": null,
      "top": null,
      "visibility": null,
      "width": null
     }
    },
    "22429d82281b40868470a9be3f734b67": {
     "model_module": "@jupyter-widgets/controls",
     "model_module_version": "1.5.0",
     "model_name": "HBoxModel",
     "state": {
      "_dom_classes": [],
      "_model_module": "@jupyter-widgets/controls",
      "_model_module_version": "1.5.0",
      "_model_name": "HBoxModel",
      "_view_count": null,
      "_view_module": "@jupyter-widgets/controls",
      "_view_module_version": "1.5.0",
      "_view_name": "HBoxView",
      "box_style": "",
      "children": [
       "IPY_MODEL_3d0a0b2c4a524fe2b575ba789ee3311b",
       "IPY_MODEL_0c644876e40748ddb89931efd01f9e4a",
       "IPY_MODEL_397693b3d8204346b120927af53b335d"
      ],
      "layout": "IPY_MODEL_4140a0d818e04d12b1ca7cca6e8cd44b"
     }
    },
    "254adb737d8b4b2bbea7cc6735811db4": {
     "model_module": "@jupyter-widgets/controls",
     "model_module_version": "1.5.0",
     "model_name": "DescriptionStyleModel",
     "state": {
      "_model_module": "@jupyter-widgets/controls",
      "_model_module_version": "1.5.0",
      "_model_name": "DescriptionStyleModel",
      "_view_count": null,
      "_view_module": "@jupyter-widgets/base",
      "_view_module_version": "1.2.0",
      "_view_name": "StyleView",
      "description_width": ""
     }
    },
    "28b286da424e4e6283128bac2607e605": {
     "model_module": "@jupyter-widgets/controls",
     "model_module_version": "1.5.0",
     "model_name": "HBoxModel",
     "state": {
      "_dom_classes": [],
      "_model_module": "@jupyter-widgets/controls",
      "_model_module_version": "1.5.0",
      "_model_name": "HBoxModel",
      "_view_count": null,
      "_view_module": "@jupyter-widgets/controls",
      "_view_module_version": "1.5.0",
      "_view_name": "HBoxView",
      "box_style": "",
      "children": [
       "IPY_MODEL_d154d6a185e54ab0bf073d4b86425630",
       "IPY_MODEL_e77d11aeca504243b185baae63592ba1",
       "IPY_MODEL_ca4790f6fba247c0bd561d41d575dd56"
      ],
      "layout": "IPY_MODEL_3caf6ebe08af4114bea4515221034c59"
     }
    },
    "2c7c0cc76f124314984b3e976ce9cc60": {
     "model_module": "@jupyter-widgets/controls",
     "model_module_version": "1.5.0",
     "model_name": "ProgressStyleModel",
     "state": {
      "_model_module": "@jupyter-widgets/controls",
      "_model_module_version": "1.5.0",
      "_model_name": "ProgressStyleModel",
      "_view_count": null,
      "_view_module": "@jupyter-widgets/base",
      "_view_module_version": "1.2.0",
      "_view_name": "StyleView",
      "bar_color": null,
      "description_width": ""
     }
    },
    "35a7b6e205f241ed8038db402ccf43be": {
     "model_module": "@jupyter-widgets/base",
     "model_module_version": "1.2.0",
     "model_name": "LayoutModel",
     "state": {
      "_model_module": "@jupyter-widgets/base",
      "_model_module_version": "1.2.0",
      "_model_name": "LayoutModel",
      "_view_count": null,
      "_view_module": "@jupyter-widgets/base",
      "_view_module_version": "1.2.0",
      "_view_name": "LayoutView",
      "align_content": null,
      "align_items": null,
      "align_self": null,
      "border": null,
      "bottom": null,
      "display": null,
      "flex": null,
      "flex_flow": null,
      "grid_area": null,
      "grid_auto_columns": null,
      "grid_auto_flow": null,
      "grid_auto_rows": null,
      "grid_column": null,
      "grid_gap": null,
      "grid_row": null,
      "grid_template_areas": null,
      "grid_template_columns": null,
      "grid_template_rows": null,
      "height": null,
      "justify_content": null,
      "justify_items": null,
      "left": null,
      "margin": null,
      "max_height": null,
      "max_width": null,
      "min_height": null,
      "min_width": null,
      "object_fit": null,
      "object_position": null,
      "order": null,
      "overflow": null,
      "overflow_x": null,
      "overflow_y": null,
      "padding": null,
      "right": null,
      "top": null,
      "visibility": null,
      "width": null
     }
    },
    "397693b3d8204346b120927af53b335d": {
     "model_module": "@jupyter-widgets/controls",
     "model_module_version": "1.5.0",
     "model_name": "HTMLModel",
     "state": {
      "_dom_classes": [],
      "_model_module": "@jupyter-widgets/controls",
      "_model_module_version": "1.5.0",
      "_model_name": "HTMLModel",
      "_view_count": null,
      "_view_module": "@jupyter-widgets/controls",
      "_view_module_version": "1.5.0",
      "_view_name": "HTMLView",
      "description": "",
      "description_tooltip": null,
      "layout": "IPY_MODEL_6550383e9a5541a89bcc66a2c0d27220",
      "placeholder": "​",
      "style": "IPY_MODEL_254adb737d8b4b2bbea7cc6735811db4",
      "value": " 12345/12345 [00:01&lt;00:00, 8264.00 examples/s]"
     }
    },
    "3caf6ebe08af4114bea4515221034c59": {
     "model_module": "@jupyter-widgets/base",
     "model_module_version": "1.2.0",
     "model_name": "LayoutModel",
     "state": {
      "_model_module": "@jupyter-widgets/base",
      "_model_module_version": "1.2.0",
      "_model_name": "LayoutModel",
      "_view_count": null,
      "_view_module": "@jupyter-widgets/base",
      "_view_module_version": "1.2.0",
      "_view_name": "LayoutView",
      "align_content": null,
      "align_items": null,
      "align_self": null,
      "border": null,
      "bottom": null,
      "display": null,
      "flex": null,
      "flex_flow": null,
      "grid_area": null,
      "grid_auto_columns": null,
      "grid_auto_flow": null,
      "grid_auto_rows": null,
      "grid_column": null,
      "grid_gap": null,
      "grid_row": null,
      "grid_template_areas": null,
      "grid_template_columns": null,
      "grid_template_rows": null,
      "height": null,
      "justify_content": null,
      "justify_items": null,
      "left": null,
      "margin": null,
      "max_height": null,
      "max_width": null,
      "min_height": null,
      "min_width": null,
      "object_fit": null,
      "object_position": null,
      "order": null,
      "overflow": null,
      "overflow_x": null,
      "overflow_y": null,
      "padding": null,
      "right": null,
      "top": null,
      "visibility": null,
      "width": null
     }
    },
    "3d0a0b2c4a524fe2b575ba789ee3311b": {
     "model_module": "@jupyter-widgets/controls",
     "model_module_version": "1.5.0",
     "model_name": "HTMLModel",
     "state": {
      "_dom_classes": [],
      "_model_module": "@jupyter-widgets/controls",
      "_model_module_version": "1.5.0",
      "_model_name": "HTMLModel",
      "_view_count": null,
      "_view_module": "@jupyter-widgets/controls",
      "_view_module_version": "1.5.0",
      "_view_name": "HTMLView",
      "description": "",
      "description_tooltip": null,
      "layout": "IPY_MODEL_8d49dba1826a4fda9dd1031bd41ae8b3",
      "placeholder": "​",
      "style": "IPY_MODEL_ae10d75c8cb347948a1fda788cef2db3",
      "value": "Map: 100%"
     }
    },
    "3d814f353db442eb9112606754300151": {
     "model_module": "@jupyter-widgets/controls",
     "model_module_version": "1.5.0",
     "model_name": "HBoxModel",
     "state": {
      "_dom_classes": [],
      "_model_module": "@jupyter-widgets/controls",
      "_model_module_version": "1.5.0",
      "_model_name": "HBoxModel",
      "_view_count": null,
      "_view_module": "@jupyter-widgets/controls",
      "_view_module_version": "1.5.0",
      "_view_name": "HBoxView",
      "box_style": "",
      "children": [
       "IPY_MODEL_4bccd35a446a41869b3b45abf171037c",
       "IPY_MODEL_c019a93111554d2697ce71ab38af5af0",
       "IPY_MODEL_e35fb316644b4c6992a4d7942ee7de37"
      ],
      "layout": "IPY_MODEL_40e696c7e32445e2be8ceb210cd3f192"
     }
    },
    "3ea499e59e854635873384340bbc2d97": {
     "model_module": "@jupyter-widgets/controls",
     "model_module_version": "1.5.0",
     "model_name": "DescriptionStyleModel",
     "state": {
      "_model_module": "@jupyter-widgets/controls",
      "_model_module_version": "1.5.0",
      "_model_name": "DescriptionStyleModel",
      "_view_count": null,
      "_view_module": "@jupyter-widgets/base",
      "_view_module_version": "1.2.0",
      "_view_name": "StyleView",
      "description_width": ""
     }
    },
    "40e696c7e32445e2be8ceb210cd3f192": {
     "model_module": "@jupyter-widgets/base",
     "model_module_version": "1.2.0",
     "model_name": "LayoutModel",
     "state": {
      "_model_module": "@jupyter-widgets/base",
      "_model_module_version": "1.2.0",
      "_model_name": "LayoutModel",
      "_view_count": null,
      "_view_module": "@jupyter-widgets/base",
      "_view_module_version": "1.2.0",
      "_view_name": "LayoutView",
      "align_content": null,
      "align_items": null,
      "align_self": null,
      "border": null,
      "bottom": null,
      "display": null,
      "flex": null,
      "flex_flow": null,
      "grid_area": null,
      "grid_auto_columns": null,
      "grid_auto_flow": null,
      "grid_auto_rows": null,
      "grid_column": null,
      "grid_gap": null,
      "grid_row": null,
      "grid_template_areas": null,
      "grid_template_columns": null,
      "grid_template_rows": null,
      "height": null,
      "justify_content": null,
      "justify_items": null,
      "left": null,
      "margin": null,
      "max_height": null,
      "max_width": null,
      "min_height": null,
      "min_width": null,
      "object_fit": null,
      "object_position": null,
      "order": null,
      "overflow": null,
      "overflow_x": null,
      "overflow_y": null,
      "padding": null,
      "right": null,
      "top": null,
      "visibility": null,
      "width": null
     }
    },
    "4140a0d818e04d12b1ca7cca6e8cd44b": {
     "model_module": "@jupyter-widgets/base",
     "model_module_version": "1.2.0",
     "model_name": "LayoutModel",
     "state": {
      "_model_module": "@jupyter-widgets/base",
      "_model_module_version": "1.2.0",
      "_model_name": "LayoutModel",
      "_view_count": null,
      "_view_module": "@jupyter-widgets/base",
      "_view_module_version": "1.2.0",
      "_view_name": "LayoutView",
      "align_content": null,
      "align_items": null,
      "align_self": null,
      "border": null,
      "bottom": null,
      "display": null,
      "flex": null,
      "flex_flow": null,
      "grid_area": null,
      "grid_auto_columns": null,
      "grid_auto_flow": null,
      "grid_auto_rows": null,
      "grid_column": null,
      "grid_gap": null,
      "grid_row": null,
      "grid_template_areas": null,
      "grid_template_columns": null,
      "grid_template_rows": null,
      "height": null,
      "justify_content": null,
      "justify_items": null,
      "left": null,
      "margin": null,
      "max_height": null,
      "max_width": null,
      "min_height": null,
      "min_width": null,
      "object_fit": null,
      "object_position": null,
      "order": null,
      "overflow": null,
      "overflow_x": null,
      "overflow_y": null,
      "padding": null,
      "right": null,
      "top": null,
      "visibility": null,
      "width": null
     }
    },
    "46b7925760c948d992ed8d59ac3158c0": {
     "model_module": "@jupyter-widgets/controls",
     "model_module_version": "1.5.0",
     "model_name": "ProgressStyleModel",
     "state": {
      "_model_module": "@jupyter-widgets/controls",
      "_model_module_version": "1.5.0",
      "_model_name": "ProgressStyleModel",
      "_view_count": null,
      "_view_module": "@jupyter-widgets/base",
      "_view_module_version": "1.2.0",
      "_view_name": "StyleView",
      "bar_color": null,
      "description_width": ""
     }
    },
    "4bccd35a446a41869b3b45abf171037c": {
     "model_module": "@jupyter-widgets/controls",
     "model_module_version": "1.5.0",
     "model_name": "HTMLModel",
     "state": {
      "_dom_classes": [],
      "_model_module": "@jupyter-widgets/controls",
      "_model_module_version": "1.5.0",
      "_model_name": "HTMLModel",
      "_view_count": null,
      "_view_module": "@jupyter-widgets/controls",
      "_view_module_version": "1.5.0",
      "_view_name": "HTMLView",
      "description": "",
      "description_tooltip": null,
      "layout": "IPY_MODEL_fd1ef7ce4859446e83e2d98440127e9b",
      "placeholder": "​",
      "style": "IPY_MODEL_bf3b9fff89354804ba6f113d727e5954",
      "value": "Map: 100%"
     }
    },
    "4d1502e7dc5e4a03815e413c409b177b": {
     "model_module": "@jupyter-widgets/base",
     "model_module_version": "1.2.0",
     "model_name": "LayoutModel",
     "state": {
      "_model_module": "@jupyter-widgets/base",
      "_model_module_version": "1.2.0",
      "_model_name": "LayoutModel",
      "_view_count": null,
      "_view_module": "@jupyter-widgets/base",
      "_view_module_version": "1.2.0",
      "_view_name": "LayoutView",
      "align_content": null,
      "align_items": null,
      "align_self": null,
      "border": null,
      "bottom": null,
      "display": null,
      "flex": null,
      "flex_flow": null,
      "grid_area": null,
      "grid_auto_columns": null,
      "grid_auto_flow": null,
      "grid_auto_rows": null,
      "grid_column": null,
      "grid_gap": null,
      "grid_row": null,
      "grid_template_areas": null,
      "grid_template_columns": null,
      "grid_template_rows": null,
      "height": null,
      "justify_content": null,
      "justify_items": null,
      "left": null,
      "margin": null,
      "max_height": null,
      "max_width": null,
      "min_height": null,
      "min_width": null,
      "object_fit": null,
      "object_position": null,
      "order": null,
      "overflow": null,
      "overflow_x": null,
      "overflow_y": null,
      "padding": null,
      "right": null,
      "top": null,
      "visibility": null,
      "width": null
     }
    },
    "6550383e9a5541a89bcc66a2c0d27220": {
     "model_module": "@jupyter-widgets/base",
     "model_module_version": "1.2.0",
     "model_name": "LayoutModel",
     "state": {
      "_model_module": "@jupyter-widgets/base",
      "_model_module_version": "1.2.0",
      "_model_name": "LayoutModel",
      "_view_count": null,
      "_view_module": "@jupyter-widgets/base",
      "_view_module_version": "1.2.0",
      "_view_name": "LayoutView",
      "align_content": null,
      "align_items": null,
      "align_self": null,
      "border": null,
      "bottom": null,
      "display": null,
      "flex": null,
      "flex_flow": null,
      "grid_area": null,
      "grid_auto_columns": null,
      "grid_auto_flow": null,
      "grid_auto_rows": null,
      "grid_column": null,
      "grid_gap": null,
      "grid_row": null,
      "grid_template_areas": null,
      "grid_template_columns": null,
      "grid_template_rows": null,
      "height": null,
      "justify_content": null,
      "justify_items": null,
      "left": null,
      "margin": null,
      "max_height": null,
      "max_width": null,
      "min_height": null,
      "min_width": null,
      "object_fit": null,
      "object_position": null,
      "order": null,
      "overflow": null,
      "overflow_x": null,
      "overflow_y": null,
      "padding": null,
      "right": null,
      "top": null,
      "visibility": null,
      "width": null
     }
    },
    "735a5e9f6a83425c92e5dccfa8b63be5": {
     "model_module": "@jupyter-widgets/base",
     "model_module_version": "1.2.0",
     "model_name": "LayoutModel",
     "state": {
      "_model_module": "@jupyter-widgets/base",
      "_model_module_version": "1.2.0",
      "_model_name": "LayoutModel",
      "_view_count": null,
      "_view_module": "@jupyter-widgets/base",
      "_view_module_version": "1.2.0",
      "_view_name": "LayoutView",
      "align_content": null,
      "align_items": null,
      "align_self": null,
      "border": null,
      "bottom": null,
      "display": null,
      "flex": null,
      "flex_flow": null,
      "grid_area": null,
      "grid_auto_columns": null,
      "grid_auto_flow": null,
      "grid_auto_rows": null,
      "grid_column": null,
      "grid_gap": null,
      "grid_row": null,
      "grid_template_areas": null,
      "grid_template_columns": null,
      "grid_template_rows": null,
      "height": null,
      "justify_content": null,
      "justify_items": null,
      "left": null,
      "margin": null,
      "max_height": null,
      "max_width": null,
      "min_height": null,
      "min_width": null,
      "object_fit": null,
      "object_position": null,
      "order": null,
      "overflow": null,
      "overflow_x": null,
      "overflow_y": null,
      "padding": null,
      "right": null,
      "top": null,
      "visibility": null,
      "width": null
     }
    },
    "8d49dba1826a4fda9dd1031bd41ae8b3": {
     "model_module": "@jupyter-widgets/base",
     "model_module_version": "1.2.0",
     "model_name": "LayoutModel",
     "state": {
      "_model_module": "@jupyter-widgets/base",
      "_model_module_version": "1.2.0",
      "_model_name": "LayoutModel",
      "_view_count": null,
      "_view_module": "@jupyter-widgets/base",
      "_view_module_version": "1.2.0",
      "_view_name": "LayoutView",
      "align_content": null,
      "align_items": null,
      "align_self": null,
      "border": null,
      "bottom": null,
      "display": null,
      "flex": null,
      "flex_flow": null,
      "grid_area": null,
      "grid_auto_columns": null,
      "grid_auto_flow": null,
      "grid_auto_rows": null,
      "grid_column": null,
      "grid_gap": null,
      "grid_row": null,
      "grid_template_areas": null,
      "grid_template_columns": null,
      "grid_template_rows": null,
      "height": null,
      "justify_content": null,
      "justify_items": null,
      "left": null,
      "margin": null,
      "max_height": null,
      "max_width": null,
      "min_height": null,
      "min_width": null,
      "object_fit": null,
      "object_position": null,
      "order": null,
      "overflow": null,
      "overflow_x": null,
      "overflow_y": null,
      "padding": null,
      "right": null,
      "top": null,
      "visibility": null,
      "width": null
     }
    },
    "8f661c7cfbaf4c7a9915987ab8cc7814": {
     "model_module": "@jupyter-widgets/base",
     "model_module_version": "1.2.0",
     "model_name": "LayoutModel",
     "state": {
      "_model_module": "@jupyter-widgets/base",
      "_model_module_version": "1.2.0",
      "_model_name": "LayoutModel",
      "_view_count": null,
      "_view_module": "@jupyter-widgets/base",
      "_view_module_version": "1.2.0",
      "_view_name": "LayoutView",
      "align_content": null,
      "align_items": null,
      "align_self": null,
      "border": null,
      "bottom": null,
      "display": null,
      "flex": null,
      "flex_flow": null,
      "grid_area": null,
      "grid_auto_columns": null,
      "grid_auto_flow": null,
      "grid_auto_rows": null,
      "grid_column": null,
      "grid_gap": null,
      "grid_row": null,
      "grid_template_areas": null,
      "grid_template_columns": null,
      "grid_template_rows": null,
      "height": null,
      "justify_content": null,
      "justify_items": null,
      "left": null,
      "margin": null,
      "max_height": null,
      "max_width": null,
      "min_height": null,
      "min_width": null,
      "object_fit": null,
      "object_position": null,
      "order": null,
      "overflow": null,
      "overflow_x": null,
      "overflow_y": null,
      "padding": null,
      "right": null,
      "top": null,
      "visibility": null,
      "width": null
     }
    },
    "ab8fff6765a34e458c0de3414a1004f1": {
     "model_module": "@jupyter-widgets/base",
     "model_module_version": "1.2.0",
     "model_name": "LayoutModel",
     "state": {
      "_model_module": "@jupyter-widgets/base",
      "_model_module_version": "1.2.0",
      "_model_name": "LayoutModel",
      "_view_count": null,
      "_view_module": "@jupyter-widgets/base",
      "_view_module_version": "1.2.0",
      "_view_name": "LayoutView",
      "align_content": null,
      "align_items": null,
      "align_self": null,
      "border": null,
      "bottom": null,
      "display": null,
      "flex": null,
      "flex_flow": null,
      "grid_area": null,
      "grid_auto_columns": null,
      "grid_auto_flow": null,
      "grid_auto_rows": null,
      "grid_column": null,
      "grid_gap": null,
      "grid_row": null,
      "grid_template_areas": null,
      "grid_template_columns": null,
      "grid_template_rows": null,
      "height": null,
      "justify_content": null,
      "justify_items": null,
      "left": null,
      "margin": null,
      "max_height": null,
      "max_width": null,
      "min_height": null,
      "min_width": null,
      "object_fit": null,
      "object_position": null,
      "order": null,
      "overflow": null,
      "overflow_x": null,
      "overflow_y": null,
      "padding": null,
      "right": null,
      "top": null,
      "visibility": null,
      "width": null
     }
    },
    "ad4cd9501de8484dbfc2b39df830db05": {
     "model_module": "@jupyter-widgets/base",
     "model_module_version": "1.2.0",
     "model_name": "LayoutModel",
     "state": {
      "_model_module": "@jupyter-widgets/base",
      "_model_module_version": "1.2.0",
      "_model_name": "LayoutModel",
      "_view_count": null,
      "_view_module": "@jupyter-widgets/base",
      "_view_module_version": "1.2.0",
      "_view_name": "LayoutView",
      "align_content": null,
      "align_items": null,
      "align_self": null,
      "border": null,
      "bottom": null,
      "display": null,
      "flex": null,
      "flex_flow": null,
      "grid_area": null,
      "grid_auto_columns": null,
      "grid_auto_flow": null,
      "grid_auto_rows": null,
      "grid_column": null,
      "grid_gap": null,
      "grid_row": null,
      "grid_template_areas": null,
      "grid_template_columns": null,
      "grid_template_rows": null,
      "height": null,
      "justify_content": null,
      "justify_items": null,
      "left": null,
      "margin": null,
      "max_height": null,
      "max_width": null,
      "min_height": null,
      "min_width": null,
      "object_fit": null,
      "object_position": null,
      "order": null,
      "overflow": null,
      "overflow_x": null,
      "overflow_y": null,
      "padding": null,
      "right": null,
      "top": null,
      "visibility": null,
      "width": null
     }
    },
    "ae10d75c8cb347948a1fda788cef2db3": {
     "model_module": "@jupyter-widgets/controls",
     "model_module_version": "1.5.0",
     "model_name": "DescriptionStyleModel",
     "state": {
      "_model_module": "@jupyter-widgets/controls",
      "_model_module_version": "1.5.0",
      "_model_name": "DescriptionStyleModel",
      "_view_count": null,
      "_view_module": "@jupyter-widgets/base",
      "_view_module_version": "1.2.0",
      "_view_name": "StyleView",
      "description_width": ""
     }
    },
    "bd929a65cf3748db9b4ffb4ab361f2fa": {
     "model_module": "@jupyter-widgets/base",
     "model_module_version": "1.2.0",
     "model_name": "LayoutModel",
     "state": {
      "_model_module": "@jupyter-widgets/base",
      "_model_module_version": "1.2.0",
      "_model_name": "LayoutModel",
      "_view_count": null,
      "_view_module": "@jupyter-widgets/base",
      "_view_module_version": "1.2.0",
      "_view_name": "LayoutView",
      "align_content": null,
      "align_items": null,
      "align_self": null,
      "border": null,
      "bottom": null,
      "display": null,
      "flex": null,
      "flex_flow": null,
      "grid_area": null,
      "grid_auto_columns": null,
      "grid_auto_flow": null,
      "grid_auto_rows": null,
      "grid_column": null,
      "grid_gap": null,
      "grid_row": null,
      "grid_template_areas": null,
      "grid_template_columns": null,
      "grid_template_rows": null,
      "height": null,
      "justify_content": null,
      "justify_items": null,
      "left": null,
      "margin": null,
      "max_height": null,
      "max_width": null,
      "min_height": null,
      "min_width": null,
      "object_fit": null,
      "object_position": null,
      "order": null,
      "overflow": null,
      "overflow_x": null,
      "overflow_y": null,
      "padding": null,
      "right": null,
      "top": null,
      "visibility": null,
      "width": null
     }
    },
    "bf3b9fff89354804ba6f113d727e5954": {
     "model_module": "@jupyter-widgets/controls",
     "model_module_version": "1.5.0",
     "model_name": "DescriptionStyleModel",
     "state": {
      "_model_module": "@jupyter-widgets/controls",
      "_model_module_version": "1.5.0",
      "_model_name": "DescriptionStyleModel",
      "_view_count": null,
      "_view_module": "@jupyter-widgets/base",
      "_view_module_version": "1.2.0",
      "_view_name": "StyleView",
      "description_width": ""
     }
    },
    "c019a93111554d2697ce71ab38af5af0": {
     "model_module": "@jupyter-widgets/controls",
     "model_module_version": "1.5.0",
     "model_name": "FloatProgressModel",
     "state": {
      "_dom_classes": [],
      "_model_module": "@jupyter-widgets/controls",
      "_model_module_version": "1.5.0",
      "_model_name": "FloatProgressModel",
      "_view_count": null,
      "_view_module": "@jupyter-widgets/controls",
      "_view_module_version": "1.5.0",
      "_view_name": "ProgressView",
      "bar_style": "success",
      "description": "",
      "description_tooltip": null,
      "layout": "IPY_MODEL_bd929a65cf3748db9b4ffb4ab361f2fa",
      "max": 12345,
      "min": 0,
      "orientation": "horizontal",
      "style": "IPY_MODEL_d31b45625f1444e681dd4e9f7cbf096f",
      "value": 12345
     }
    },
    "c658c2a73485447784b805287cfc32db": {
     "model_module": "@jupyter-widgets/base",
     "model_module_version": "1.2.0",
     "model_name": "LayoutModel",
     "state": {
      "_model_module": "@jupyter-widgets/base",
      "_model_module_version": "1.2.0",
      "_model_name": "LayoutModel",
      "_view_count": null,
      "_view_module": "@jupyter-widgets/base",
      "_view_module_version": "1.2.0",
      "_view_name": "LayoutView",
      "align_content": null,
      "align_items": null,
      "align_self": null,
      "border": null,
      "bottom": null,
      "display": null,
      "flex": null,
      "flex_flow": null,
      "grid_area": null,
      "grid_auto_columns": null,
      "grid_auto_flow": null,
      "grid_auto_rows": null,
      "grid_column": null,
      "grid_gap": null,
      "grid_row": null,
      "grid_template_areas": null,
      "grid_template_columns": null,
      "grid_template_rows": null,
      "height": null,
      "justify_content": null,
      "justify_items": null,
      "left": null,
      "margin": null,
      "max_height": null,
      "max_width": null,
      "min_height": null,
      "min_width": null,
      "object_fit": null,
      "object_position": null,
      "order": null,
      "overflow": null,
      "overflow_x": null,
      "overflow_y": null,
      "padding": null,
      "right": null,
      "top": null,
      "visibility": null,
      "width": null
     }
    },
    "ca4790f6fba247c0bd561d41d575dd56": {
     "model_module": "@jupyter-widgets/controls",
     "model_module_version": "1.5.0",
     "model_name": "HTMLModel",
     "state": {
      "_dom_classes": [],
      "_model_module": "@jupyter-widgets/controls",
      "_model_module_version": "1.5.0",
      "_model_name": "HTMLModel",
      "_view_count": null,
      "_view_module": "@jupyter-widgets/controls",
      "_view_module_version": "1.5.0",
      "_view_name": "HTMLView",
      "description": "",
      "description_tooltip": null,
      "layout": "IPY_MODEL_c658c2a73485447784b805287cfc32db",
      "placeholder": "​",
      "style": "IPY_MODEL_fa12dfe901284b858032a56731066c63",
      "value": " 2138/2138 [00:00&lt;00:00, 6123.62 examples/s]"
     }
    },
    "cc89f898a300478a9e751a0118a5e040": {
     "model_module": "@jupyter-widgets/controls",
     "model_module_version": "1.5.0",
     "model_name": "FloatProgressModel",
     "state": {
      "_dom_classes": [],
      "_model_module": "@jupyter-widgets/controls",
      "_model_module_version": "1.5.0",
      "_model_name": "FloatProgressModel",
      "_view_count": null,
      "_view_module": "@jupyter-widgets/controls",
      "_view_module_version": "1.5.0",
      "_view_name": "ProgressView",
      "bar_style": "success",
      "description": "",
      "description_tooltip": null,
      "layout": "IPY_MODEL_ad4cd9501de8484dbfc2b39df830db05",
      "max": 10207,
      "min": 0,
      "orientation": "horizontal",
      "style": "IPY_MODEL_46b7925760c948d992ed8d59ac3158c0",
      "value": 10207
     }
    },
    "d153e9aaf7224735bd78b7043a662a5b": {
     "model_module": "@jupyter-widgets/controls",
     "model_module_version": "1.5.0",
     "model_name": "HTMLModel",
     "state": {
      "_dom_classes": [],
      "_model_module": "@jupyter-widgets/controls",
      "_model_module_version": "1.5.0",
      "_model_name": "HTMLModel",
      "_view_count": null,
      "_view_module": "@jupyter-widgets/controls",
      "_view_module_version": "1.5.0",
      "_view_name": "HTMLView",
      "description": "",
      "description_tooltip": null,
      "layout": "IPY_MODEL_d308f4a7b64c47ceba050db0cd4f902b",
      "placeholder": "​",
      "style": "IPY_MODEL_1e87a9d47fa946e9ba163fde263bb8e6",
      "value": "Map: 100%"
     }
    },
    "d154d6a185e54ab0bf073d4b86425630": {
     "model_module": "@jupyter-widgets/controls",
     "model_module_version": "1.5.0",
     "model_name": "HTMLModel",
     "state": {
      "_dom_classes": [],
      "_model_module": "@jupyter-widgets/controls",
      "_model_module_version": "1.5.0",
      "_model_name": "HTMLModel",
      "_view_count": null,
      "_view_module": "@jupyter-widgets/controls",
      "_view_module_version": "1.5.0",
      "_view_name": "HTMLView",
      "description": "",
      "description_tooltip": null,
      "layout": "IPY_MODEL_35a7b6e205f241ed8038db402ccf43be",
      "placeholder": "​",
      "style": "IPY_MODEL_3ea499e59e854635873384340bbc2d97",
      "value": "Map: 100%"
     }
    },
    "d308f4a7b64c47ceba050db0cd4f902b": {
     "model_module": "@jupyter-widgets/base",
     "model_module_version": "1.2.0",
     "model_name": "LayoutModel",
     "state": {
      "_model_module": "@jupyter-widgets/base",
      "_model_module_version": "1.2.0",
      "_model_name": "LayoutModel",
      "_view_count": null,
      "_view_module": "@jupyter-widgets/base",
      "_view_module_version": "1.2.0",
      "_view_name": "LayoutView",
      "align_content": null,
      "align_items": null,
      "align_self": null,
      "border": null,
      "bottom": null,
      "display": null,
      "flex": null,
      "flex_flow": null,
      "grid_area": null,
      "grid_auto_columns": null,
      "grid_auto_flow": null,
      "grid_auto_rows": null,
      "grid_column": null,
      "grid_gap": null,
      "grid_row": null,
      "grid_template_areas": null,
      "grid_template_columns": null,
      "grid_template_rows": null,
      "height": null,
      "justify_content": null,
      "justify_items": null,
      "left": null,
      "margin": null,
      "max_height": null,
      "max_width": null,
      "min_height": null,
      "min_width": null,
      "object_fit": null,
      "object_position": null,
      "order": null,
      "overflow": null,
      "overflow_x": null,
      "overflow_y": null,
      "padding": null,
      "right": null,
      "top": null,
      "visibility": null,
      "width": null
     }
    },
    "d31b45625f1444e681dd4e9f7cbf096f": {
     "model_module": "@jupyter-widgets/controls",
     "model_module_version": "1.5.0",
     "model_name": "ProgressStyleModel",
     "state": {
      "_model_module": "@jupyter-widgets/controls",
      "_model_module_version": "1.5.0",
      "_model_name": "ProgressStyleModel",
      "_view_count": null,
      "_view_module": "@jupyter-widgets/base",
      "_view_module_version": "1.2.0",
      "_view_name": "StyleView",
      "bar_color": null,
      "description_width": ""
     }
    },
    "e35fb316644b4c6992a4d7942ee7de37": {
     "model_module": "@jupyter-widgets/controls",
     "model_module_version": "1.5.0",
     "model_name": "HTMLModel",
     "state": {
      "_dom_classes": [],
      "_model_module": "@jupyter-widgets/controls",
      "_model_module_version": "1.5.0",
      "_model_name": "HTMLModel",
      "_view_count": null,
      "_view_module": "@jupyter-widgets/controls",
      "_view_module_version": "1.5.0",
      "_view_name": "HTMLView",
      "description": "",
      "description_tooltip": null,
      "layout": "IPY_MODEL_4d1502e7dc5e4a03815e413c409b177b",
      "placeholder": "​",
      "style": "IPY_MODEL_03c0d3f0e5a0496abd505788ad10b16e",
      "value": " 12345/12345 [00:00&lt;00:00, 29652.30 examples/s]"
     }
    },
    "e420e14be19b4572891e9aafcbfd7f38": {
     "model_module": "@jupyter-widgets/controls",
     "model_module_version": "1.5.0",
     "model_name": "ProgressStyleModel",
     "state": {
      "_model_module": "@jupyter-widgets/controls",
      "_model_module_version": "1.5.0",
      "_model_name": "ProgressStyleModel",
      "_view_count": null,
      "_view_module": "@jupyter-widgets/base",
      "_view_module_version": "1.2.0",
      "_view_name": "StyleView",
      "bar_color": null,
      "description_width": ""
     }
    },
    "e77d11aeca504243b185baae63592ba1": {
     "model_module": "@jupyter-widgets/controls",
     "model_module_version": "1.5.0",
     "model_name": "FloatProgressModel",
     "state": {
      "_dom_classes": [],
      "_model_module": "@jupyter-widgets/controls",
      "_model_module_version": "1.5.0",
      "_model_name": "FloatProgressModel",
      "_view_count": null,
      "_view_module": "@jupyter-widgets/controls",
      "_view_module_version": "1.5.0",
      "_view_name": "ProgressView",
      "bar_style": "success",
      "description": "",
      "description_tooltip": null,
      "layout": "IPY_MODEL_8f661c7cfbaf4c7a9915987ab8cc7814",
      "max": 2138,
      "min": 0,
      "orientation": "horizontal",
      "style": "IPY_MODEL_e420e14be19b4572891e9aafcbfd7f38",
      "value": 2138
     }
    },
    "fa12dfe901284b858032a56731066c63": {
     "model_module": "@jupyter-widgets/controls",
     "model_module_version": "1.5.0",
     "model_name": "DescriptionStyleModel",
     "state": {
      "_model_module": "@jupyter-widgets/controls",
      "_model_module_version": "1.5.0",
      "_model_name": "DescriptionStyleModel",
      "_view_count": null,
      "_view_module": "@jupyter-widgets/base",
      "_view_module_version": "1.2.0",
      "_view_name": "StyleView",
      "description_width": ""
     }
    },
    "fd1ef7ce4859446e83e2d98440127e9b": {
     "model_module": "@jupyter-widgets/base",
     "model_module_version": "1.2.0",
     "model_name": "LayoutModel",
     "state": {
      "_model_module": "@jupyter-widgets/base",
      "_model_module_version": "1.2.0",
      "_model_name": "LayoutModel",
      "_view_count": null,
      "_view_module": "@jupyter-widgets/base",
      "_view_module_version": "1.2.0",
      "_view_name": "LayoutView",
      "align_content": null,
      "align_items": null,
      "align_self": null,
      "border": null,
      "bottom": null,
      "display": null,
      "flex": null,
      "flex_flow": null,
      "grid_area": null,
      "grid_auto_columns": null,
      "grid_auto_flow": null,
      "grid_auto_rows": null,
      "grid_column": null,
      "grid_gap": null,
      "grid_row": null,
      "grid_template_areas": null,
      "grid_template_columns": null,
      "grid_template_rows": null,
      "height": null,
      "justify_content": null,
      "justify_items": null,
      "left": null,
      "margin": null,
      "max_height": null,
      "max_width": null,
      "min_height": null,
      "min_width": null,
      "object_fit": null,
      "object_position": null,
      "order": null,
      "overflow": null,
      "overflow_x": null,
      "overflow_y": null,
      "padding": null,
      "right": null,
      "top": null,
      "visibility": null,
      "width": null
     }
    }
   }
  }
 },
 "nbformat": 4,
 "nbformat_minor": 5
}
