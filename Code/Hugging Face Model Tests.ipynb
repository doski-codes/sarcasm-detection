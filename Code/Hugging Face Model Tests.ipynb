{
 "cells": [
  {
   "cell_type": "code",
   "execution_count": 1,
   "id": "bca6118e",
   "metadata": {},
   "outputs": [
    {
     "name": "stderr",
     "output_type": "stream",
     "text": [
      "/Users/doski/miniconda3/envs/getinno-env/lib/python3.9/site-packages/tqdm/auto.py:22: TqdmWarning: IProgress not found. Please update jupyter and ipywidgets. See https://ipywidgets.readthedocs.io/en/stable/user_install.html\n",
      "  from .autonotebook import tqdm as notebook_tqdm\n"
     ]
    }
   ],
   "source": [
    "import re\n",
    "import string\n",
    "\n",
    "import numpy as np\n",
    "import pandas as pd\n",
    "from matplotlib import pyplot as plt\n",
    "import seaborn as sns\n",
    "\n",
    "from collections import Counter\n",
    "\n",
    "import spacy\n",
    "from spacy.lang.en.stop_words import STOP_WORDS\n",
    "\n",
    "from sklearn.model_selection import train_test_split, GridSearchCV\n",
    "from sklearn.feature_extraction.text import CountVectorizer\n",
    "\n",
    "from sklearn.svm import LinearSVC\n",
    "from sklearn.naive_bayes import GaussianNB\n",
    "from sklearn.tree import DecisionTreeClassifier\n",
    "from sklearn.neural_network import MLPClassifier\n",
    "from sklearn.linear_model import LogisticRegression\n",
    "from sklearn.ensemble import GradientBoostingClassifier, RandomForestClassifier\n",
    "\n",
    "from sklearn.metrics import confusion_matrix, classification_report, RocCurveDisplay\n",
    "\n",
    "from sklearn.pipeline import Pipeline\n",
    "from sklearn.compose import ColumnTransformer\n",
    "from sklearn.preprocessing import StandardScaler, MaxAbsScaler, Normalizer\n",
    "\n",
    "import tensorflow.keras\n",
    "from tensorflow.keras.models import Sequential\n",
    "from tensorflow.keras.preprocessing.text import Tokenizer\n",
    "from tensorflow.keras.preprocessing.sequence import pad_sequences\n",
    "from tensorflow.keras.layers import Dense, LSTM, Embedding, Bidirectional\n",
    "\n",
    "from sentence_transformers import SentenceTransformer"
   ]
  },
  {
   "cell_type": "code",
   "execution_count": 2,
   "id": "0041eb69",
   "metadata": {},
   "outputs": [],
   "source": [
    "data = pd.read_json('../Datasets/sarcasm_data.json')"
   ]
  },
  {
   "cell_type": "code",
   "execution_count": 3,
   "id": "afb34a8f",
   "metadata": {},
   "outputs": [
    {
     "data": {
      "text/html": [
       "<div>\n",
       "<style scoped>\n",
       "    .dataframe tbody tr th:only-of-type {\n",
       "        vertical-align: middle;\n",
       "    }\n",
       "\n",
       "    .dataframe tbody tr th {\n",
       "        vertical-align: top;\n",
       "    }\n",
       "\n",
       "    .dataframe thead th {\n",
       "        text-align: right;\n",
       "    }\n",
       "</style>\n",
       "<table border=\"1\" class=\"dataframe\">\n",
       "  <thead>\n",
       "    <tr style=\"text-align: right;\">\n",
       "      <th></th>\n",
       "      <th>160</th>\n",
       "      <th>170</th>\n",
       "      <th>180</th>\n",
       "      <th>190</th>\n",
       "      <th>1105</th>\n",
       "      <th>1162</th>\n",
       "      <th>1175</th>\n",
       "      <th>1182</th>\n",
       "      <th>1213</th>\n",
       "      <th>1276</th>\n",
       "      <th>...</th>\n",
       "      <th>2623</th>\n",
       "      <th>2131</th>\n",
       "      <th>2236</th>\n",
       "      <th>2546</th>\n",
       "      <th>2242</th>\n",
       "      <th>2169</th>\n",
       "      <th>2235</th>\n",
       "      <th>234</th>\n",
       "      <th>2608</th>\n",
       "      <th>2524</th>\n",
       "    </tr>\n",
       "  </thead>\n",
       "  <tbody>\n",
       "    <tr>\n",
       "      <th>utterance</th>\n",
       "      <td>It's just a privilege to watch your mind at work.</td>\n",
       "      <td>I don't think I'll be able to stop thinking ab...</td>\n",
       "      <td>Since it's not bee season, you can have my epi...</td>\n",
       "      <td>Lois Lane is falling, accelerating at an initi...</td>\n",
       "      <td>I'm just inferring this is a couch because the...</td>\n",
       "      <td>Sheldon, if you were a robot, and I knew and y...</td>\n",
       "      <td>If you're compiling a mix CD for a double suic...</td>\n",
       "      <td>No. The dark crescent-shaped patterns under yo...</td>\n",
       "      <td>How's this? \"Pleased to meet you, Dr. Gablehau...</td>\n",
       "      <td>Yeah, my parents felt that naming me Leonard a...</td>\n",
       "      <td>...</td>\n",
       "      <td>What do you know? Its a treat for the eyes and...</td>\n",
       "      <td>I really don't wanna sit with Allen Iverson ov...</td>\n",
       "      <td>Gee, if only she were one and had no idea what...</td>\n",
       "      <td>Oh sure, she was probably up all night excited...</td>\n",
       "      <td>Are you still enjoying your nap?</td>\n",
       "      <td>Hes not right for the part, and if I suggest h...</td>\n",
       "      <td>Oh yeah he has a caretaker his older brother, ...</td>\n",
       "      <td>Is it me or the greetings gone downhill around...</td>\n",
       "      <td>You are right, by saying nice, I am virtually ...</td>\n",
       "      <td>Yes and we are \"very\" excited about it.</td>\n",
       "    </tr>\n",
       "    <tr>\n",
       "      <th>speaker</th>\n",
       "      <td>SHELDON</td>\n",
       "      <td>PENNY</td>\n",
       "      <td>SHELDON</td>\n",
       "      <td>SHELDON</td>\n",
       "      <td>SHELDON</td>\n",
       "      <td>HOWARD</td>\n",
       "      <td>SHELDON</td>\n",
       "      <td>SHELDON</td>\n",
       "      <td>SHELDON</td>\n",
       "      <td>LEONARD</td>\n",
       "      <td>...</td>\n",
       "      <td>CHANDLER</td>\n",
       "      <td>CHANDLER</td>\n",
       "      <td>CHANDLER</td>\n",
       "      <td>CHANDLER</td>\n",
       "      <td>CHANDLER</td>\n",
       "      <td>CHANDLER</td>\n",
       "      <td>CHANDLER</td>\n",
       "      <td>CHANDLER</td>\n",
       "      <td>CHANDLER</td>\n",
       "      <td>CHANDLER</td>\n",
       "    </tr>\n",
       "    <tr>\n",
       "      <th>context</th>\n",
       "      <td>[I never would have identified the fingerprint...</td>\n",
       "      <td>[This is one of my favorite places to kick bac...</td>\n",
       "      <td>[Here we go. Pad thai, no peanuts., But does i...</td>\n",
       "      <td>[A marathon? How many Superman movies are ther...</td>\n",
       "      <td>[Great Caesar's ghost, look at this place., So...</td>\n",
       "      <td>[On the other hand, no arousal., None?, None.,...</td>\n",
       "      <td>[Oh, good Lord., God, that's a good song.]</td>\n",
       "      <td>[How do I look?, Could you be more specific?, ...</td>\n",
       "      <td>[You know, I am not going to enjoy this party....</td>\n",
       "      <td>[He switched over to high-energy radiation res...</td>\n",
       "      <td>...</td>\n",
       "      <td>[Chandler?, Hey! Ah!, What do you think?, I th...</td>\n",
       "      <td>[Wish I could switch with someone.]</td>\n",
       "      <td>[You can't go away this weekend, its Emma's bi...</td>\n",
       "      <td>[Hey, Hey, where's the birthday girl?, Oh she ...</td>\n",
       "      <td>[Okay?, Hi Emma, it's the year 2020.]</td>\n",
       "      <td>[What am I gonna do now?, Just pass the tape a...</td>\n",
       "      <td>[Helo! Anybody in there order a celebrity?, Wh...</td>\n",
       "      <td>[Hey, You son of a bitch!]</td>\n",
       "      <td>[Did I go to this school?, Hey, there's Missy ...</td>\n",
       "      <td>[Anyway, if you don't feel like being alone to...</td>\n",
       "    </tr>\n",
       "    <tr>\n",
       "      <th>context_speakers</th>\n",
       "      <td>[LEONARD, SHELDON]</td>\n",
       "      <td>[HOWARD, PENNY, HOWARD, HOWARD, HOWARD, PENNY,...</td>\n",
       "      <td>[LEONARD, HOWARD, LEONARD]</td>\n",
       "      <td>[PENNY, SHELDON, PENNY, SHELDON, SHELDON, PENN...</td>\n",
       "      <td>[SHELDON, LEONARD, SHELDON, SHELDON, SHELDON, ...</td>\n",
       "      <td>[PERSON, LEONARD, PERSON, LEONARD, PERSON, LEO...</td>\n",
       "      <td>[SHELDON, LEONARD]</td>\n",
       "      <td>[LEONARD, SHELDON, LEONARD]</td>\n",
       "      <td>[SHELDON, LEONARD, SHELDON, LEONARD, SHELDON, ...</td>\n",
       "      <td>[PERSON, PERSON, LEONARD, PERSON, LEONARD, PER...</td>\n",
       "      <td>...</td>\n",
       "      <td>[PHOEBE, CHANDLER, MONICA, CHANDLER]</td>\n",
       "      <td>[CHANDLER]</td>\n",
       "      <td>[RACHEL, MONICA, RACHEL]</td>\n",
       "      <td>[MONICA, CHANDLER, RACHEL]</td>\n",
       "      <td>[ROSS, CHANDLER]</td>\n",
       "      <td>[CHANDLER, RACHEL]</td>\n",
       "      <td>[JOEY, PERSON, CHANDLER, PERSON]</td>\n",
       "      <td>[CHANDLER, JOEY]</td>\n",
       "      <td>[CHANDLER, ROSS, CHANDLER, ROSS]</td>\n",
       "      <td>[ROSS]</td>\n",
       "    </tr>\n",
       "    <tr>\n",
       "      <th>show</th>\n",
       "      <td>BBT</td>\n",
       "      <td>BBT</td>\n",
       "      <td>BBT</td>\n",
       "      <td>BBT</td>\n",
       "      <td>BBT</td>\n",
       "      <td>BBT</td>\n",
       "      <td>BBT</td>\n",
       "      <td>BBT</td>\n",
       "      <td>BBT</td>\n",
       "      <td>BBT</td>\n",
       "      <td>...</td>\n",
       "      <td>FRIENDS</td>\n",
       "      <td>FRIENDS</td>\n",
       "      <td>FRIENDS</td>\n",
       "      <td>FRIENDS</td>\n",
       "      <td>FRIENDS</td>\n",
       "      <td>FRIENDS</td>\n",
       "      <td>FRIENDS</td>\n",
       "      <td>FRIENDS</td>\n",
       "      <td>FRIENDS</td>\n",
       "      <td>FRIENDS</td>\n",
       "    </tr>\n",
       "  </tbody>\n",
       "</table>\n",
       "<p>5 rows × 690 columns</p>\n",
       "</div>"
      ],
      "text/plain": [
       "                                                               160   \\\n",
       "utterance         It's just a privilege to watch your mind at work.   \n",
       "speaker                                                     SHELDON   \n",
       "context           [I never would have identified the fingerprint...   \n",
       "context_speakers                                 [LEONARD, SHELDON]   \n",
       "show                                                            BBT   \n",
       "\n",
       "                                                               170   \\\n",
       "utterance         I don't think I'll be able to stop thinking ab...   \n",
       "speaker                                                       PENNY   \n",
       "context           [This is one of my favorite places to kick bac...   \n",
       "context_speakers  [HOWARD, PENNY, HOWARD, HOWARD, HOWARD, PENNY,...   \n",
       "show                                                            BBT   \n",
       "\n",
       "                                                               180   \\\n",
       "utterance         Since it's not bee season, you can have my epi...   \n",
       "speaker                                                     SHELDON   \n",
       "context           [Here we go. Pad thai, no peanuts., But does i...   \n",
       "context_speakers                         [LEONARD, HOWARD, LEONARD]   \n",
       "show                                                            BBT   \n",
       "\n",
       "                                                               190   \\\n",
       "utterance         Lois Lane is falling, accelerating at an initi...   \n",
       "speaker                                                     SHELDON   \n",
       "context           [A marathon? How many Superman movies are ther...   \n",
       "context_speakers  [PENNY, SHELDON, PENNY, SHELDON, SHELDON, PENN...   \n",
       "show                                                            BBT   \n",
       "\n",
       "                                                               1105  \\\n",
       "utterance         I'm just inferring this is a couch because the...   \n",
       "speaker                                                     SHELDON   \n",
       "context           [Great Caesar's ghost, look at this place., So...   \n",
       "context_speakers  [SHELDON, LEONARD, SHELDON, SHELDON, SHELDON, ...   \n",
       "show                                                            BBT   \n",
       "\n",
       "                                                               1162  \\\n",
       "utterance         Sheldon, if you were a robot, and I knew and y...   \n",
       "speaker                                                      HOWARD   \n",
       "context           [On the other hand, no arousal., None?, None.,...   \n",
       "context_speakers  [PERSON, LEONARD, PERSON, LEONARD, PERSON, LEO...   \n",
       "show                                                            BBT   \n",
       "\n",
       "                                                               1175  \\\n",
       "utterance         If you're compiling a mix CD for a double suic...   \n",
       "speaker                                                     SHELDON   \n",
       "context                  [Oh, good Lord., God, that's a good song.]   \n",
       "context_speakers                                 [SHELDON, LEONARD]   \n",
       "show                                                            BBT   \n",
       "\n",
       "                                                               1182  \\\n",
       "utterance         No. The dark crescent-shaped patterns under yo...   \n",
       "speaker                                                     SHELDON   \n",
       "context           [How do I look?, Could you be more specific?, ...   \n",
       "context_speakers                        [LEONARD, SHELDON, LEONARD]   \n",
       "show                                                            BBT   \n",
       "\n",
       "                                                               1213  \\\n",
       "utterance         How's this? \"Pleased to meet you, Dr. Gablehau...   \n",
       "speaker                                                     SHELDON   \n",
       "context           [You know, I am not going to enjoy this party....   \n",
       "context_speakers  [SHELDON, LEONARD, SHELDON, LEONARD, SHELDON, ...   \n",
       "show                                                            BBT   \n",
       "\n",
       "                                                               1276  ...  \\\n",
       "utterance         Yeah, my parents felt that naming me Leonard a...  ...   \n",
       "speaker                                                     LEONARD  ...   \n",
       "context           [He switched over to high-energy radiation res...  ...   \n",
       "context_speakers  [PERSON, PERSON, LEONARD, PERSON, LEONARD, PER...  ...   \n",
       "show                                                            BBT  ...   \n",
       "\n",
       "                                                               2623  \\\n",
       "utterance         What do you know? Its a treat for the eyes and...   \n",
       "speaker                                                    CHANDLER   \n",
       "context           [Chandler?, Hey! Ah!, What do you think?, I th...   \n",
       "context_speakers               [PHOEBE, CHANDLER, MONICA, CHANDLER]   \n",
       "show                                                        FRIENDS   \n",
       "\n",
       "                                                               2131  \\\n",
       "utterance         I really don't wanna sit with Allen Iverson ov...   \n",
       "speaker                                                    CHANDLER   \n",
       "context                         [Wish I could switch with someone.]   \n",
       "context_speakers                                         [CHANDLER]   \n",
       "show                                                        FRIENDS   \n",
       "\n",
       "                                                               2236  \\\n",
       "utterance         Gee, if only she were one and had no idea what...   \n",
       "speaker                                                    CHANDLER   \n",
       "context           [You can't go away this weekend, its Emma's bi...   \n",
       "context_speakers                           [RACHEL, MONICA, RACHEL]   \n",
       "show                                                        FRIENDS   \n",
       "\n",
       "                                                               2546  \\\n",
       "utterance         Oh sure, she was probably up all night excited...   \n",
       "speaker                                                    CHANDLER   \n",
       "context           [Hey, Hey, where's the birthday girl?, Oh she ...   \n",
       "context_speakers                         [MONICA, CHANDLER, RACHEL]   \n",
       "show                                                        FRIENDS   \n",
       "\n",
       "                                                   2242  \\\n",
       "utterance              Are you still enjoying your nap?   \n",
       "speaker                                        CHANDLER   \n",
       "context           [Okay?, Hi Emma, it's the year 2020.]   \n",
       "context_speakers                       [ROSS, CHANDLER]   \n",
       "show                                            FRIENDS   \n",
       "\n",
       "                                                               2169  \\\n",
       "utterance         Hes not right for the part, and if I suggest h...   \n",
       "speaker                                                    CHANDLER   \n",
       "context           [What am I gonna do now?, Just pass the tape a...   \n",
       "context_speakers                                 [CHANDLER, RACHEL]   \n",
       "show                                                        FRIENDS   \n",
       "\n",
       "                                                               2235  \\\n",
       "utterance         Oh yeah he has a caretaker his older brother, ...   \n",
       "speaker                                                    CHANDLER   \n",
       "context           [Helo! Anybody in there order a celebrity?, Wh...   \n",
       "context_speakers                   [JOEY, PERSON, CHANDLER, PERSON]   \n",
       "show                                                        FRIENDS   \n",
       "\n",
       "                                                               234   \\\n",
       "utterance         Is it me or the greetings gone downhill around...   \n",
       "speaker                                                    CHANDLER   \n",
       "context                                  [Hey, You son of a bitch!]   \n",
       "context_speakers                                   [CHANDLER, JOEY]   \n",
       "show                                                        FRIENDS   \n",
       "\n",
       "                                                               2608  \\\n",
       "utterance         You are right, by saying nice, I am virtually ...   \n",
       "speaker                                                    CHANDLER   \n",
       "context           [Did I go to this school?, Hey, there's Missy ...   \n",
       "context_speakers                   [CHANDLER, ROSS, CHANDLER, ROSS]   \n",
       "show                                                        FRIENDS   \n",
       "\n",
       "                                                               2524  \n",
       "utterance                   Yes and we are \"very\" excited about it.  \n",
       "speaker                                                    CHANDLER  \n",
       "context           [Anyway, if you don't feel like being alone to...  \n",
       "context_speakers                                             [ROSS]  \n",
       "show                                                        FRIENDS  \n",
       "\n",
       "[5 rows x 690 columns]"
      ]
     },
     "execution_count": 3,
     "metadata": {},
     "output_type": "execute_result"
    }
   ],
   "source": [
    "data.head()"
   ]
  },
  {
   "cell_type": "code",
   "execution_count": 4,
   "id": "471de838",
   "metadata": {},
   "outputs": [],
   "source": [
    "data = data.T"
   ]
  },
  {
   "cell_type": "code",
   "execution_count": 5,
   "id": "45ce5d33",
   "metadata": {},
   "outputs": [
    {
     "data": {
      "text/html": [
       "<div>\n",
       "<style scoped>\n",
       "    .dataframe tbody tr th:only-of-type {\n",
       "        vertical-align: middle;\n",
       "    }\n",
       "\n",
       "    .dataframe tbody tr th {\n",
       "        vertical-align: top;\n",
       "    }\n",
       "\n",
       "    .dataframe thead th {\n",
       "        text-align: right;\n",
       "    }\n",
       "</style>\n",
       "<table border=\"1\" class=\"dataframe\">\n",
       "  <thead>\n",
       "    <tr style=\"text-align: right;\">\n",
       "      <th></th>\n",
       "      <th>utterance</th>\n",
       "      <th>speaker</th>\n",
       "      <th>context</th>\n",
       "      <th>context_speakers</th>\n",
       "      <th>show</th>\n",
       "      <th>sarcasm</th>\n",
       "    </tr>\n",
       "  </thead>\n",
       "  <tbody>\n",
       "    <tr>\n",
       "      <th>160</th>\n",
       "      <td>It's just a privilege to watch your mind at work.</td>\n",
       "      <td>SHELDON</td>\n",
       "      <td>[I never would have identified the fingerprint...</td>\n",
       "      <td>[LEONARD, SHELDON]</td>\n",
       "      <td>BBT</td>\n",
       "      <td>True</td>\n",
       "    </tr>\n",
       "    <tr>\n",
       "      <th>170</th>\n",
       "      <td>I don't think I'll be able to stop thinking ab...</td>\n",
       "      <td>PENNY</td>\n",
       "      <td>[This is one of my favorite places to kick bac...</td>\n",
       "      <td>[HOWARD, PENNY, HOWARD, HOWARD, HOWARD, PENNY,...</td>\n",
       "      <td>BBT</td>\n",
       "      <td>True</td>\n",
       "    </tr>\n",
       "    <tr>\n",
       "      <th>180</th>\n",
       "      <td>Since it's not bee season, you can have my epi...</td>\n",
       "      <td>SHELDON</td>\n",
       "      <td>[Here we go. Pad thai, no peanuts., But does i...</td>\n",
       "      <td>[LEONARD, HOWARD, LEONARD]</td>\n",
       "      <td>BBT</td>\n",
       "      <td>False</td>\n",
       "    </tr>\n",
       "    <tr>\n",
       "      <th>190</th>\n",
       "      <td>Lois Lane is falling, accelerating at an initi...</td>\n",
       "      <td>SHELDON</td>\n",
       "      <td>[A marathon? How many Superman movies are ther...</td>\n",
       "      <td>[PENNY, SHELDON, PENNY, SHELDON, SHELDON, PENN...</td>\n",
       "      <td>BBT</td>\n",
       "      <td>False</td>\n",
       "    </tr>\n",
       "    <tr>\n",
       "      <th>1105</th>\n",
       "      <td>I'm just inferring this is a couch because the...</td>\n",
       "      <td>SHELDON</td>\n",
       "      <td>[Great Caesar's ghost, look at this place., So...</td>\n",
       "      <td>[SHELDON, LEONARD, SHELDON, SHELDON, SHELDON, ...</td>\n",
       "      <td>BBT</td>\n",
       "      <td>True</td>\n",
       "    </tr>\n",
       "  </tbody>\n",
       "</table>\n",
       "</div>"
      ],
      "text/plain": [
       "                                              utterance  speaker  \\\n",
       "160   It's just a privilege to watch your mind at work.  SHELDON   \n",
       "170   I don't think I'll be able to stop thinking ab...    PENNY   \n",
       "180   Since it's not bee season, you can have my epi...  SHELDON   \n",
       "190   Lois Lane is falling, accelerating at an initi...  SHELDON   \n",
       "1105  I'm just inferring this is a couch because the...  SHELDON   \n",
       "\n",
       "                                                context  \\\n",
       "160   [I never would have identified the fingerprint...   \n",
       "170   [This is one of my favorite places to kick bac...   \n",
       "180   [Here we go. Pad thai, no peanuts., But does i...   \n",
       "190   [A marathon? How many Superman movies are ther...   \n",
       "1105  [Great Caesar's ghost, look at this place., So...   \n",
       "\n",
       "                                       context_speakers show sarcasm  \n",
       "160                                  [LEONARD, SHELDON]  BBT    True  \n",
       "170   [HOWARD, PENNY, HOWARD, HOWARD, HOWARD, PENNY,...  BBT    True  \n",
       "180                          [LEONARD, HOWARD, LEONARD]  BBT   False  \n",
       "190   [PENNY, SHELDON, PENNY, SHELDON, SHELDON, PENN...  BBT   False  \n",
       "1105  [SHELDON, LEONARD, SHELDON, SHELDON, SHELDON, ...  BBT    True  "
      ]
     },
     "execution_count": 5,
     "metadata": {},
     "output_type": "execute_result"
    }
   ],
   "source": [
    "data.head()"
   ]
  },
  {
   "cell_type": "code",
   "execution_count": 6,
   "id": "8e98683b",
   "metadata": {},
   "outputs": [
    {
     "name": "stdout",
     "output_type": "stream",
     "text": [
      "<class 'pandas.core.frame.DataFrame'>\n",
      "Int64Index: 690 entries, 160 to 2524\n",
      "Data columns (total 6 columns):\n",
      " #   Column            Non-Null Count  Dtype \n",
      "---  ------            --------------  ----- \n",
      " 0   utterance         690 non-null    object\n",
      " 1   speaker           690 non-null    object\n",
      " 2   context           690 non-null    object\n",
      " 3   context_speakers  690 non-null    object\n",
      " 4   show              690 non-null    object\n",
      " 5   sarcasm           690 non-null    object\n",
      "dtypes: object(6)\n",
      "memory usage: 53.9+ KB\n"
     ]
    }
   ],
   "source": [
    "data.info()"
   ]
  },
  {
   "cell_type": "code",
   "execution_count": 7,
   "id": "7d9eca03",
   "metadata": {},
   "outputs": [
    {
     "data": {
      "text/plain": [
       "FRIENDS           356\n",
       "BBT               280\n",
       "GOLDENGIRLS        40\n",
       "SARCASMOHOLICS     14\n",
       "Name: show, dtype: int64"
      ]
     },
     "execution_count": 7,
     "metadata": {},
     "output_type": "execute_result"
    }
   ],
   "source": [
    "data.show.value_counts(dropna=False)"
   ]
  },
  {
   "cell_type": "code",
   "execution_count": 8,
   "id": "66497483",
   "metadata": {},
   "outputs": [
    {
     "data": {
      "text/plain": [
       "True     345\n",
       "False    345\n",
       "Name: sarcasm, dtype: int64"
      ]
     },
     "execution_count": 8,
     "metadata": {},
     "output_type": "execute_result"
    }
   ],
   "source": [
    "data.sarcasm.value_counts(dropna=False)"
   ]
  },
  {
   "cell_type": "code",
   "execution_count": 9,
   "id": "cc3739a4",
   "metadata": {},
   "outputs": [],
   "source": [
    "data.rename(columns={'utterance': 'comment', 'sarcasm': 'label'}, inplace=True)"
   ]
  },
  {
   "cell_type": "code",
   "execution_count": 10,
   "id": "1e423ad0",
   "metadata": {},
   "outputs": [],
   "source": [
    "df = data[['comment', 'label']].reset_index()"
   ]
  },
  {
   "cell_type": "code",
   "execution_count": 11,
   "id": "53b5b3b4",
   "metadata": {},
   "outputs": [],
   "source": [
    "df['comment'] = df['comment'].str.lower()"
   ]
  },
  {
   "cell_type": "code",
   "execution_count": 12,
   "id": "493bae99",
   "metadata": {},
   "outputs": [
    {
     "data": {
      "text/html": [
       "<div>\n",
       "<style scoped>\n",
       "    .dataframe tbody tr th:only-of-type {\n",
       "        vertical-align: middle;\n",
       "    }\n",
       "\n",
       "    .dataframe tbody tr th {\n",
       "        vertical-align: top;\n",
       "    }\n",
       "\n",
       "    .dataframe thead th {\n",
       "        text-align: right;\n",
       "    }\n",
       "</style>\n",
       "<table border=\"1\" class=\"dataframe\">\n",
       "  <thead>\n",
       "    <tr style=\"text-align: right;\">\n",
       "      <th></th>\n",
       "      <th>index</th>\n",
       "      <th>comment</th>\n",
       "      <th>label</th>\n",
       "    </tr>\n",
       "  </thead>\n",
       "  <tbody>\n",
       "    <tr>\n",
       "      <th>0</th>\n",
       "      <td>160</td>\n",
       "      <td>it's just a privilege to watch your mind at work.</td>\n",
       "      <td>True</td>\n",
       "    </tr>\n",
       "    <tr>\n",
       "      <th>1</th>\n",
       "      <td>170</td>\n",
       "      <td>i don't think i'll be able to stop thinking ab...</td>\n",
       "      <td>True</td>\n",
       "    </tr>\n",
       "    <tr>\n",
       "      <th>2</th>\n",
       "      <td>180</td>\n",
       "      <td>since it's not bee season, you can have my epi...</td>\n",
       "      <td>False</td>\n",
       "    </tr>\n",
       "    <tr>\n",
       "      <th>3</th>\n",
       "      <td>190</td>\n",
       "      <td>lois lane is falling, accelerating at an initi...</td>\n",
       "      <td>False</td>\n",
       "    </tr>\n",
       "    <tr>\n",
       "      <th>4</th>\n",
       "      <td>1105</td>\n",
       "      <td>i'm just inferring this is a couch because the...</td>\n",
       "      <td>True</td>\n",
       "    </tr>\n",
       "  </tbody>\n",
       "</table>\n",
       "</div>"
      ],
      "text/plain": [
       "   index                                            comment  label\n",
       "0    160  it's just a privilege to watch your mind at work.   True\n",
       "1    170  i don't think i'll be able to stop thinking ab...   True\n",
       "2    180  since it's not bee season, you can have my epi...  False\n",
       "3    190  lois lane is falling, accelerating at an initi...  False\n",
       "4   1105  i'm just inferring this is a couch because the...   True"
      ]
     },
     "execution_count": 12,
     "metadata": {},
     "output_type": "execute_result"
    }
   ],
   "source": [
    "df.head()"
   ]
  },
  {
   "cell_type": "code",
   "execution_count": 13,
   "id": "9e6eac9b",
   "metadata": {},
   "outputs": [],
   "source": [
    "df.replace({'label': {True: 1, False: 0}}, inplace=True)"
   ]
  },
  {
   "cell_type": "code",
   "execution_count": 14,
   "id": "fcce6c2e",
   "metadata": {},
   "outputs": [
    {
     "data": {
      "text/html": [
       "<div>\n",
       "<style scoped>\n",
       "    .dataframe tbody tr th:only-of-type {\n",
       "        vertical-align: middle;\n",
       "    }\n",
       "\n",
       "    .dataframe tbody tr th {\n",
       "        vertical-align: top;\n",
       "    }\n",
       "\n",
       "    .dataframe thead th {\n",
       "        text-align: right;\n",
       "    }\n",
       "</style>\n",
       "<table border=\"1\" class=\"dataframe\">\n",
       "  <thead>\n",
       "    <tr style=\"text-align: right;\">\n",
       "      <th></th>\n",
       "      <th>index</th>\n",
       "      <th>comment</th>\n",
       "      <th>label</th>\n",
       "    </tr>\n",
       "  </thead>\n",
       "  <tbody>\n",
       "    <tr>\n",
       "      <th>0</th>\n",
       "      <td>160</td>\n",
       "      <td>it's just a privilege to watch your mind at work.</td>\n",
       "      <td>1</td>\n",
       "    </tr>\n",
       "    <tr>\n",
       "      <th>1</th>\n",
       "      <td>170</td>\n",
       "      <td>i don't think i'll be able to stop thinking ab...</td>\n",
       "      <td>1</td>\n",
       "    </tr>\n",
       "    <tr>\n",
       "      <th>2</th>\n",
       "      <td>180</td>\n",
       "      <td>since it's not bee season, you can have my epi...</td>\n",
       "      <td>0</td>\n",
       "    </tr>\n",
       "    <tr>\n",
       "      <th>3</th>\n",
       "      <td>190</td>\n",
       "      <td>lois lane is falling, accelerating at an initi...</td>\n",
       "      <td>0</td>\n",
       "    </tr>\n",
       "    <tr>\n",
       "      <th>4</th>\n",
       "      <td>1105</td>\n",
       "      <td>i'm just inferring this is a couch because the...</td>\n",
       "      <td>1</td>\n",
       "    </tr>\n",
       "  </tbody>\n",
       "</table>\n",
       "</div>"
      ],
      "text/plain": [
       "   index                                            comment  label\n",
       "0    160  it's just a privilege to watch your mind at work.      1\n",
       "1    170  i don't think i'll be able to stop thinking ab...      1\n",
       "2    180  since it's not bee season, you can have my epi...      0\n",
       "3    190  lois lane is falling, accelerating at an initi...      0\n",
       "4   1105  i'm just inferring this is a couch because the...      1"
      ]
     },
     "execution_count": 14,
     "metadata": {},
     "output_type": "execute_result"
    }
   ],
   "source": [
    "df.head()"
   ]
  },
  {
   "cell_type": "code",
   "execution_count": 15,
   "id": "e9caabdc",
   "metadata": {},
   "outputs": [],
   "source": [
    "df['comment_words'] = df['comment'].apply(lambda x: x.split(' '))"
   ]
  },
  {
   "cell_type": "code",
   "execution_count": 16,
   "id": "5cd2a3f7",
   "metadata": {},
   "outputs": [],
   "source": [
    "df['message_len'] = df['comment_words'].apply(len)"
   ]
  },
  {
   "cell_type": "code",
   "execution_count": 17,
   "id": "c3ccc0c3",
   "metadata": {},
   "outputs": [
    {
     "data": {
      "text/html": [
       "<div>\n",
       "<style scoped>\n",
       "    .dataframe tbody tr th:only-of-type {\n",
       "        vertical-align: middle;\n",
       "    }\n",
       "\n",
       "    .dataframe tbody tr th {\n",
       "        vertical-align: top;\n",
       "    }\n",
       "\n",
       "    .dataframe thead th {\n",
       "        text-align: right;\n",
       "    }\n",
       "</style>\n",
       "<table border=\"1\" class=\"dataframe\">\n",
       "  <thead>\n",
       "    <tr style=\"text-align: right;\">\n",
       "      <th></th>\n",
       "      <th>index</th>\n",
       "      <th>comment</th>\n",
       "      <th>label</th>\n",
       "      <th>comment_words</th>\n",
       "      <th>message_len</th>\n",
       "    </tr>\n",
       "  </thead>\n",
       "  <tbody>\n",
       "    <tr>\n",
       "      <th>0</th>\n",
       "      <td>160</td>\n",
       "      <td>it's just a privilege to watch your mind at work.</td>\n",
       "      <td>1</td>\n",
       "      <td>[it's, just, a, privilege, to, watch, your, mi...</td>\n",
       "      <td>10</td>\n",
       "    </tr>\n",
       "    <tr>\n",
       "      <th>1</th>\n",
       "      <td>170</td>\n",
       "      <td>i don't think i'll be able to stop thinking ab...</td>\n",
       "      <td>1</td>\n",
       "      <td>[i, don't, think, i'll, be, able, to, stop, th...</td>\n",
       "      <td>11</td>\n",
       "    </tr>\n",
       "    <tr>\n",
       "      <th>2</th>\n",
       "      <td>180</td>\n",
       "      <td>since it's not bee season, you can have my epi...</td>\n",
       "      <td>0</td>\n",
       "      <td>[since, it's, not, bee, season,, you, can, hav...</td>\n",
       "      <td>10</td>\n",
       "    </tr>\n",
       "    <tr>\n",
       "      <th>3</th>\n",
       "      <td>190</td>\n",
       "      <td>lois lane is falling, accelerating at an initi...</td>\n",
       "      <td>0</td>\n",
       "      <td>[lois, lane, is, falling,, accelerating, at, a...</td>\n",
       "      <td>51</td>\n",
       "    </tr>\n",
       "    <tr>\n",
       "      <th>4</th>\n",
       "      <td>1105</td>\n",
       "      <td>i'm just inferring this is a couch because the...</td>\n",
       "      <td>1</td>\n",
       "      <td>[i'm, just, inferring, this, is, a, couch, bec...</td>\n",
       "      <td>20</td>\n",
       "    </tr>\n",
       "  </tbody>\n",
       "</table>\n",
       "</div>"
      ],
      "text/plain": [
       "   index                                            comment  label  \\\n",
       "0    160  it's just a privilege to watch your mind at work.      1   \n",
       "1    170  i don't think i'll be able to stop thinking ab...      1   \n",
       "2    180  since it's not bee season, you can have my epi...      0   \n",
       "3    190  lois lane is falling, accelerating at an initi...      0   \n",
       "4   1105  i'm just inferring this is a couch because the...      1   \n",
       "\n",
       "                                       comment_words  message_len  \n",
       "0  [it's, just, a, privilege, to, watch, your, mi...           10  \n",
       "1  [i, don't, think, i'll, be, able, to, stop, th...           11  \n",
       "2  [since, it's, not, bee, season,, you, can, hav...           10  \n",
       "3  [lois, lane, is, falling,, accelerating, at, a...           51  \n",
       "4  [i'm, just, inferring, this, is, a, couch, bec...           20  "
      ]
     },
     "execution_count": 17,
     "metadata": {},
     "output_type": "execute_result"
    }
   ],
   "source": [
    "df.head()"
   ]
  },
  {
   "cell_type": "code",
   "execution_count": 18,
   "id": "0a1d4f39",
   "metadata": {},
   "outputs": [
    {
     "data": {
      "text/plain": [
       "[('i', 267),\n",
       " ('a', 257),\n",
       " ('the', 244),\n",
       " ('you', 228),\n",
       " ('to', 212),\n",
       " ('and', 146),\n",
       " ('of', 123),\n",
       " ('in', 99),\n",
       " ('that', 90),\n",
       " ('it', 77),\n",
       " ('my', 75),\n",
       " ('is', 75),\n",
       " ('just', 71),\n",
       " (\"i'm\", 65),\n",
       " ('was', 63),\n",
       " ('have', 60),\n",
       " (\"don't\", 55),\n",
       " ('for', 55),\n",
       " ('with', 55),\n",
       " ('on', 54),\n",
       " ('all', 51),\n",
       " ('your', 50),\n",
       " ('not', 49),\n",
       " ('if', 49),\n",
       " ('we', 49),\n",
       " ('what', 48),\n",
       " (\"it's\", 46),\n",
       " ('me', 45),\n",
       " ('but', 44),\n",
       " ('like', 43),\n",
       " ('no,', 42),\n",
       " ('no', 41),\n",
       " ('so', 41),\n",
       " ('do', 41),\n",
       " ('this', 40),\n",
       " ('about', 39),\n",
       " ('oh,', 37),\n",
       " ('are', 37),\n",
       " ('he', 35),\n",
       " ('be', 34),\n",
       " ('am', 33),\n",
       " ('an', 32),\n",
       " ('out', 32),\n",
       " (\"you're\", 32),\n",
       " ('oh', 32),\n",
       " ('can', 31),\n",
       " ('she', 31),\n",
       " ('at', 29),\n",
       " ('think', 28),\n",
       " ('go', 27),\n",
       " ('yeah,', 26),\n",
       " ('well,', 26),\n",
       " ('when', 26),\n",
       " ('her', 25),\n",
       " ('because', 25),\n",
       " ('up', 24),\n",
       " ('how', 24),\n",
       " ('see', 24),\n",
       " ('it.', 23),\n",
       " ('got', 23),\n",
       " ('know', 23),\n",
       " (\"that's\", 23),\n",
       " ('would', 22),\n",
       " ('going', 22),\n",
       " ('really', 22),\n",
       " ('you.', 21),\n",
       " ('good', 21),\n",
       " ('get', 21),\n",
       " ('gonna', 21),\n",
       " ('as', 20),\n",
       " ('they', 20),\n",
       " ('why', 20),\n",
       " ('want', 19),\n",
       " ('', 19),\n",
       " ('our', 18),\n",
       " ('one', 17),\n",
       " ('okay,', 17),\n",
       " ('there', 16),\n",
       " ('little', 16),\n",
       " ('who', 15),\n",
       " ('were', 15),\n",
       " ('know,', 15),\n",
       " ('-', 15),\n",
       " ('right,', 15),\n",
       " ('could', 15),\n",
       " ('his', 15),\n",
       " ('maybe', 14),\n",
       " ('talk', 14),\n",
       " ('had', 14),\n",
       " (\"i'll\", 13),\n",
       " ('now', 13),\n",
       " (\"there's\", 13),\n",
       " ('new', 13),\n",
       " ('come', 13),\n",
       " ('here', 13),\n",
       " ('look', 13),\n",
       " ('something', 13),\n",
       " ('uh,', 13),\n",
       " (\"can't\", 13),\n",
       " ('from', 12)]"
      ]
     },
     "execution_count": 18,
     "metadata": {},
     "output_type": "execute_result"
    }
   ],
   "source": [
    "Counter(df.comment_words.sum()).most_common(100)"
   ]
  },
  {
   "cell_type": "code",
   "execution_count": 19,
   "id": "a8512204",
   "metadata": {},
   "outputs": [],
   "source": [
    "df['comment_words'] = df['comment_words'].apply(\n",
    "    lambda x: [''.join(re.findall('[\\s\\w\\d]', word)) for word in x if (\n",
    "        (word not in string.punctuation) and (word not in STOP_WORDS)\n",
    "    )]\n",
    ")"
   ]
  },
  {
   "cell_type": "code",
   "execution_count": 20,
   "id": "74323d84",
   "metadata": {},
   "outputs": [
    {
     "data": {
      "text/html": [
       "<div>\n",
       "<style scoped>\n",
       "    .dataframe tbody tr th:only-of-type {\n",
       "        vertical-align: middle;\n",
       "    }\n",
       "\n",
       "    .dataframe tbody tr th {\n",
       "        vertical-align: top;\n",
       "    }\n",
       "\n",
       "    .dataframe thead th {\n",
       "        text-align: right;\n",
       "    }\n",
       "</style>\n",
       "<table border=\"1\" class=\"dataframe\">\n",
       "  <thead>\n",
       "    <tr style=\"text-align: right;\">\n",
       "      <th></th>\n",
       "      <th>index</th>\n",
       "      <th>comment</th>\n",
       "      <th>label</th>\n",
       "      <th>comment_words</th>\n",
       "      <th>message_len</th>\n",
       "    </tr>\n",
       "  </thead>\n",
       "  <tbody>\n",
       "    <tr>\n",
       "      <th>0</th>\n",
       "      <td>160</td>\n",
       "      <td>it's just a privilege to watch your mind at work.</td>\n",
       "      <td>1</td>\n",
       "      <td>[its, privilege, watch, mind, work]</td>\n",
       "      <td>10</td>\n",
       "    </tr>\n",
       "    <tr>\n",
       "      <th>1</th>\n",
       "      <td>170</td>\n",
       "      <td>i don't think i'll be able to stop thinking ab...</td>\n",
       "      <td>1</td>\n",
       "      <td>[dont, think, ill, able, stop, thinking, it]</td>\n",
       "      <td>11</td>\n",
       "    </tr>\n",
       "    <tr>\n",
       "      <th>2</th>\n",
       "      <td>180</td>\n",
       "      <td>since it's not bee season, you can have my epi...</td>\n",
       "      <td>0</td>\n",
       "      <td>[its, bee, season, epinephrine]</td>\n",
       "      <td>10</td>\n",
       "    </tr>\n",
       "    <tr>\n",
       "      <th>3</th>\n",
       "      <td>190</td>\n",
       "      <td>lois lane is falling, accelerating at an initi...</td>\n",
       "      <td>0</td>\n",
       "      <td>[lois, lane, falling, accelerating, initial, r...</td>\n",
       "      <td>51</td>\n",
       "    </tr>\n",
       "    <tr>\n",
       "      <th>4</th>\n",
       "      <td>1105</td>\n",
       "      <td>i'm just inferring this is a couch because the...</td>\n",
       "      <td>1</td>\n",
       "      <td>[im, inferring, couch, evidence, suggests, cof...</td>\n",
       "      <td>20</td>\n",
       "    </tr>\n",
       "  </tbody>\n",
       "</table>\n",
       "</div>"
      ],
      "text/plain": [
       "   index                                            comment  label  \\\n",
       "0    160  it's just a privilege to watch your mind at work.      1   \n",
       "1    170  i don't think i'll be able to stop thinking ab...      1   \n",
       "2    180  since it's not bee season, you can have my epi...      0   \n",
       "3    190  lois lane is falling, accelerating at an initi...      0   \n",
       "4   1105  i'm just inferring this is a couch because the...      1   \n",
       "\n",
       "                                       comment_words  message_len  \n",
       "0                [its, privilege, watch, mind, work]           10  \n",
       "1       [dont, think, ill, able, stop, thinking, it]           11  \n",
       "2                    [its, bee, season, epinephrine]           10  \n",
       "3  [lois, lane, falling, accelerating, initial, r...           51  \n",
       "4  [im, inferring, couch, evidence, suggests, cof...           20  "
      ]
     },
     "execution_count": 20,
     "metadata": {},
     "output_type": "execute_result"
    }
   ],
   "source": [
    "df.head()"
   ]
  },
  {
   "cell_type": "code",
   "execution_count": 21,
   "id": "253ccef6",
   "metadata": {},
   "outputs": [],
   "source": [
    "en_model = spacy.load('en_core_web_sm')"
   ]
  },
  {
   "cell_type": "code",
   "execution_count": 22,
   "id": "ece4516b",
   "metadata": {},
   "outputs": [],
   "source": [
    "df['lemma'] = df['comment_words'].apply(lambda x: ' '.join([token.lemma_ for token in en_model(' '.join(x))]))"
   ]
  },
  {
   "cell_type": "code",
   "execution_count": 23,
   "id": "52b152e1",
   "metadata": {},
   "outputs": [],
   "source": [
    "# df['embeddings'] = df['comment'].apply(lambda x: [np.mean(token.vector) for token in en_model(x)])"
   ]
  },
  {
   "cell_type": "code",
   "execution_count": 24,
   "id": "51593a97",
   "metadata": {},
   "outputs": [
    {
     "data": {
      "text/html": [
       "<div>\n",
       "<style scoped>\n",
       "    .dataframe tbody tr th:only-of-type {\n",
       "        vertical-align: middle;\n",
       "    }\n",
       "\n",
       "    .dataframe tbody tr th {\n",
       "        vertical-align: top;\n",
       "    }\n",
       "\n",
       "    .dataframe thead th {\n",
       "        text-align: right;\n",
       "    }\n",
       "</style>\n",
       "<table border=\"1\" class=\"dataframe\">\n",
       "  <thead>\n",
       "    <tr style=\"text-align: right;\">\n",
       "      <th></th>\n",
       "      <th>index</th>\n",
       "      <th>comment</th>\n",
       "      <th>label</th>\n",
       "      <th>comment_words</th>\n",
       "      <th>message_len</th>\n",
       "      <th>lemma</th>\n",
       "    </tr>\n",
       "  </thead>\n",
       "  <tbody>\n",
       "    <tr>\n",
       "      <th>0</th>\n",
       "      <td>160</td>\n",
       "      <td>it's just a privilege to watch your mind at work.</td>\n",
       "      <td>1</td>\n",
       "      <td>[its, privilege, watch, mind, work]</td>\n",
       "      <td>10</td>\n",
       "      <td>its privilege watch mind work</td>\n",
       "    </tr>\n",
       "    <tr>\n",
       "      <th>1</th>\n",
       "      <td>170</td>\n",
       "      <td>i don't think i'll be able to stop thinking ab...</td>\n",
       "      <td>1</td>\n",
       "      <td>[dont, think, ill, able, stop, thinking, it]</td>\n",
       "      <td>11</td>\n",
       "      <td>do not think ill able stop think it</td>\n",
       "    </tr>\n",
       "    <tr>\n",
       "      <th>2</th>\n",
       "      <td>180</td>\n",
       "      <td>since it's not bee season, you can have my epi...</td>\n",
       "      <td>0</td>\n",
       "      <td>[its, bee, season, epinephrine]</td>\n",
       "      <td>10</td>\n",
       "      <td>its bee season epinephrine</td>\n",
       "    </tr>\n",
       "    <tr>\n",
       "      <th>3</th>\n",
       "      <td>190</td>\n",
       "      <td>lois lane is falling, accelerating at an initi...</td>\n",
       "      <td>0</td>\n",
       "      <td>[lois, lane, falling, accelerating, initial, r...</td>\n",
       "      <td>51</td>\n",
       "      <td>lois lane fall accelerate initial rate 32 foot...</td>\n",
       "    </tr>\n",
       "    <tr>\n",
       "      <th>4</th>\n",
       "      <td>1105</td>\n",
       "      <td>i'm just inferring this is a couch because the...</td>\n",
       "      <td>1</td>\n",
       "      <td>[im, inferring, couch, evidence, suggests, cof...</td>\n",
       "      <td>20</td>\n",
       "      <td>I m infer couch evidence suggest coffee table ...</td>\n",
       "    </tr>\n",
       "  </tbody>\n",
       "</table>\n",
       "</div>"
      ],
      "text/plain": [
       "   index                                            comment  label  \\\n",
       "0    160  it's just a privilege to watch your mind at work.      1   \n",
       "1    170  i don't think i'll be able to stop thinking ab...      1   \n",
       "2    180  since it's not bee season, you can have my epi...      0   \n",
       "3    190  lois lane is falling, accelerating at an initi...      0   \n",
       "4   1105  i'm just inferring this is a couch because the...      1   \n",
       "\n",
       "                                       comment_words  message_len  \\\n",
       "0                [its, privilege, watch, mind, work]           10   \n",
       "1       [dont, think, ill, able, stop, thinking, it]           11   \n",
       "2                    [its, bee, season, epinephrine]           10   \n",
       "3  [lois, lane, falling, accelerating, initial, r...           51   \n",
       "4  [im, inferring, couch, evidence, suggests, cof...           20   \n",
       "\n",
       "                                               lemma  \n",
       "0                      its privilege watch mind work  \n",
       "1                do not think ill able stop think it  \n",
       "2                         its bee season epinephrine  \n",
       "3  lois lane fall accelerate initial rate 32 foot...  \n",
       "4  I m infer couch evidence suggest coffee table ...  "
      ]
     },
     "execution_count": 24,
     "metadata": {},
     "output_type": "execute_result"
    }
   ],
   "source": [
    "df.head()"
   ]
  },
  {
   "cell_type": "code",
   "execution_count": 25,
   "id": "28313ea7",
   "metadata": {},
   "outputs": [],
   "source": [
    "reddit_data = pd.read_csv('../Datasets/clean_reddit_data.csv')"
   ]
  },
  {
   "cell_type": "code",
   "execution_count": 26,
   "id": "8147fe92",
   "metadata": {},
   "outputs": [],
   "source": [
    "# df = pd.concat([df, reddit_data], ignore_index=True)"
   ]
  },
  {
   "cell_type": "code",
   "execution_count": 27,
   "id": "ba17785d",
   "metadata": {},
   "outputs": [],
   "source": [
    "# df.fillna(' ', inplace=True)"
   ]
  },
  {
   "cell_type": "code",
   "execution_count": 28,
   "id": "8fb226ee",
   "metadata": {},
   "outputs": [],
   "source": [
    "# df.head()"
   ]
  },
  {
   "cell_type": "code",
   "execution_count": 29,
   "id": "00761db1",
   "metadata": {},
   "outputs": [],
   "source": [
    "# df.info()"
   ]
  },
  {
   "cell_type": "code",
   "execution_count": 30,
   "id": "f69fe24a",
   "metadata": {},
   "outputs": [],
   "source": [
    "train_reddit, test_reddit = train_test_split(\n",
    "    reddit_data, \n",
    "    train_size=10000-int(345*0.6),\n",
    "    test_size=2000-int(345*0.4),\n",
    "    random_state=9\n",
    ")"
   ]
  },
  {
   "cell_type": "code",
   "execution_count": 31,
   "id": "f71e24db",
   "metadata": {},
   "outputs": [],
   "source": [
    "train_movies, test_movies = train_test_split(\n",
    "    df,\n",
    "    train_size=0.6,\n",
    "    random_state=9\n",
    ")"
   ]
  },
  {
   "cell_type": "code",
   "execution_count": 32,
   "id": "837f0f61",
   "metadata": {},
   "outputs": [],
   "source": [
    "train = pd.concat([train_reddit, train_movies], ignore_index=True)\n",
    "test = pd.concat([test_reddit, test_movies], ignore_index=True)"
   ]
  },
  {
   "cell_type": "markdown",
   "id": "beb547e8",
   "metadata": {},
   "source": [
    "**Sarcasm prediction using other models from hugging face \"helinivan/english-sarcasm-detector\"**"
   ]
  },
  {
   "cell_type": "code",
   "execution_count": 33,
   "id": "8d3ee0de",
   "metadata": {},
   "outputs": [],
   "source": [
    "from transformers import AutoModelForSequenceClassification\n",
    "from transformers import AutoTokenizer\n",
    "import string"
   ]
  },
  {
   "cell_type": "code",
   "execution_count": 34,
   "id": "0ff9ba90",
   "metadata": {},
   "outputs": [],
   "source": [
    "def preprocess_data(text: str) -> str:\n",
    "    return text.lower().translate(str.maketrans(\"\", \"\", string.punctuation)).strip()"
   ]
  },
  {
   "cell_type": "code",
   "execution_count": 35,
   "id": "bf3c6d29",
   "metadata": {},
   "outputs": [],
   "source": [
    "MODEL_PATH = \"helinivan/english-sarcasm-detector\"\n",
    "\n",
    "tokenizer = AutoTokenizer.from_pretrained(MODEL_PATH)\n",
    "model = AutoModelForSequenceClassification.from_pretrained(MODEL_PATH)"
   ]
  },
  {
   "cell_type": "code",
   "execution_count": 36,
   "id": "7499c734",
   "metadata": {},
   "outputs": [],
   "source": [
    "# Split data into train-test chunks\n",
    "Xtrain = train[['comment']]\n",
    "Xtest = test[['comment']]\n",
    "ytrain = train[['label']]\n",
    "ytest = test[['label']]"
   ]
  },
  {
   "cell_type": "code",
   "execution_count": 37,
   "id": "1a5d5168",
   "metadata": {},
   "outputs": [
    {
     "name": "stderr",
     "output_type": "stream",
     "text": [
      "<ipython-input-37-2fde5226a29c>:1: SettingWithCopyWarning: \n",
      "A value is trying to be set on a copy of a slice from a DataFrame.\n",
      "Try using .loc[row_indexer,col_indexer] = value instead\n",
      "\n",
      "See the caveats in the documentation: https://pandas.pydata.org/pandas-docs/stable/user_guide/indexing.html#returning-a-view-versus-a-copy\n",
      "  Xtest['tokenized_text'] = Xtest['comment'].apply(lambda x: tokenizer(\n"
     ]
    }
   ],
   "source": [
    "Xtest['tokenized_text'] = Xtest['comment'].apply(lambda x: tokenizer(\n",
    "    [preprocess_data(x)], padding=True, truncation=True, max_length=256, return_tensors=\"pt\"))"
   ]
  },
  {
   "cell_type": "code",
   "execution_count": 38,
   "id": "1a21db9d",
   "metadata": {},
   "outputs": [
    {
     "name": "stderr",
     "output_type": "stream",
     "text": [
      "<ipython-input-38-f00dbae12cee>:1: SettingWithCopyWarning: \n",
      "A value is trying to be set on a copy of a slice from a DataFrame.\n",
      "Try using .loc[row_indexer,col_indexer] = value instead\n",
      "\n",
      "See the caveats in the documentation: https://pandas.pydata.org/pandas-docs/stable/user_guide/indexing.html#returning-a-view-versus-a-copy\n",
      "  Xtest['y'] = Xtest['tokenized_text'].apply(lambda x: model(**x).logits.softmax(dim=-1).tolist()[0])\n"
     ]
    }
   ],
   "source": [
    "Xtest['y'] = Xtest['tokenized_text'].apply(lambda x: model(**x).logits.softmax(dim=-1).tolist()[0])"
   ]
  },
  {
   "cell_type": "code",
   "execution_count": 39,
   "id": "7daf2df8",
   "metadata": {},
   "outputs": [
    {
     "name": "stderr",
     "output_type": "stream",
     "text": [
      "<ipython-input-39-47ee19ead072>:1: SettingWithCopyWarning: \n",
      "A value is trying to be set on a copy of a slice from a DataFrame.\n",
      "Try using .loc[row_indexer,col_indexer] = value instead\n",
      "\n",
      "See the caveats in the documentation: https://pandas.pydata.org/pandas-docs/stable/user_guide/indexing.html#returning-a-view-versus-a-copy\n",
      "  Xtest['y_hat'] = Xtest['y'].apply(lambda x: x.index(max(x)))\n"
     ]
    }
   ],
   "source": [
    "Xtest['y_hat'] = Xtest['y'].apply(lambda x: x.index(max(x)))"
   ]
  },
  {
   "cell_type": "code",
   "execution_count": 40,
   "id": "7ad1eadd",
   "metadata": {},
   "outputs": [
    {
     "name": "stdout",
     "output_type": "stream",
     "text": [
      "              precision    recall  f1-score   support\n",
      "\n",
      "           0       0.48      0.81      0.61      1044\n",
      "           1       0.50      0.18      0.27      1094\n",
      "\n",
      "    accuracy                           0.49      2138\n",
      "   macro avg       0.49      0.49      0.44      2138\n",
      "weighted avg       0.49      0.49      0.43      2138\n",
      "\n"
     ]
    }
   ],
   "source": [
    "# View the classification report\n",
    "print(classification_report(ytest, Xtest['y_hat']))"
   ]
  },
  {
   "cell_type": "code",
   "execution_count": 41,
   "id": "42a0ba11",
   "metadata": {
    "scrolled": true
   },
   "outputs": [
    {
     "data": {
      "image/png": "[encoded data removed]",
      "text/plain": [
       "<Figure size 432x288 with 1 Axes>"
      ]
     },
     "metadata": {
      "needs_background": "light"
     },
     "output_type": "display_data"
    }
   ],
   "source": [
    "# Plot the confusion matrix\n",
    "ax = sns.heatmap(\n",
    "    confusion_matrix(ytest, Xtest['y_hat']), \n",
    "    annot=True, \n",
    "    cbar=False, \n",
    "    fmt='d'\n",
    ")"
   ]
  },
  {
   "cell_type": "markdown",
   "id": "7894f9ed",
   "metadata": {},
   "source": [
    "**Sarcasm prediction using other models from hugging face \"Hexye/sarcasm-classifier\"**"
   ]
  },
  {
   "cell_type": "code",
   "execution_count": 42,
   "id": "4c3b0140",
   "metadata": {
    "scrolled": true
   },
   "outputs": [
    {
     "name": "stderr",
     "output_type": "stream",
     "text": [
      "Downloading model.safetensors: 100%|██████████| 438M/438M [01:14<00:00, 5.85MB/s] \n"
     ]
    }
   ],
   "source": [
    "MODEL_PATH = \"Hexye/sarcasm-classifier\"\n",
    "\n",
    "tokenizer = AutoTokenizer.from_pretrained(MODEL_PATH)\n",
    "model = AutoModelForSequenceClassification.from_pretrained(MODEL_PATH)"
   ]
  },
  {
   "cell_type": "code",
   "execution_count": 43,
   "id": "b20ac949",
   "metadata": {},
   "outputs": [],
   "source": [
    "# Split data into train-test chunks\n",
    "Xtrain = train[['comment']]\n",
    "Xtest = test[['comment']]\n",
    "ytrain = train[['label']]\n",
    "ytest = test[['label']]"
   ]
  },
  {
   "cell_type": "code",
   "execution_count": 44,
   "id": "efa77a41",
   "metadata": {},
   "outputs": [
    {
     "name": "stderr",
     "output_type": "stream",
     "text": [
      "<ipython-input-44-2fde5226a29c>:1: SettingWithCopyWarning: \n",
      "A value is trying to be set on a copy of a slice from a DataFrame.\n",
      "Try using .loc[row_indexer,col_indexer] = value instead\n",
      "\n",
      "See the caveats in the documentation: https://pandas.pydata.org/pandas-docs/stable/user_guide/indexing.html#returning-a-view-versus-a-copy\n",
      "  Xtest['tokenized_text'] = Xtest['comment'].apply(lambda x: tokenizer(\n"
     ]
    }
   ],
   "source": [
    "Xtest['tokenized_text'] = Xtest['comment'].apply(lambda x: tokenizer(\n",
    "    [preprocess_data(x)], padding=True, truncation=True, max_length=256, return_tensors=\"pt\"))"
   ]
  },
  {
   "cell_type": "code",
   "execution_count": null,
   "id": "7a9e112d",
   "metadata": {},
   "outputs": [],
   "source": [
    "Xtest['y'] = Xtest['tokenized_text'].apply(lambda x: model(**x).logits.softmax(dim=-1).tolist()[0])"
   ]
  },
  {
   "cell_type": "code",
   "execution_count": null,
   "id": "b919c30f",
   "metadata": {},
   "outputs": [],
   "source": [
    "Xtest['y_hat'] = Xtest['y'].apply(lambda x: x.index(max(x)))"
   ]
  },
  {
   "cell_type": "code",
   "execution_count": null,
   "id": "8aca8e41",
   "metadata": {},
   "outputs": [],
   "source": [
    "# View the classification report\n",
    "print(classification_report(ytest, Xtest['y_hat']))"
   ]
  },
  {
   "cell_type": "code",
   "execution_count": null,
   "id": "493efbc1",
   "metadata": {
    "scrolled": true
   },
   "outputs": [],
   "source": [
    "# Plot the confusion matrix\n",
    "ax = sns.heatmap(\n",
    "    confusion_matrix(ytest, Xtest['y_hat']), \n",
    "    annot=True, \n",
    "    cbar=False, \n",
    "    fmt='d'\n",
    ")"
   ]
  },
  {
   "cell_type": "markdown",
   "id": "8c4a3ae9",
   "metadata": {},
   "source": [
    "**Sarcasm prediction using other models from hugging face \"brahimje/roberta-sarcasm-detection\"**"
   ]
  },
  {
   "cell_type": "code",
   "execution_count": null,
   "id": "4fbd97e5",
   "metadata": {},
   "outputs": [],
   "source": [
    "MODEL_PATH = \"brahimje/roberta-sarcasm-detection\"\n",
    "\n",
    "tokenizer = AutoTokenizer.from_pretrained(MODEL_PATH)\n",
    "model = AutoModelForSequenceClassification.from_pretrained(MODEL_PATH)"
   ]
  },
  {
   "cell_type": "code",
   "execution_count": null,
   "id": "7f72d030",
   "metadata": {},
   "outputs": [],
   "source": [
    "# Split data into train-test chunks\n",
    "Xtrain = train[['comment']]\n",
    "Xtest = test[['comment']]\n",
    "ytrain = train[['label']]\n",
    "ytest = test[['label']]"
   ]
  },
  {
   "cell_type": "code",
   "execution_count": null,
   "id": "30e52b59",
   "metadata": {},
   "outputs": [],
   "source": [
    "Xtest['tokenized_text'] = Xtest['comment'].apply(lambda x: tokenizer(\n",
    "    [preprocess_data(x)], padding=True, truncation=True, max_length=256, return_tensors=\"pt\"))"
   ]
  },
  {
   "cell_type": "code",
   "execution_count": null,
   "id": "5df04367",
   "metadata": {},
   "outputs": [],
   "source": [
    "Xtest['y'] = Xtest['tokenized_text'].apply(lambda x: model(**x).logits.softmax(dim=-1).tolist()[0])"
   ]
  },
  {
   "cell_type": "code",
   "execution_count": null,
   "id": "78225ebb",
   "metadata": {},
   "outputs": [],
   "source": [
    "Xtest['y_hat'] = Xtest['y'].apply(lambda x: x.index(max(x)))"
   ]
  },
  {
   "cell_type": "code",
   "execution_count": null,
   "id": "72b67147",
   "metadata": {},
   "outputs": [],
   "source": [
    "# View the classification report\n",
    "print(classification_report(ytest, Xtest['y_hat']))"
   ]
  },
  {
   "cell_type": "code",
   "execution_count": null,
   "id": "3310b001",
   "metadata": {
    "scrolled": true
   },
   "outputs": [],
   "source": [
    "# Plot the confusion matrix\n",
    "ax = sns.heatmap(\n",
    "    confusion_matrix(ytest, Xtest['y_hat']), \n",
    "    annot=True, \n",
    "    cbar=False, \n",
    "    fmt='d'\n",
    ")"
   ]
  },
  {
   "cell_type": "code",
   "execution_count": null,
   "id": "00ab7986",
   "metadata": {},
   "outputs": [],
   "source": []
  }
 ],
 "metadata": {
  "kernelspec": {
   "display_name": "Python 3",
   "language": "python",
   "name": "python3"
  },
  "language_info": {
   "codemirror_mode": {
    "name": "ipython",
    "version": 3
   },
   "file_extension": ".py",
   "mimetype": "text/x-python",
   "name": "python",
   "nbconvert_exporter": "python",
   "pygments_lexer": "ipython3",
   "version": "3.9.6"
  }
 },
 "nbformat": 4,
 "nbformat_minor": 5
}
