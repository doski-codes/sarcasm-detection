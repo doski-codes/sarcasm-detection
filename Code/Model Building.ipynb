{
 "cells": [
  {
   "cell_type": "code",
   "execution_count": 1,
   "id": "bca6118e",
   "metadata": {},
   "outputs": [
    {
     "name": "stderr",
     "output_type": "stream",
     "text": [
      "/Users/doski/miniconda3/envs/getinno-env/lib/python3.9/site-packages/tqdm/auto.py:22: TqdmWarning: IProgress not found. Please update jupyter and ipywidgets. See https://ipywidgets.readthedocs.io/en/stable/user_install.html\n",
      "  from .autonotebook import tqdm as notebook_tqdm\n"
     ]
    }
   ],
   "source": [
    "import re\n",
    "import string\n",
    "\n",
    "import numpy as np\n",
    "import pandas as pd\n",
    "from matplotlib import pyplot as plt\n",
    "import seaborn as sns\n",
    "\n",
    "from collections import Counter\n",
    "\n",
    "import spacy\n",
    "from spacy.lang.en.stop_words import STOP_WORDS\n",
    "\n",
    "from sklearn.model_selection import train_test_split, GridSearchCV\n",
    "from sklearn.feature_extraction.text import CountVectorizer\n",
    "\n",
    "from sklearn.svm import LinearSVC\n",
    "from sklearn.naive_bayes import GaussianNB\n",
    "from sklearn.tree import DecisionTreeClassifier\n",
    "from sklearn.neural_network import MLPClassifier\n",
    "from sklearn.linear_model import LogisticRegression\n",
    "from sklearn.ensemble import GradientBoostingClassifier, RandomForestClassifier\n",
    "\n",
    "from sklearn.metrics import confusion_matrix, classification_report, RocCurveDisplay\n",
    "\n",
    "from sklearn.pipeline import Pipeline\n",
    "from sklearn.compose import ColumnTransformer\n",
    "from sklearn.preprocessing import StandardScaler, MaxAbsScaler, Normalizer\n",
    "\n",
    "import tensorflow.keras\n",
    "from tensorflow.keras.models import Sequential\n",
    "from tensorflow.keras.preprocessing.text import Tokenizer\n",
    "from tensorflow.keras.preprocessing.sequence import pad_sequences\n",
    "from tensorflow.keras.layers import Dense, LSTM, Embedding, Bidirectional\n",
    "\n",
    "from sentence_transformers import SentenceTransformer"
   ]
  },
  {
   "cell_type": "code",
   "execution_count": 2,
   "id": "0041eb69",
   "metadata": {},
   "outputs": [],
   "source": [
    "data = pd.read_json('../Datasets/sarcasm_data.json')"
   ]
  },
  {
   "cell_type": "code",
   "execution_count": 3,
   "id": "afb34a8f",
   "metadata": {},
   "outputs": [
    {
     "data": {
      "text/html": [
       "<div>\n",
       "<style scoped>\n",
       "    .dataframe tbody tr th:only-of-type {\n",
       "        vertical-align: middle;\n",
       "    }\n",
       "\n",
       "    .dataframe tbody tr th {\n",
       "        vertical-align: top;\n",
       "    }\n",
       "\n",
       "    .dataframe thead th {\n",
       "        text-align: right;\n",
       "    }\n",
       "</style>\n",
       "<table border=\"1\" class=\"dataframe\">\n",
       "  <thead>\n",
       "    <tr style=\"text-align: right;\">\n",
       "      <th></th>\n",
       "      <th>160</th>\n",
       "      <th>170</th>\n",
       "      <th>180</th>\n",
       "      <th>190</th>\n",
       "      <th>1105</th>\n",
       "      <th>1162</th>\n",
       "      <th>1175</th>\n",
       "      <th>1182</th>\n",
       "      <th>1213</th>\n",
       "      <th>1276</th>\n",
       "      <th>...</th>\n",
       "      <th>2623</th>\n",
       "      <th>2131</th>\n",
       "      <th>2236</th>\n",
       "      <th>2546</th>\n",
       "      <th>2242</th>\n",
       "      <th>2169</th>\n",
       "      <th>2235</th>\n",
       "      <th>234</th>\n",
       "      <th>2608</th>\n",
       "      <th>2524</th>\n",
       "    </tr>\n",
       "  </thead>\n",
       "  <tbody>\n",
       "    <tr>\n",
       "      <th>utterance</th>\n",
       "      <td>It's just a privilege to watch your mind at work.</td>\n",
       "      <td>I don't think I'll be able to stop thinking ab...</td>\n",
       "      <td>Since it's not bee season, you can have my epi...</td>\n",
       "      <td>Lois Lane is falling, accelerating at an initi...</td>\n",
       "      <td>I'm just inferring this is a couch because the...</td>\n",
       "      <td>Sheldon, if you were a robot, and I knew and y...</td>\n",
       "      <td>If you're compiling a mix CD for a double suic...</td>\n",
       "      <td>No. The dark crescent-shaped patterns under yo...</td>\n",
       "      <td>How's this? \"Pleased to meet you, Dr. Gablehau...</td>\n",
       "      <td>Yeah, my parents felt that naming me Leonard a...</td>\n",
       "      <td>...</td>\n",
       "      <td>What do you know? Its a treat for the eyes and...</td>\n",
       "      <td>I really don't wanna sit with Allen Iverson ov...</td>\n",
       "      <td>Gee, if only she were one and had no idea what...</td>\n",
       "      <td>Oh sure, she was probably up all night excited...</td>\n",
       "      <td>Are you still enjoying your nap?</td>\n",
       "      <td>Hes not right for the part, and if I suggest h...</td>\n",
       "      <td>Oh yeah he has a caretaker his older brother, ...</td>\n",
       "      <td>Is it me or the greetings gone downhill around...</td>\n",
       "      <td>You are right, by saying nice, I am virtually ...</td>\n",
       "      <td>Yes and we are \"very\" excited about it.</td>\n",
       "    </tr>\n",
       "    <tr>\n",
       "      <th>speaker</th>\n",
       "      <td>SHELDON</td>\n",
       "      <td>PENNY</td>\n",
       "      <td>SHELDON</td>\n",
       "      <td>SHELDON</td>\n",
       "      <td>SHELDON</td>\n",
       "      <td>HOWARD</td>\n",
       "      <td>SHELDON</td>\n",
       "      <td>SHELDON</td>\n",
       "      <td>SHELDON</td>\n",
       "      <td>LEONARD</td>\n",
       "      <td>...</td>\n",
       "      <td>CHANDLER</td>\n",
       "      <td>CHANDLER</td>\n",
       "      <td>CHANDLER</td>\n",
       "      <td>CHANDLER</td>\n",
       "      <td>CHANDLER</td>\n",
       "      <td>CHANDLER</td>\n",
       "      <td>CHANDLER</td>\n",
       "      <td>CHANDLER</td>\n",
       "      <td>CHANDLER</td>\n",
       "      <td>CHANDLER</td>\n",
       "    </tr>\n",
       "    <tr>\n",
       "      <th>context</th>\n",
       "      <td>[I never would have identified the fingerprint...</td>\n",
       "      <td>[This is one of my favorite places to kick bac...</td>\n",
       "      <td>[Here we go. Pad thai, no peanuts., But does i...</td>\n",
       "      <td>[A marathon? How many Superman movies are ther...</td>\n",
       "      <td>[Great Caesar's ghost, look at this place., So...</td>\n",
       "      <td>[On the other hand, no arousal., None?, None.,...</td>\n",
       "      <td>[Oh, good Lord., God, that's a good song.]</td>\n",
       "      <td>[How do I look?, Could you be more specific?, ...</td>\n",
       "      <td>[You know, I am not going to enjoy this party....</td>\n",
       "      <td>[He switched over to high-energy radiation res...</td>\n",
       "      <td>...</td>\n",
       "      <td>[Chandler?, Hey! Ah!, What do you think?, I th...</td>\n",
       "      <td>[Wish I could switch with someone.]</td>\n",
       "      <td>[You can't go away this weekend, its Emma's bi...</td>\n",
       "      <td>[Hey, Hey, where's the birthday girl?, Oh she ...</td>\n",
       "      <td>[Okay?, Hi Emma, it's the year 2020.]</td>\n",
       "      <td>[What am I gonna do now?, Just pass the tape a...</td>\n",
       "      <td>[Helo! Anybody in there order a celebrity?, Wh...</td>\n",
       "      <td>[Hey, You son of a bitch!]</td>\n",
       "      <td>[Did I go to this school?, Hey, there's Missy ...</td>\n",
       "      <td>[Anyway, if you don't feel like being alone to...</td>\n",
       "    </tr>\n",
       "    <tr>\n",
       "      <th>context_speakers</th>\n",
       "      <td>[LEONARD, SHELDON]</td>\n",
       "      <td>[HOWARD, PENNY, HOWARD, HOWARD, HOWARD, PENNY,...</td>\n",
       "      <td>[LEONARD, HOWARD, LEONARD]</td>\n",
       "      <td>[PENNY, SHELDON, PENNY, SHELDON, SHELDON, PENN...</td>\n",
       "      <td>[SHELDON, LEONARD, SHELDON, SHELDON, SHELDON, ...</td>\n",
       "      <td>[PERSON, LEONARD, PERSON, LEONARD, PERSON, LEO...</td>\n",
       "      <td>[SHELDON, LEONARD]</td>\n",
       "      <td>[LEONARD, SHELDON, LEONARD]</td>\n",
       "      <td>[SHELDON, LEONARD, SHELDON, LEONARD, SHELDON, ...</td>\n",
       "      <td>[PERSON, PERSON, LEONARD, PERSON, LEONARD, PER...</td>\n",
       "      <td>...</td>\n",
       "      <td>[PHOEBE, CHANDLER, MONICA, CHANDLER]</td>\n",
       "      <td>[CHANDLER]</td>\n",
       "      <td>[RACHEL, MONICA, RACHEL]</td>\n",
       "      <td>[MONICA, CHANDLER, RACHEL]</td>\n",
       "      <td>[ROSS, CHANDLER]</td>\n",
       "      <td>[CHANDLER, RACHEL]</td>\n",
       "      <td>[JOEY, PERSON, CHANDLER, PERSON]</td>\n",
       "      <td>[CHANDLER, JOEY]</td>\n",
       "      <td>[CHANDLER, ROSS, CHANDLER, ROSS]</td>\n",
       "      <td>[ROSS]</td>\n",
       "    </tr>\n",
       "    <tr>\n",
       "      <th>show</th>\n",
       "      <td>BBT</td>\n",
       "      <td>BBT</td>\n",
       "      <td>BBT</td>\n",
       "      <td>BBT</td>\n",
       "      <td>BBT</td>\n",
       "      <td>BBT</td>\n",
       "      <td>BBT</td>\n",
       "      <td>BBT</td>\n",
       "      <td>BBT</td>\n",
       "      <td>BBT</td>\n",
       "      <td>...</td>\n",
       "      <td>FRIENDS</td>\n",
       "      <td>FRIENDS</td>\n",
       "      <td>FRIENDS</td>\n",
       "      <td>FRIENDS</td>\n",
       "      <td>FRIENDS</td>\n",
       "      <td>FRIENDS</td>\n",
       "      <td>FRIENDS</td>\n",
       "      <td>FRIENDS</td>\n",
       "      <td>FRIENDS</td>\n",
       "      <td>FRIENDS</td>\n",
       "    </tr>\n",
       "  </tbody>\n",
       "</table>\n",
       "<p>5 rows × 690 columns</p>\n",
       "</div>"
      ],
      "text/plain": [
       "                                                               160   \\\n",
       "utterance         It's just a privilege to watch your mind at work.   \n",
       "speaker                                                     SHELDON   \n",
       "context           [I never would have identified the fingerprint...   \n",
       "context_speakers                                 [LEONARD, SHELDON]   \n",
       "show                                                            BBT   \n",
       "\n",
       "                                                               170   \\\n",
       "utterance         I don't think I'll be able to stop thinking ab...   \n",
       "speaker                                                       PENNY   \n",
       "context           [This is one of my favorite places to kick bac...   \n",
       "context_speakers  [HOWARD, PENNY, HOWARD, HOWARD, HOWARD, PENNY,...   \n",
       "show                                                            BBT   \n",
       "\n",
       "                                                               180   \\\n",
       "utterance         Since it's not bee season, you can have my epi...   \n",
       "speaker                                                     SHELDON   \n",
       "context           [Here we go. Pad thai, no peanuts., But does i...   \n",
       "context_speakers                         [LEONARD, HOWARD, LEONARD]   \n",
       "show                                                            BBT   \n",
       "\n",
       "                                                               190   \\\n",
       "utterance         Lois Lane is falling, accelerating at an initi...   \n",
       "speaker                                                     SHELDON   \n",
       "context           [A marathon? How many Superman movies are ther...   \n",
       "context_speakers  [PENNY, SHELDON, PENNY, SHELDON, SHELDON, PENN...   \n",
       "show                                                            BBT   \n",
       "\n",
       "                                                               1105  \\\n",
       "utterance         I'm just inferring this is a couch because the...   \n",
       "speaker                                                     SHELDON   \n",
       "context           [Great Caesar's ghost, look at this place., So...   \n",
       "context_speakers  [SHELDON, LEONARD, SHELDON, SHELDON, SHELDON, ...   \n",
       "show                                                            BBT   \n",
       "\n",
       "                                                               1162  \\\n",
       "utterance         Sheldon, if you were a robot, and I knew and y...   \n",
       "speaker                                                      HOWARD   \n",
       "context           [On the other hand, no arousal., None?, None.,...   \n",
       "context_speakers  [PERSON, LEONARD, PERSON, LEONARD, PERSON, LEO...   \n",
       "show                                                            BBT   \n",
       "\n",
       "                                                               1175  \\\n",
       "utterance         If you're compiling a mix CD for a double suic...   \n",
       "speaker                                                     SHELDON   \n",
       "context                  [Oh, good Lord., God, that's a good song.]   \n",
       "context_speakers                                 [SHELDON, LEONARD]   \n",
       "show                                                            BBT   \n",
       "\n",
       "                                                               1182  \\\n",
       "utterance         No. The dark crescent-shaped patterns under yo...   \n",
       "speaker                                                     SHELDON   \n",
       "context           [How do I look?, Could you be more specific?, ...   \n",
       "context_speakers                        [LEONARD, SHELDON, LEONARD]   \n",
       "show                                                            BBT   \n",
       "\n",
       "                                                               1213  \\\n",
       "utterance         How's this? \"Pleased to meet you, Dr. Gablehau...   \n",
       "speaker                                                     SHELDON   \n",
       "context           [You know, I am not going to enjoy this party....   \n",
       "context_speakers  [SHELDON, LEONARD, SHELDON, LEONARD, SHELDON, ...   \n",
       "show                                                            BBT   \n",
       "\n",
       "                                                               1276  ...  \\\n",
       "utterance         Yeah, my parents felt that naming me Leonard a...  ...   \n",
       "speaker                                                     LEONARD  ...   \n",
       "context           [He switched over to high-energy radiation res...  ...   \n",
       "context_speakers  [PERSON, PERSON, LEONARD, PERSON, LEONARD, PER...  ...   \n",
       "show                                                            BBT  ...   \n",
       "\n",
       "                                                               2623  \\\n",
       "utterance         What do you know? Its a treat for the eyes and...   \n",
       "speaker                                                    CHANDLER   \n",
       "context           [Chandler?, Hey! Ah!, What do you think?, I th...   \n",
       "context_speakers               [PHOEBE, CHANDLER, MONICA, CHANDLER]   \n",
       "show                                                        FRIENDS   \n",
       "\n",
       "                                                               2131  \\\n",
       "utterance         I really don't wanna sit with Allen Iverson ov...   \n",
       "speaker                                                    CHANDLER   \n",
       "context                         [Wish I could switch with someone.]   \n",
       "context_speakers                                         [CHANDLER]   \n",
       "show                                                        FRIENDS   \n",
       "\n",
       "                                                               2236  \\\n",
       "utterance         Gee, if only she were one and had no idea what...   \n",
       "speaker                                                    CHANDLER   \n",
       "context           [You can't go away this weekend, its Emma's bi...   \n",
       "context_speakers                           [RACHEL, MONICA, RACHEL]   \n",
       "show                                                        FRIENDS   \n",
       "\n",
       "                                                               2546  \\\n",
       "utterance         Oh sure, she was probably up all night excited...   \n",
       "speaker                                                    CHANDLER   \n",
       "context           [Hey, Hey, where's the birthday girl?, Oh she ...   \n",
       "context_speakers                         [MONICA, CHANDLER, RACHEL]   \n",
       "show                                                        FRIENDS   \n",
       "\n",
       "                                                   2242  \\\n",
       "utterance              Are you still enjoying your nap?   \n",
       "speaker                                        CHANDLER   \n",
       "context           [Okay?, Hi Emma, it's the year 2020.]   \n",
       "context_speakers                       [ROSS, CHANDLER]   \n",
       "show                                            FRIENDS   \n",
       "\n",
       "                                                               2169  \\\n",
       "utterance         Hes not right for the part, and if I suggest h...   \n",
       "speaker                                                    CHANDLER   \n",
       "context           [What am I gonna do now?, Just pass the tape a...   \n",
       "context_speakers                                 [CHANDLER, RACHEL]   \n",
       "show                                                        FRIENDS   \n",
       "\n",
       "                                                               2235  \\\n",
       "utterance         Oh yeah he has a caretaker his older brother, ...   \n",
       "speaker                                                    CHANDLER   \n",
       "context           [Helo! Anybody in there order a celebrity?, Wh...   \n",
       "context_speakers                   [JOEY, PERSON, CHANDLER, PERSON]   \n",
       "show                                                        FRIENDS   \n",
       "\n",
       "                                                               234   \\\n",
       "utterance         Is it me or the greetings gone downhill around...   \n",
       "speaker                                                    CHANDLER   \n",
       "context                                  [Hey, You son of a bitch!]   \n",
       "context_speakers                                   [CHANDLER, JOEY]   \n",
       "show                                                        FRIENDS   \n",
       "\n",
       "                                                               2608  \\\n",
       "utterance         You are right, by saying nice, I am virtually ...   \n",
       "speaker                                                    CHANDLER   \n",
       "context           [Did I go to this school?, Hey, there's Missy ...   \n",
       "context_speakers                   [CHANDLER, ROSS, CHANDLER, ROSS]   \n",
       "show                                                        FRIENDS   \n",
       "\n",
       "                                                               2524  \n",
       "utterance                   Yes and we are \"very\" excited about it.  \n",
       "speaker                                                    CHANDLER  \n",
       "context           [Anyway, if you don't feel like being alone to...  \n",
       "context_speakers                                             [ROSS]  \n",
       "show                                                        FRIENDS  \n",
       "\n",
       "[5 rows x 690 columns]"
      ]
     },
     "execution_count": 3,
     "metadata": {},
     "output_type": "execute_result"
    }
   ],
   "source": [
    "data.head()"
   ]
  },
  {
   "cell_type": "code",
   "execution_count": 4,
   "id": "471de838",
   "metadata": {},
   "outputs": [],
   "source": [
    "data = data.T"
   ]
  },
  {
   "cell_type": "code",
   "execution_count": 5,
   "id": "45ce5d33",
   "metadata": {},
   "outputs": [
    {
     "data": {
      "text/html": [
       "<div>\n",
       "<style scoped>\n",
       "    .dataframe tbody tr th:only-of-type {\n",
       "        vertical-align: middle;\n",
       "    }\n",
       "\n",
       "    .dataframe tbody tr th {\n",
       "        vertical-align: top;\n",
       "    }\n",
       "\n",
       "    .dataframe thead th {\n",
       "        text-align: right;\n",
       "    }\n",
       "</style>\n",
       "<table border=\"1\" class=\"dataframe\">\n",
       "  <thead>\n",
       "    <tr style=\"text-align: right;\">\n",
       "      <th></th>\n",
       "      <th>utterance</th>\n",
       "      <th>speaker</th>\n",
       "      <th>context</th>\n",
       "      <th>context_speakers</th>\n",
       "      <th>show</th>\n",
       "      <th>sarcasm</th>\n",
       "    </tr>\n",
       "  </thead>\n",
       "  <tbody>\n",
       "    <tr>\n",
       "      <th>160</th>\n",
       "      <td>It's just a privilege to watch your mind at work.</td>\n",
       "      <td>SHELDON</td>\n",
       "      <td>[I never would have identified the fingerprint...</td>\n",
       "      <td>[LEONARD, SHELDON]</td>\n",
       "      <td>BBT</td>\n",
       "      <td>True</td>\n",
       "    </tr>\n",
       "    <tr>\n",
       "      <th>170</th>\n",
       "      <td>I don't think I'll be able to stop thinking ab...</td>\n",
       "      <td>PENNY</td>\n",
       "      <td>[This is one of my favorite places to kick bac...</td>\n",
       "      <td>[HOWARD, PENNY, HOWARD, HOWARD, HOWARD, PENNY,...</td>\n",
       "      <td>BBT</td>\n",
       "      <td>True</td>\n",
       "    </tr>\n",
       "    <tr>\n",
       "      <th>180</th>\n",
       "      <td>Since it's not bee season, you can have my epi...</td>\n",
       "      <td>SHELDON</td>\n",
       "      <td>[Here we go. Pad thai, no peanuts., But does i...</td>\n",
       "      <td>[LEONARD, HOWARD, LEONARD]</td>\n",
       "      <td>BBT</td>\n",
       "      <td>False</td>\n",
       "    </tr>\n",
       "    <tr>\n",
       "      <th>190</th>\n",
       "      <td>Lois Lane is falling, accelerating at an initi...</td>\n",
       "      <td>SHELDON</td>\n",
       "      <td>[A marathon? How many Superman movies are ther...</td>\n",
       "      <td>[PENNY, SHELDON, PENNY, SHELDON, SHELDON, PENN...</td>\n",
       "      <td>BBT</td>\n",
       "      <td>False</td>\n",
       "    </tr>\n",
       "    <tr>\n",
       "      <th>1105</th>\n",
       "      <td>I'm just inferring this is a couch because the...</td>\n",
       "      <td>SHELDON</td>\n",
       "      <td>[Great Caesar's ghost, look at this place., So...</td>\n",
       "      <td>[SHELDON, LEONARD, SHELDON, SHELDON, SHELDON, ...</td>\n",
       "      <td>BBT</td>\n",
       "      <td>True</td>\n",
       "    </tr>\n",
       "  </tbody>\n",
       "</table>\n",
       "</div>"
      ],
      "text/plain": [
       "                                              utterance  speaker  \\\n",
       "160   It's just a privilege to watch your mind at work.  SHELDON   \n",
       "170   I don't think I'll be able to stop thinking ab...    PENNY   \n",
       "180   Since it's not bee season, you can have my epi...  SHELDON   \n",
       "190   Lois Lane is falling, accelerating at an initi...  SHELDON   \n",
       "1105  I'm just inferring this is a couch because the...  SHELDON   \n",
       "\n",
       "                                                context  \\\n",
       "160   [I never would have identified the fingerprint...   \n",
       "170   [This is one of my favorite places to kick bac...   \n",
       "180   [Here we go. Pad thai, no peanuts., But does i...   \n",
       "190   [A marathon? How many Superman movies are ther...   \n",
       "1105  [Great Caesar's ghost, look at this place., So...   \n",
       "\n",
       "                                       context_speakers show sarcasm  \n",
       "160                                  [LEONARD, SHELDON]  BBT    True  \n",
       "170   [HOWARD, PENNY, HOWARD, HOWARD, HOWARD, PENNY,...  BBT    True  \n",
       "180                          [LEONARD, HOWARD, LEONARD]  BBT   False  \n",
       "190   [PENNY, SHELDON, PENNY, SHELDON, SHELDON, PENN...  BBT   False  \n",
       "1105  [SHELDON, LEONARD, SHELDON, SHELDON, SHELDON, ...  BBT    True  "
      ]
     },
     "execution_count": 5,
     "metadata": {},
     "output_type": "execute_result"
    }
   ],
   "source": [
    "data.head()"
   ]
  },
  {
   "cell_type": "code",
   "execution_count": 6,
   "id": "8e98683b",
   "metadata": {},
   "outputs": [
    {
     "name": "stdout",
     "output_type": "stream",
     "text": [
      "<class 'pandas.core.frame.DataFrame'>\n",
      "Int64Index: 690 entries, 160 to 2524\n",
      "Data columns (total 6 columns):\n",
      " #   Column            Non-Null Count  Dtype \n",
      "---  ------            --------------  ----- \n",
      " 0   utterance         690 non-null    object\n",
      " 1   speaker           690 non-null    object\n",
      " 2   context           690 non-null    object\n",
      " 3   context_speakers  690 non-null    object\n",
      " 4   show              690 non-null    object\n",
      " 5   sarcasm           690 non-null    object\n",
      "dtypes: object(6)\n",
      "memory usage: 53.9+ KB\n"
     ]
    }
   ],
   "source": [
    "data.info()"
   ]
  },
  {
   "cell_type": "code",
   "execution_count": 7,
   "id": "7d9eca03",
   "metadata": {},
   "outputs": [
    {
     "data": {
      "text/plain": [
       "FRIENDS           356\n",
       "BBT               280\n",
       "GOLDENGIRLS        40\n",
       "SARCASMOHOLICS     14\n",
       "Name: show, dtype: int64"
      ]
     },
     "execution_count": 7,
     "metadata": {},
     "output_type": "execute_result"
    }
   ],
   "source": [
    "data.show.value_counts(dropna=False)"
   ]
  },
  {
   "cell_type": "code",
   "execution_count": 8,
   "id": "66497483",
   "metadata": {},
   "outputs": [
    {
     "data": {
      "text/plain": [
       "True     345\n",
       "False    345\n",
       "Name: sarcasm, dtype: int64"
      ]
     },
     "execution_count": 8,
     "metadata": {},
     "output_type": "execute_result"
    }
   ],
   "source": [
    "data.sarcasm.value_counts(dropna=False)"
   ]
  },
  {
   "cell_type": "code",
   "execution_count": 9,
   "id": "cc3739a4",
   "metadata": {},
   "outputs": [],
   "source": [
    "data.rename(columns={'utterance': 'comment', 'sarcasm': 'label'}, inplace=True)"
   ]
  },
  {
   "cell_type": "code",
   "execution_count": 10,
   "id": "1e423ad0",
   "metadata": {},
   "outputs": [],
   "source": [
    "df = data[['comment', 'label']].reset_index()"
   ]
  },
  {
   "cell_type": "code",
   "execution_count": 11,
   "id": "53b5b3b4",
   "metadata": {},
   "outputs": [],
   "source": [
    "df['comment'] = df['comment'].str.lower()"
   ]
  },
  {
   "cell_type": "code",
   "execution_count": 12,
   "id": "493bae99",
   "metadata": {},
   "outputs": [
    {
     "data": {
      "text/html": [
       "<div>\n",
       "<style scoped>\n",
       "    .dataframe tbody tr th:only-of-type {\n",
       "        vertical-align: middle;\n",
       "    }\n",
       "\n",
       "    .dataframe tbody tr th {\n",
       "        vertical-align: top;\n",
       "    }\n",
       "\n",
       "    .dataframe thead th {\n",
       "        text-align: right;\n",
       "    }\n",
       "</style>\n",
       "<table border=\"1\" class=\"dataframe\">\n",
       "  <thead>\n",
       "    <tr style=\"text-align: right;\">\n",
       "      <th></th>\n",
       "      <th>index</th>\n",
       "      <th>comment</th>\n",
       "      <th>label</th>\n",
       "    </tr>\n",
       "  </thead>\n",
       "  <tbody>\n",
       "    <tr>\n",
       "      <th>0</th>\n",
       "      <td>160</td>\n",
       "      <td>it's just a privilege to watch your mind at work.</td>\n",
       "      <td>True</td>\n",
       "    </tr>\n",
       "    <tr>\n",
       "      <th>1</th>\n",
       "      <td>170</td>\n",
       "      <td>i don't think i'll be able to stop thinking ab...</td>\n",
       "      <td>True</td>\n",
       "    </tr>\n",
       "    <tr>\n",
       "      <th>2</th>\n",
       "      <td>180</td>\n",
       "      <td>since it's not bee season, you can have my epi...</td>\n",
       "      <td>False</td>\n",
       "    </tr>\n",
       "    <tr>\n",
       "      <th>3</th>\n",
       "      <td>190</td>\n",
       "      <td>lois lane is falling, accelerating at an initi...</td>\n",
       "      <td>False</td>\n",
       "    </tr>\n",
       "    <tr>\n",
       "      <th>4</th>\n",
       "      <td>1105</td>\n",
       "      <td>i'm just inferring this is a couch because the...</td>\n",
       "      <td>True</td>\n",
       "    </tr>\n",
       "  </tbody>\n",
       "</table>\n",
       "</div>"
      ],
      "text/plain": [
       "   index                                            comment  label\n",
       "0    160  it's just a privilege to watch your mind at work.   True\n",
       "1    170  i don't think i'll be able to stop thinking ab...   True\n",
       "2    180  since it's not bee season, you can have my epi...  False\n",
       "3    190  lois lane is falling, accelerating at an initi...  False\n",
       "4   1105  i'm just inferring this is a couch because the...   True"
      ]
     },
     "execution_count": 12,
     "metadata": {},
     "output_type": "execute_result"
    }
   ],
   "source": [
    "df.head()"
   ]
  },
  {
   "cell_type": "code",
   "execution_count": 13,
   "id": "9e6eac9b",
   "metadata": {},
   "outputs": [],
   "source": [
    "df.replace({'label': {True: 1, False: 0}}, inplace=True)"
   ]
  },
  {
   "cell_type": "code",
   "execution_count": 14,
   "id": "fcce6c2e",
   "metadata": {},
   "outputs": [
    {
     "data": {
      "text/html": [
       "<div>\n",
       "<style scoped>\n",
       "    .dataframe tbody tr th:only-of-type {\n",
       "        vertical-align: middle;\n",
       "    }\n",
       "\n",
       "    .dataframe tbody tr th {\n",
       "        vertical-align: top;\n",
       "    }\n",
       "\n",
       "    .dataframe thead th {\n",
       "        text-align: right;\n",
       "    }\n",
       "</style>\n",
       "<table border=\"1\" class=\"dataframe\">\n",
       "  <thead>\n",
       "    <tr style=\"text-align: right;\">\n",
       "      <th></th>\n",
       "      <th>index</th>\n",
       "      <th>comment</th>\n",
       "      <th>label</th>\n",
       "    </tr>\n",
       "  </thead>\n",
       "  <tbody>\n",
       "    <tr>\n",
       "      <th>0</th>\n",
       "      <td>160</td>\n",
       "      <td>it's just a privilege to watch your mind at work.</td>\n",
       "      <td>1</td>\n",
       "    </tr>\n",
       "    <tr>\n",
       "      <th>1</th>\n",
       "      <td>170</td>\n",
       "      <td>i don't think i'll be able to stop thinking ab...</td>\n",
       "      <td>1</td>\n",
       "    </tr>\n",
       "    <tr>\n",
       "      <th>2</th>\n",
       "      <td>180</td>\n",
       "      <td>since it's not bee season, you can have my epi...</td>\n",
       "      <td>0</td>\n",
       "    </tr>\n",
       "    <tr>\n",
       "      <th>3</th>\n",
       "      <td>190</td>\n",
       "      <td>lois lane is falling, accelerating at an initi...</td>\n",
       "      <td>0</td>\n",
       "    </tr>\n",
       "    <tr>\n",
       "      <th>4</th>\n",
       "      <td>1105</td>\n",
       "      <td>i'm just inferring this is a couch because the...</td>\n",
       "      <td>1</td>\n",
       "    </tr>\n",
       "  </tbody>\n",
       "</table>\n",
       "</div>"
      ],
      "text/plain": [
       "   index                                            comment  label\n",
       "0    160  it's just a privilege to watch your mind at work.      1\n",
       "1    170  i don't think i'll be able to stop thinking ab...      1\n",
       "2    180  since it's not bee season, you can have my epi...      0\n",
       "3    190  lois lane is falling, accelerating at an initi...      0\n",
       "4   1105  i'm just inferring this is a couch because the...      1"
      ]
     },
     "execution_count": 14,
     "metadata": {},
     "output_type": "execute_result"
    }
   ],
   "source": [
    "df.head()"
   ]
  },
  {
   "cell_type": "code",
   "execution_count": 15,
   "id": "e9caabdc",
   "metadata": {},
   "outputs": [],
   "source": [
    "df['comment_words'] = df['comment'].apply(lambda x: x.split(' '))"
   ]
  },
  {
   "cell_type": "code",
   "execution_count": 16,
   "id": "5cd2a3f7",
   "metadata": {},
   "outputs": [],
   "source": [
    "df['message_len'] = df['comment_words'].apply(len)"
   ]
  },
  {
   "cell_type": "code",
   "execution_count": 17,
   "id": "c3ccc0c3",
   "metadata": {},
   "outputs": [
    {
     "data": {
      "text/html": [
       "<div>\n",
       "<style scoped>\n",
       "    .dataframe tbody tr th:only-of-type {\n",
       "        vertical-align: middle;\n",
       "    }\n",
       "\n",
       "    .dataframe tbody tr th {\n",
       "        vertical-align: top;\n",
       "    }\n",
       "\n",
       "    .dataframe thead th {\n",
       "        text-align: right;\n",
       "    }\n",
       "</style>\n",
       "<table border=\"1\" class=\"dataframe\">\n",
       "  <thead>\n",
       "    <tr style=\"text-align: right;\">\n",
       "      <th></th>\n",
       "      <th>index</th>\n",
       "      <th>comment</th>\n",
       "      <th>label</th>\n",
       "      <th>comment_words</th>\n",
       "      <th>message_len</th>\n",
       "    </tr>\n",
       "  </thead>\n",
       "  <tbody>\n",
       "    <tr>\n",
       "      <th>0</th>\n",
       "      <td>160</td>\n",
       "      <td>it's just a privilege to watch your mind at work.</td>\n",
       "      <td>1</td>\n",
       "      <td>[it's, just, a, privilege, to, watch, your, mi...</td>\n",
       "      <td>10</td>\n",
       "    </tr>\n",
       "    <tr>\n",
       "      <th>1</th>\n",
       "      <td>170</td>\n",
       "      <td>i don't think i'll be able to stop thinking ab...</td>\n",
       "      <td>1</td>\n",
       "      <td>[i, don't, think, i'll, be, able, to, stop, th...</td>\n",
       "      <td>11</td>\n",
       "    </tr>\n",
       "    <tr>\n",
       "      <th>2</th>\n",
       "      <td>180</td>\n",
       "      <td>since it's not bee season, you can have my epi...</td>\n",
       "      <td>0</td>\n",
       "      <td>[since, it's, not, bee, season,, you, can, hav...</td>\n",
       "      <td>10</td>\n",
       "    </tr>\n",
       "    <tr>\n",
       "      <th>3</th>\n",
       "      <td>190</td>\n",
       "      <td>lois lane is falling, accelerating at an initi...</td>\n",
       "      <td>0</td>\n",
       "      <td>[lois, lane, is, falling,, accelerating, at, a...</td>\n",
       "      <td>51</td>\n",
       "    </tr>\n",
       "    <tr>\n",
       "      <th>4</th>\n",
       "      <td>1105</td>\n",
       "      <td>i'm just inferring this is a couch because the...</td>\n",
       "      <td>1</td>\n",
       "      <td>[i'm, just, inferring, this, is, a, couch, bec...</td>\n",
       "      <td>20</td>\n",
       "    </tr>\n",
       "  </tbody>\n",
       "</table>\n",
       "</div>"
      ],
      "text/plain": [
       "   index                                            comment  label  \\\n",
       "0    160  it's just a privilege to watch your mind at work.      1   \n",
       "1    170  i don't think i'll be able to stop thinking ab...      1   \n",
       "2    180  since it's not bee season, you can have my epi...      0   \n",
       "3    190  lois lane is falling, accelerating at an initi...      0   \n",
       "4   1105  i'm just inferring this is a couch because the...      1   \n",
       "\n",
       "                                       comment_words  message_len  \n",
       "0  [it's, just, a, privilege, to, watch, your, mi...           10  \n",
       "1  [i, don't, think, i'll, be, able, to, stop, th...           11  \n",
       "2  [since, it's, not, bee, season,, you, can, hav...           10  \n",
       "3  [lois, lane, is, falling,, accelerating, at, a...           51  \n",
       "4  [i'm, just, inferring, this, is, a, couch, bec...           20  "
      ]
     },
     "execution_count": 17,
     "metadata": {},
     "output_type": "execute_result"
    }
   ],
   "source": [
    "df.head()"
   ]
  },
  {
   "cell_type": "code",
   "execution_count": 18,
   "id": "0a1d4f39",
   "metadata": {},
   "outputs": [
    {
     "data": {
      "text/plain": [
       "[('i', 267),\n",
       " ('a', 257),\n",
       " ('the', 244),\n",
       " ('you', 228),\n",
       " ('to', 212),\n",
       " ('and', 146),\n",
       " ('of', 123),\n",
       " ('in', 99),\n",
       " ('that', 90),\n",
       " ('it', 77),\n",
       " ('my', 75),\n",
       " ('is', 75),\n",
       " ('just', 71),\n",
       " (\"i'm\", 65),\n",
       " ('was', 63),\n",
       " ('have', 60),\n",
       " (\"don't\", 55),\n",
       " ('for', 55),\n",
       " ('with', 55),\n",
       " ('on', 54),\n",
       " ('all', 51),\n",
       " ('your', 50),\n",
       " ('not', 49),\n",
       " ('if', 49),\n",
       " ('we', 49),\n",
       " ('what', 48),\n",
       " (\"it's\", 46),\n",
       " ('me', 45),\n",
       " ('but', 44),\n",
       " ('like', 43),\n",
       " ('no,', 42),\n",
       " ('no', 41),\n",
       " ('so', 41),\n",
       " ('do', 41),\n",
       " ('this', 40),\n",
       " ('about', 39),\n",
       " ('oh,', 37),\n",
       " ('are', 37),\n",
       " ('he', 35),\n",
       " ('be', 34),\n",
       " ('am', 33),\n",
       " ('an', 32),\n",
       " ('out', 32),\n",
       " (\"you're\", 32),\n",
       " ('oh', 32),\n",
       " ('can', 31),\n",
       " ('she', 31),\n",
       " ('at', 29),\n",
       " ('think', 28),\n",
       " ('go', 27),\n",
       " ('yeah,', 26),\n",
       " ('well,', 26),\n",
       " ('when', 26),\n",
       " ('her', 25),\n",
       " ('because', 25),\n",
       " ('up', 24),\n",
       " ('how', 24),\n",
       " ('see', 24),\n",
       " ('it.', 23),\n",
       " ('got', 23),\n",
       " ('know', 23),\n",
       " (\"that's\", 23),\n",
       " ('would', 22),\n",
       " ('going', 22),\n",
       " ('really', 22),\n",
       " ('you.', 21),\n",
       " ('good', 21),\n",
       " ('get', 21),\n",
       " ('gonna', 21),\n",
       " ('as', 20),\n",
       " ('they', 20),\n",
       " ('why', 20),\n",
       " ('want', 19),\n",
       " ('', 19),\n",
       " ('our', 18),\n",
       " ('one', 17),\n",
       " ('okay,', 17),\n",
       " ('there', 16),\n",
       " ('little', 16),\n",
       " ('who', 15),\n",
       " ('were', 15),\n",
       " ('know,', 15),\n",
       " ('-', 15),\n",
       " ('right,', 15),\n",
       " ('could', 15),\n",
       " ('his', 15),\n",
       " ('maybe', 14),\n",
       " ('talk', 14),\n",
       " ('had', 14),\n",
       " (\"i'll\", 13),\n",
       " ('now', 13),\n",
       " (\"there's\", 13),\n",
       " ('new', 13),\n",
       " ('come', 13),\n",
       " ('here', 13),\n",
       " ('look', 13),\n",
       " ('something', 13),\n",
       " ('uh,', 13),\n",
       " (\"can't\", 13),\n",
       " ('from', 12)]"
      ]
     },
     "execution_count": 18,
     "metadata": {},
     "output_type": "execute_result"
    }
   ],
   "source": [
    "Counter(df.comment_words.sum()).most_common(100)"
   ]
  },
  {
   "cell_type": "code",
   "execution_count": 19,
   "id": "a8512204",
   "metadata": {},
   "outputs": [],
   "source": [
    "df['comment_words'] = df['comment_words'].apply(\n",
    "    lambda x: [''.join(re.findall('[\\s\\w\\d]', word)) for word in x if (\n",
    "        (word not in string.punctuation) and (word not in STOP_WORDS)\n",
    "    )]\n",
    ")"
   ]
  },
  {
   "cell_type": "code",
   "execution_count": 20,
   "id": "74323d84",
   "metadata": {},
   "outputs": [
    {
     "data": {
      "text/html": [
       "<div>\n",
       "<style scoped>\n",
       "    .dataframe tbody tr th:only-of-type {\n",
       "        vertical-align: middle;\n",
       "    }\n",
       "\n",
       "    .dataframe tbody tr th {\n",
       "        vertical-align: top;\n",
       "    }\n",
       "\n",
       "    .dataframe thead th {\n",
       "        text-align: right;\n",
       "    }\n",
       "</style>\n",
       "<table border=\"1\" class=\"dataframe\">\n",
       "  <thead>\n",
       "    <tr style=\"text-align: right;\">\n",
       "      <th></th>\n",
       "      <th>index</th>\n",
       "      <th>comment</th>\n",
       "      <th>label</th>\n",
       "      <th>comment_words</th>\n",
       "      <th>message_len</th>\n",
       "    </tr>\n",
       "  </thead>\n",
       "  <tbody>\n",
       "    <tr>\n",
       "      <th>0</th>\n",
       "      <td>160</td>\n",
       "      <td>it's just a privilege to watch your mind at work.</td>\n",
       "      <td>1</td>\n",
       "      <td>[its, privilege, watch, mind, work]</td>\n",
       "      <td>10</td>\n",
       "    </tr>\n",
       "    <tr>\n",
       "      <th>1</th>\n",
       "      <td>170</td>\n",
       "      <td>i don't think i'll be able to stop thinking ab...</td>\n",
       "      <td>1</td>\n",
       "      <td>[dont, think, ill, able, stop, thinking, it]</td>\n",
       "      <td>11</td>\n",
       "    </tr>\n",
       "    <tr>\n",
       "      <th>2</th>\n",
       "      <td>180</td>\n",
       "      <td>since it's not bee season, you can have my epi...</td>\n",
       "      <td>0</td>\n",
       "      <td>[its, bee, season, epinephrine]</td>\n",
       "      <td>10</td>\n",
       "    </tr>\n",
       "    <tr>\n",
       "      <th>3</th>\n",
       "      <td>190</td>\n",
       "      <td>lois lane is falling, accelerating at an initi...</td>\n",
       "      <td>0</td>\n",
       "      <td>[lois, lane, falling, accelerating, initial, r...</td>\n",
       "      <td>51</td>\n",
       "    </tr>\n",
       "    <tr>\n",
       "      <th>4</th>\n",
       "      <td>1105</td>\n",
       "      <td>i'm just inferring this is a couch because the...</td>\n",
       "      <td>1</td>\n",
       "      <td>[im, inferring, couch, evidence, suggests, cof...</td>\n",
       "      <td>20</td>\n",
       "    </tr>\n",
       "  </tbody>\n",
       "</table>\n",
       "</div>"
      ],
      "text/plain": [
       "   index                                            comment  label  \\\n",
       "0    160  it's just a privilege to watch your mind at work.      1   \n",
       "1    170  i don't think i'll be able to stop thinking ab...      1   \n",
       "2    180  since it's not bee season, you can have my epi...      0   \n",
       "3    190  lois lane is falling, accelerating at an initi...      0   \n",
       "4   1105  i'm just inferring this is a couch because the...      1   \n",
       "\n",
       "                                       comment_words  message_len  \n",
       "0                [its, privilege, watch, mind, work]           10  \n",
       "1       [dont, think, ill, able, stop, thinking, it]           11  \n",
       "2                    [its, bee, season, epinephrine]           10  \n",
       "3  [lois, lane, falling, accelerating, initial, r...           51  \n",
       "4  [im, inferring, couch, evidence, suggests, cof...           20  "
      ]
     },
     "execution_count": 20,
     "metadata": {},
     "output_type": "execute_result"
    }
   ],
   "source": [
    "df.head()"
   ]
  },
  {
   "cell_type": "code",
   "execution_count": 21,
   "id": "253ccef6",
   "metadata": {},
   "outputs": [],
   "source": [
    "en_model = spacy.load('en_core_web_sm')"
   ]
  },
  {
   "cell_type": "code",
   "execution_count": 22,
   "id": "ece4516b",
   "metadata": {},
   "outputs": [],
   "source": [
    "df['lemma'] = df['comment_words'].apply(lambda x: ' '.join([token.lemma_ for token in en_model(' '.join(x))]))"
   ]
  },
  {
   "cell_type": "code",
   "execution_count": 23,
   "id": "52b152e1",
   "metadata": {},
   "outputs": [],
   "source": [
    "df['embeddings'] = df['comment'].apply(lambda x: [np.mean(token.vector) for token in en_model(x)])"
   ]
  },
  {
   "cell_type": "code",
   "execution_count": 24,
   "id": "51593a97",
   "metadata": {},
   "outputs": [
    {
     "data": {
      "text/html": [
       "<div>\n",
       "<style scoped>\n",
       "    .dataframe tbody tr th:only-of-type {\n",
       "        vertical-align: middle;\n",
       "    }\n",
       "\n",
       "    .dataframe tbody tr th {\n",
       "        vertical-align: top;\n",
       "    }\n",
       "\n",
       "    .dataframe thead th {\n",
       "        text-align: right;\n",
       "    }\n",
       "</style>\n",
       "<table border=\"1\" class=\"dataframe\">\n",
       "  <thead>\n",
       "    <tr style=\"text-align: right;\">\n",
       "      <th></th>\n",
       "      <th>index</th>\n",
       "      <th>comment</th>\n",
       "      <th>label</th>\n",
       "      <th>comment_words</th>\n",
       "      <th>message_len</th>\n",
       "      <th>lemma</th>\n",
       "      <th>embeddings</th>\n",
       "    </tr>\n",
       "  </thead>\n",
       "  <tbody>\n",
       "    <tr>\n",
       "      <th>0</th>\n",
       "      <td>160</td>\n",
       "      <td>it's just a privilege to watch your mind at work.</td>\n",
       "      <td>1</td>\n",
       "      <td>[its, privilege, watch, mind, work]</td>\n",
       "      <td>10</td>\n",
       "      <td>its privilege watch mind work</td>\n",
       "      <td>[-0.03240213, -0.02640604, 0.0010467073, -0.02...</td>\n",
       "    </tr>\n",
       "    <tr>\n",
       "      <th>1</th>\n",
       "      <td>170</td>\n",
       "      <td>i don't think i'll be able to stop thinking ab...</td>\n",
       "      <td>1</td>\n",
       "      <td>[dont, think, ill, able, stop, thinking, it]</td>\n",
       "      <td>11</td>\n",
       "      <td>do not think ill able stop think it</td>\n",
       "      <td>[-0.009132788, 0.0069183805, 0.04031159, -0.03...</td>\n",
       "    </tr>\n",
       "    <tr>\n",
       "      <th>2</th>\n",
       "      <td>180</td>\n",
       "      <td>since it's not bee season, you can have my epi...</td>\n",
       "      <td>0</td>\n",
       "      <td>[its, bee, season, epinephrine]</td>\n",
       "      <td>10</td>\n",
       "      <td>its bee season epinephrine</td>\n",
       "      <td>[0.014771591, -0.016912768, -0.01538005, 0.013...</td>\n",
       "    </tr>\n",
       "    <tr>\n",
       "      <th>3</th>\n",
       "      <td>190</td>\n",
       "      <td>lois lane is falling, accelerating at an initi...</td>\n",
       "      <td>0</td>\n",
       "      <td>[lois, lane, falling, accelerating, initial, r...</td>\n",
       "      <td>51</td>\n",
       "      <td>lois lane fall accelerate initial rate 32 foot...</td>\n",
       "      <td>[-0.013496977, -0.015611366, 0.010337063, 0.00...</td>\n",
       "    </tr>\n",
       "    <tr>\n",
       "      <th>4</th>\n",
       "      <td>1105</td>\n",
       "      <td>i'm just inferring this is a couch because the...</td>\n",
       "      <td>1</td>\n",
       "      <td>[im, inferring, couch, evidence, suggests, cof...</td>\n",
       "      <td>20</td>\n",
       "      <td>I m infer couch evidence suggest coffee table ...</td>\n",
       "      <td>[-0.0077959597, -0.028534317, 0.019402007, -0....</td>\n",
       "    </tr>\n",
       "  </tbody>\n",
       "</table>\n",
       "</div>"
      ],
      "text/plain": [
       "   index                                            comment  label  \\\n",
       "0    160  it's just a privilege to watch your mind at work.      1   \n",
       "1    170  i don't think i'll be able to stop thinking ab...      1   \n",
       "2    180  since it's not bee season, you can have my epi...      0   \n",
       "3    190  lois lane is falling, accelerating at an initi...      0   \n",
       "4   1105  i'm just inferring this is a couch because the...      1   \n",
       "\n",
       "                                       comment_words  message_len  \\\n",
       "0                [its, privilege, watch, mind, work]           10   \n",
       "1       [dont, think, ill, able, stop, thinking, it]           11   \n",
       "2                    [its, bee, season, epinephrine]           10   \n",
       "3  [lois, lane, falling, accelerating, initial, r...           51   \n",
       "4  [im, inferring, couch, evidence, suggests, cof...           20   \n",
       "\n",
       "                                               lemma  \\\n",
       "0                      its privilege watch mind work   \n",
       "1                do not think ill able stop think it   \n",
       "2                         its bee season epinephrine   \n",
       "3  lois lane fall accelerate initial rate 32 foot...   \n",
       "4  I m infer couch evidence suggest coffee table ...   \n",
       "\n",
       "                                          embeddings  \n",
       "0  [-0.03240213, -0.02640604, 0.0010467073, -0.02...  \n",
       "1  [-0.009132788, 0.0069183805, 0.04031159, -0.03...  \n",
       "2  [0.014771591, -0.016912768, -0.01538005, 0.013...  \n",
       "3  [-0.013496977, -0.015611366, 0.010337063, 0.00...  \n",
       "4  [-0.0077959597, -0.028534317, 0.019402007, -0....  "
      ]
     },
     "execution_count": 24,
     "metadata": {},
     "output_type": "execute_result"
    }
   ],
   "source": [
    "df.head()"
   ]
  },
  {
   "cell_type": "code",
   "execution_count": 25,
   "id": "28313ea7",
   "metadata": {},
   "outputs": [],
   "source": [
    "reddit_data = pd.read_csv('../Datasets/clean_reddit_data.csv')"
   ]
  },
  {
   "cell_type": "code",
   "execution_count": 26,
   "id": "275d4cd4",
   "metadata": {},
   "outputs": [
    {
     "data": {
      "text/plain": [
       "0    505413\n",
       "1    505413\n",
       "Name: label, dtype: int64"
      ]
     },
     "execution_count": 26,
     "metadata": {},
     "output_type": "execute_result"
    }
   ],
   "source": [
    "reddit_data.label.value_counts(dropna=False)"
   ]
  },
  {
   "cell_type": "code",
   "execution_count": 27,
   "id": "e32d6a3f",
   "metadata": {},
   "outputs": [],
   "source": [
    "reddit_data['source'] = 'reddit'\n",
    "df['source'] = 'movies'"
   ]
  },
  {
   "cell_type": "code",
   "execution_count": 28,
   "id": "8147fe92",
   "metadata": {},
   "outputs": [],
   "source": [
    "combined_df = pd.concat([df, reddit_data], ignore_index=True)"
   ]
  },
  {
   "cell_type": "code",
   "execution_count": 29,
   "id": "40f8da68",
   "metadata": {},
   "outputs": [
    {
     "data": {
      "text/plain": [
       "1    505758\n",
       "0    505758\n",
       "Name: label, dtype: int64"
      ]
     },
     "execution_count": 29,
     "metadata": {},
     "output_type": "execute_result"
    }
   ],
   "source": [
    "combined_df.label.value_counts(dropna=False)"
   ]
  },
  {
   "cell_type": "code",
   "execution_count": 30,
   "id": "ba17785d",
   "metadata": {},
   "outputs": [],
   "source": [
    "combined_df.fillna(' ', inplace=True)"
   ]
  },
  {
   "cell_type": "code",
   "execution_count": 31,
   "id": "8fb226ee",
   "metadata": {},
   "outputs": [
    {
     "data": {
      "text/html": [
       "<div>\n",
       "<style scoped>\n",
       "    .dataframe tbody tr th:only-of-type {\n",
       "        vertical-align: middle;\n",
       "    }\n",
       "\n",
       "    .dataframe tbody tr th {\n",
       "        vertical-align: top;\n",
       "    }\n",
       "\n",
       "    .dataframe thead th {\n",
       "        text-align: right;\n",
       "    }\n",
       "</style>\n",
       "<table border=\"1\" class=\"dataframe\">\n",
       "  <thead>\n",
       "    <tr style=\"text-align: right;\">\n",
       "      <th></th>\n",
       "      <th>index</th>\n",
       "      <th>comment</th>\n",
       "      <th>label</th>\n",
       "      <th>comment_words</th>\n",
       "      <th>message_len</th>\n",
       "      <th>lemma</th>\n",
       "      <th>embeddings</th>\n",
       "      <th>source</th>\n",
       "    </tr>\n",
       "  </thead>\n",
       "  <tbody>\n",
       "    <tr>\n",
       "      <th>0</th>\n",
       "      <td>160.0</td>\n",
       "      <td>it's just a privilege to watch your mind at work.</td>\n",
       "      <td>1</td>\n",
       "      <td>[its, privilege, watch, mind, work]</td>\n",
       "      <td>10.0</td>\n",
       "      <td>its privilege watch mind work</td>\n",
       "      <td>[-0.03240213, -0.02640604, 0.0010467073, -0.02...</td>\n",
       "      <td>movies</td>\n",
       "    </tr>\n",
       "    <tr>\n",
       "      <th>1</th>\n",
       "      <td>170.0</td>\n",
       "      <td>i don't think i'll be able to stop thinking ab...</td>\n",
       "      <td>1</td>\n",
       "      <td>[dont, think, ill, able, stop, thinking, it]</td>\n",
       "      <td>11.0</td>\n",
       "      <td>do not think ill able stop think it</td>\n",
       "      <td>[-0.009132788, 0.0069183805, 0.04031159, -0.03...</td>\n",
       "      <td>movies</td>\n",
       "    </tr>\n",
       "    <tr>\n",
       "      <th>2</th>\n",
       "      <td>180.0</td>\n",
       "      <td>since it's not bee season, you can have my epi...</td>\n",
       "      <td>0</td>\n",
       "      <td>[its, bee, season, epinephrine]</td>\n",
       "      <td>10.0</td>\n",
       "      <td>its bee season epinephrine</td>\n",
       "      <td>[0.014771591, -0.016912768, -0.01538005, 0.013...</td>\n",
       "      <td>movies</td>\n",
       "    </tr>\n",
       "    <tr>\n",
       "      <th>3</th>\n",
       "      <td>190.0</td>\n",
       "      <td>lois lane is falling, accelerating at an initi...</td>\n",
       "      <td>0</td>\n",
       "      <td>[lois, lane, falling, accelerating, initial, r...</td>\n",
       "      <td>51.0</td>\n",
       "      <td>lois lane fall accelerate initial rate 32 foot...</td>\n",
       "      <td>[-0.013496977, -0.015611366, 0.010337063, 0.00...</td>\n",
       "      <td>movies</td>\n",
       "    </tr>\n",
       "    <tr>\n",
       "      <th>4</th>\n",
       "      <td>1105.0</td>\n",
       "      <td>i'm just inferring this is a couch because the...</td>\n",
       "      <td>1</td>\n",
       "      <td>[im, inferring, couch, evidence, suggests, cof...</td>\n",
       "      <td>20.0</td>\n",
       "      <td>I m infer couch evidence suggest coffee table ...</td>\n",
       "      <td>[-0.0077959597, -0.028534317, 0.019402007, -0....</td>\n",
       "      <td>movies</td>\n",
       "    </tr>\n",
       "  </tbody>\n",
       "</table>\n",
       "</div>"
      ],
      "text/plain": [
       "    index                                            comment  label  \\\n",
       "0   160.0  it's just a privilege to watch your mind at work.      1   \n",
       "1   170.0  i don't think i'll be able to stop thinking ab...      1   \n",
       "2   180.0  since it's not bee season, you can have my epi...      0   \n",
       "3   190.0  lois lane is falling, accelerating at an initi...      0   \n",
       "4  1105.0  i'm just inferring this is a couch because the...      1   \n",
       "\n",
       "                                       comment_words message_len  \\\n",
       "0                [its, privilege, watch, mind, work]        10.0   \n",
       "1       [dont, think, ill, able, stop, thinking, it]        11.0   \n",
       "2                    [its, bee, season, epinephrine]        10.0   \n",
       "3  [lois, lane, falling, accelerating, initial, r...        51.0   \n",
       "4  [im, inferring, couch, evidence, suggests, cof...        20.0   \n",
       "\n",
       "                                               lemma  \\\n",
       "0                      its privilege watch mind work   \n",
       "1                do not think ill able stop think it   \n",
       "2                         its bee season epinephrine   \n",
       "3  lois lane fall accelerate initial rate 32 foot...   \n",
       "4  I m infer couch evidence suggest coffee table ...   \n",
       "\n",
       "                                          embeddings  source  \n",
       "0  [-0.03240213, -0.02640604, 0.0010467073, -0.02...  movies  \n",
       "1  [-0.009132788, 0.0069183805, 0.04031159, -0.03...  movies  \n",
       "2  [0.014771591, -0.016912768, -0.01538005, 0.013...  movies  \n",
       "3  [-0.013496977, -0.015611366, 0.010337063, 0.00...  movies  \n",
       "4  [-0.0077959597, -0.028534317, 0.019402007, -0....  movies  "
      ]
     },
     "execution_count": 31,
     "metadata": {},
     "output_type": "execute_result"
    }
   ],
   "source": [
    "combined_df.head()"
   ]
  },
  {
   "cell_type": "code",
   "execution_count": 32,
   "id": "00761db1",
   "metadata": {},
   "outputs": [
    {
     "name": "stdout",
     "output_type": "stream",
     "text": [
      "<class 'pandas.core.frame.DataFrame'>\n",
      "RangeIndex: 1011516 entries, 0 to 1011515\n",
      "Data columns (total 8 columns):\n",
      " #   Column         Non-Null Count    Dtype \n",
      "---  ------         --------------    ----- \n",
      " 0   index          1011516 non-null  object\n",
      " 1   comment        1011516 non-null  object\n",
      " 2   label          1011516 non-null  int64 \n",
      " 3   comment_words  1011516 non-null  object\n",
      " 4   message_len    1011516 non-null  object\n",
      " 5   lemma          1011516 non-null  object\n",
      " 6   embeddings     1011516 non-null  object\n",
      " 7   source         1011516 non-null  object\n",
      "dtypes: int64(1), object(7)\n",
      "memory usage: 61.7+ MB\n"
     ]
    }
   ],
   "source": [
    "combined_df.info()"
   ]
  },
  {
   "cell_type": "code",
   "execution_count": 33,
   "id": "7a38a885",
   "metadata": {},
   "outputs": [],
   "source": [
    "reddit_data.fillna(' ', inplace=True)\n",
    "df.fillna(' ', inplace=True)"
   ]
  },
  {
   "cell_type": "code",
   "execution_count": 34,
   "id": "b0e92527",
   "metadata": {},
   "outputs": [],
   "source": [
    "reddit_data['embeddings_'] = reddit_data['embeddings'].apply(\n",
    "    lambda x: list(map(lambda y: float(y.strip()), x.strip('[]').split(','))) if type(x) == str else x\n",
    ")"
   ]
  },
  {
   "cell_type": "code",
   "execution_count": 35,
   "id": "ef2dc400",
   "metadata": {},
   "outputs": [],
   "source": [
    "reddit_data['embeddings_mean'] = reddit_data['embeddings_'].apply(np.mean)\n",
    "reddit_data['embeddings_mid'] = reddit_data['embeddings_'].apply(np.median)\n",
    "reddit_data['embeddings_std'] = reddit_data['embeddings_'].apply(np.std)"
   ]
  },
  {
   "cell_type": "code",
   "execution_count": 36,
   "id": "bcc71687",
   "metadata": {},
   "outputs": [],
   "source": [
    "df['embeddings_'] = df['embeddings'].apply(\n",
    "    lambda x: list(map(lambda y: float(y.strip()), x.strip('[]').split(','))) if type(x) == str else x\n",
    ")"
   ]
  },
  {
   "cell_type": "code",
   "execution_count": 37,
   "id": "1e7af047",
   "metadata": {},
   "outputs": [],
   "source": [
    "df['embeddings_mean'] = df['embeddings_'].apply(np.mean)\n",
    "df['embeddings_mid'] = df['embeddings_'].apply(np.median)\n",
    "df['embeddings_std'] = df['embeddings_'].apply(np.std)"
   ]
  },
  {
   "cell_type": "code",
   "execution_count": 38,
   "id": "7de74888",
   "metadata": {},
   "outputs": [],
   "source": [
    "train_reddit, test_reddit = train_test_split(\n",
    "    reddit_data, \n",
    "    train_size=10000-int(345*0.6),\n",
    "    random_state=9\n",
    ")"
   ]
  },
  {
   "cell_type": "code",
   "execution_count": 39,
   "id": "e7d70e4b",
   "metadata": {},
   "outputs": [],
   "source": [
    "train_movies, test_movies = train_test_split(\n",
    "    df,\n",
    "    train_size=0.6,\n",
    "    random_state=9\n",
    ")"
   ]
  },
  {
   "cell_type": "code",
   "execution_count": 40,
   "id": "9fe0d101",
   "metadata": {},
   "outputs": [],
   "source": [
    "train = pd.concat([train_reddit, train_movies], ignore_index=True)\n",
    "test = pd.concat([test_reddit, test_movies], ignore_index=True)"
   ]
  },
  {
   "cell_type": "code",
   "execution_count": 41,
   "id": "9c9fe100",
   "metadata": {},
   "outputs": [
    {
     "data": {
      "text/html": [
       "<div>\n",
       "<style scoped>\n",
       "    .dataframe tbody tr th:only-of-type {\n",
       "        vertical-align: middle;\n",
       "    }\n",
       "\n",
       "    .dataframe tbody tr th {\n",
       "        vertical-align: top;\n",
       "    }\n",
       "\n",
       "    .dataframe thead th {\n",
       "        text-align: right;\n",
       "    }\n",
       "</style>\n",
       "<table border=\"1\" class=\"dataframe\">\n",
       "  <thead>\n",
       "    <tr style=\"text-align: right;\">\n",
       "      <th></th>\n",
       "      <th></th>\n",
       "      <th>lemma</th>\n",
       "      <th>comment</th>\n",
       "      <th>comment_words</th>\n",
       "      <th>embeddings</th>\n",
       "      <th>embeddings_</th>\n",
       "      <th>embeddings_mean</th>\n",
       "      <th>embeddings_mid</th>\n",
       "      <th>embeddings_std</th>\n",
       "      <th>index</th>\n",
       "      <th>message_len</th>\n",
       "    </tr>\n",
       "    <tr>\n",
       "      <th>source</th>\n",
       "      <th>label</th>\n",
       "      <th></th>\n",
       "      <th></th>\n",
       "      <th></th>\n",
       "      <th></th>\n",
       "      <th></th>\n",
       "      <th></th>\n",
       "      <th></th>\n",
       "      <th></th>\n",
       "      <th></th>\n",
       "      <th></th>\n",
       "    </tr>\n",
       "  </thead>\n",
       "  <tbody>\n",
       "    <tr>\n",
       "      <th rowspan=\"2\" valign=\"top\">movies</th>\n",
       "      <th>0</th>\n",
       "      <td>199</td>\n",
       "      <td>199</td>\n",
       "      <td>199</td>\n",
       "      <td>199</td>\n",
       "      <td>199</td>\n",
       "      <td>199</td>\n",
       "      <td>199</td>\n",
       "      <td>199</td>\n",
       "      <td>199</td>\n",
       "      <td>199</td>\n",
       "    </tr>\n",
       "    <tr>\n",
       "      <th>1</th>\n",
       "      <td>215</td>\n",
       "      <td>215</td>\n",
       "      <td>215</td>\n",
       "      <td>215</td>\n",
       "      <td>215</td>\n",
       "      <td>215</td>\n",
       "      <td>215</td>\n",
       "      <td>215</td>\n",
       "      <td>215</td>\n",
       "      <td>215</td>\n",
       "    </tr>\n",
       "    <tr>\n",
       "      <th rowspan=\"2\" valign=\"top\">reddit</th>\n",
       "      <th>0</th>\n",
       "      <td>4930</td>\n",
       "      <td>4930</td>\n",
       "      <td>4930</td>\n",
       "      <td>4930</td>\n",
       "      <td>4930</td>\n",
       "      <td>4930</td>\n",
       "      <td>4930</td>\n",
       "      <td>4930</td>\n",
       "      <td>0</td>\n",
       "      <td>0</td>\n",
       "    </tr>\n",
       "    <tr>\n",
       "      <th>1</th>\n",
       "      <td>4863</td>\n",
       "      <td>4863</td>\n",
       "      <td>4863</td>\n",
       "      <td>4863</td>\n",
       "      <td>4863</td>\n",
       "      <td>4863</td>\n",
       "      <td>4863</td>\n",
       "      <td>4863</td>\n",
       "      <td>0</td>\n",
       "      <td>0</td>\n",
       "    </tr>\n",
       "  </tbody>\n",
       "</table>\n",
       "</div>"
      ],
      "text/plain": [
       "              lemma  comment  comment_words  embeddings  embeddings_  \\\n",
       "source label                                                           \n",
       "movies 0        199      199            199         199          199   \n",
       "       1        215      215            215         215          215   \n",
       "reddit 0       4930     4930           4930        4930         4930   \n",
       "       1       4863     4863           4863        4863         4863   \n",
       "\n",
       "              embeddings_mean  embeddings_mid  embeddings_std  index  \\\n",
       "source label                                                           \n",
       "movies 0                  199             199             199    199   \n",
       "       1                  215             215             215    215   \n",
       "reddit 0                 4930            4930            4930      0   \n",
       "       1                 4863            4863            4863      0   \n",
       "\n",
       "              message_len  \n",
       "source label               \n",
       "movies 0              199  \n",
       "       1              215  \n",
       "reddit 0                0  \n",
       "       1                0  "
      ]
     },
     "execution_count": 41,
     "metadata": {},
     "output_type": "execute_result"
    }
   ],
   "source": [
    "train.groupby(['source', 'label']).count()"
   ]
  },
  {
   "cell_type": "code",
   "execution_count": 42,
   "id": "997ffd15",
   "metadata": {},
   "outputs": [
    {
     "data": {
      "text/html": [
       "<div>\n",
       "<style scoped>\n",
       "    .dataframe tbody tr th:only-of-type {\n",
       "        vertical-align: middle;\n",
       "    }\n",
       "\n",
       "    .dataframe tbody tr th {\n",
       "        vertical-align: top;\n",
       "    }\n",
       "\n",
       "    .dataframe thead th {\n",
       "        text-align: right;\n",
       "    }\n",
       "</style>\n",
       "<table border=\"1\" class=\"dataframe\">\n",
       "  <thead>\n",
       "    <tr style=\"text-align: right;\">\n",
       "      <th></th>\n",
       "      <th></th>\n",
       "      <th>lemma</th>\n",
       "      <th>comment</th>\n",
       "      <th>comment_words</th>\n",
       "      <th>embeddings</th>\n",
       "      <th>embeddings_</th>\n",
       "      <th>embeddings_mean</th>\n",
       "      <th>embeddings_mid</th>\n",
       "      <th>embeddings_std</th>\n",
       "      <th>index</th>\n",
       "      <th>message_len</th>\n",
       "    </tr>\n",
       "    <tr>\n",
       "      <th>source</th>\n",
       "      <th>label</th>\n",
       "      <th></th>\n",
       "      <th></th>\n",
       "      <th></th>\n",
       "      <th></th>\n",
       "      <th></th>\n",
       "      <th></th>\n",
       "      <th></th>\n",
       "      <th></th>\n",
       "      <th></th>\n",
       "      <th></th>\n",
       "    </tr>\n",
       "  </thead>\n",
       "  <tbody>\n",
       "    <tr>\n",
       "      <th rowspan=\"2\" valign=\"top\">movies</th>\n",
       "      <th>0</th>\n",
       "      <td>146</td>\n",
       "      <td>146</td>\n",
       "      <td>146</td>\n",
       "      <td>146</td>\n",
       "      <td>146</td>\n",
       "      <td>146</td>\n",
       "      <td>146</td>\n",
       "      <td>146</td>\n",
       "      <td>146</td>\n",
       "      <td>146</td>\n",
       "    </tr>\n",
       "    <tr>\n",
       "      <th>1</th>\n",
       "      <td>130</td>\n",
       "      <td>130</td>\n",
       "      <td>130</td>\n",
       "      <td>130</td>\n",
       "      <td>130</td>\n",
       "      <td>130</td>\n",
       "      <td>130</td>\n",
       "      <td>130</td>\n",
       "      <td>130</td>\n",
       "      <td>130</td>\n",
       "    </tr>\n",
       "    <tr>\n",
       "      <th rowspan=\"2\" valign=\"top\">reddit</th>\n",
       "      <th>0</th>\n",
       "      <td>500483</td>\n",
       "      <td>500483</td>\n",
       "      <td>500483</td>\n",
       "      <td>500483</td>\n",
       "      <td>500483</td>\n",
       "      <td>500483</td>\n",
       "      <td>500483</td>\n",
       "      <td>500483</td>\n",
       "      <td>0</td>\n",
       "      <td>0</td>\n",
       "    </tr>\n",
       "    <tr>\n",
       "      <th>1</th>\n",
       "      <td>500550</td>\n",
       "      <td>500550</td>\n",
       "      <td>500550</td>\n",
       "      <td>500550</td>\n",
       "      <td>500550</td>\n",
       "      <td>500550</td>\n",
       "      <td>500550</td>\n",
       "      <td>500550</td>\n",
       "      <td>0</td>\n",
       "      <td>0</td>\n",
       "    </tr>\n",
       "  </tbody>\n",
       "</table>\n",
       "</div>"
      ],
      "text/plain": [
       "               lemma  comment  comment_words  embeddings  embeddings_  \\\n",
       "source label                                                            \n",
       "movies 0         146      146            146         146          146   \n",
       "       1         130      130            130         130          130   \n",
       "reddit 0      500483   500483         500483      500483       500483   \n",
       "       1      500550   500550         500550      500550       500550   \n",
       "\n",
       "              embeddings_mean  embeddings_mid  embeddings_std  index  \\\n",
       "source label                                                           \n",
       "movies 0                  146             146             146    146   \n",
       "       1                  130             130             130    130   \n",
       "reddit 0               500483          500483          500483      0   \n",
       "       1               500550          500550          500550      0   \n",
       "\n",
       "              message_len  \n",
       "source label               \n",
       "movies 0              146  \n",
       "       1              130  \n",
       "reddit 0                0  \n",
       "       1                0  "
      ]
     },
     "execution_count": 42,
     "metadata": {},
     "output_type": "execute_result"
    }
   ],
   "source": [
    "test.groupby(['source', 'label']).count()"
   ]
  },
  {
   "cell_type": "markdown",
   "id": "8f26b141",
   "metadata": {},
   "source": [
    "**Sarcasm Prediction using Lemmatized text after removing stopwords**"
   ]
  },
  {
   "cell_type": "code",
   "execution_count": 43,
   "id": "8f5690bf",
   "metadata": {},
   "outputs": [],
   "source": [
    "# Split data into train-test chunks\n",
    "Xtrain = train[['lemma']]\n",
    "Xtest = test[['lemma']]\n",
    "ytrain = train[['label']]\n",
    "ytest = test[['label']]"
   ]
  },
  {
   "cell_type": "code",
   "execution_count": 44,
   "id": "af95d5b7",
   "metadata": {},
   "outputs": [],
   "source": [
    "# Column transformer to create unigram bag of words in pipeline\n",
    "transformer_bagging = ColumnTransformer(\n",
    "    [('transformer_bagging', CountVectorizer(ngram_range=(1, 2)), 'lemma')], \n",
    "    remainder='passthrough'\n",
    ")"
   ]
  },
  {
   "cell_type": "code",
   "execution_count": 45,
   "id": "e71609a0",
   "metadata": {},
   "outputs": [],
   "source": [
    "# Pipeline to create bag of words, test scalling the data, then test various models\n",
    "pipe = Pipeline([\n",
    "    ('transform', transformer_bagging),\n",
    "    ('preprocess', None),\n",
    "    ('model', LogisticRegression())\n",
    "])"
   ]
  },
  {
   "cell_type": "code",
   "execution_count": 46,
   "id": "487262d3",
   "metadata": {},
   "outputs": [],
   "source": [
    "# Set grid search parameters\n",
    "hyperparams = {\n",
    "    #'preprocess': [StandardScaler(with_mean=False), MaxAbsScaler(), Normalizer(copy=False), None],\n",
    "    'model': [LogisticRegression(), MLPClassifier(max_iter=1000)]\n",
    "    # [LinearSVC(), LogisticRegression(), DecisionTreeClassifier(), RandomForestClassifier(), \n",
    "    #          GradientBoostingClassifier(), GaussianNB(), MLPClassifier()],\n",
    "    #'transform__transformer_bagging__ngram_range': [(1, 1), (1, 2), (1, 3)]\n",
    "}"
   ]
  },
  {
   "cell_type": "code",
   "execution_count": 47,
   "id": "be3f5826",
   "metadata": {},
   "outputs": [],
   "source": [
    "# Configure pipeline for grid search\n",
    "grid = GridSearchCV(\n",
    "    estimator=pipe,\n",
    "    param_grid=hyperparams,\n",
    "    scoring='roc_auc',\n",
    "    n_jobs=-1,\n",
    "    cv=2\n",
    ")"
   ]
  },
  {
   "cell_type": "code",
   "execution_count": 48,
   "id": "37dc6199",
   "metadata": {},
   "outputs": [
    {
     "name": "stderr",
     "output_type": "stream",
     "text": [
      "/Users/doski/miniconda3/envs/getinno-env/lib/python3.9/site-packages/sklearn/utils/validation.py:993: DataConversionWarning: A column-vector y was passed when a 1d array was expected. Please change the shape of y to (n_samples, ), for example using ravel().\n",
      "  y = column_or_1d(y, warn=True)\n"
     ]
    }
   ],
   "source": [
    "# Train a pipeline using the grid search settings to predict sarcasm\n",
    "cv = grid.fit(Xtrain, ytrain)"
   ]
  },
  {
   "cell_type": "code",
   "execution_count": 49,
   "id": "6cd0fd0f",
   "metadata": {},
   "outputs": [
    {
     "data": {
      "text/plain": [
       "Pipeline(steps=[('transform',\n",
       "                 ColumnTransformer(remainder='passthrough',\n",
       "                                   transformers=[('transformer_bagging',\n",
       "                                                  CountVectorizer(ngram_range=(1,\n",
       "                                                                               2)),\n",
       "                                                  'lemma')])),\n",
       "                ('preprocess', None), ('model', LogisticRegression())])"
      ]
     },
     "execution_count": 49,
     "metadata": {},
     "output_type": "execute_result"
    }
   ],
   "source": [
    "cv.best_estimator_"
   ]
  },
  {
   "cell_type": "code",
   "execution_count": 50,
   "id": "afa32833",
   "metadata": {},
   "outputs": [
    {
     "data": {
      "text/plain": [
       "0.6467657884446474"
      ]
     },
     "execution_count": 50,
     "metadata": {},
     "output_type": "execute_result"
    }
   ],
   "source": [
    "cv.best_score_"
   ]
  },
  {
   "cell_type": "code",
   "execution_count": 51,
   "id": "8565bde3",
   "metadata": {},
   "outputs": [],
   "source": [
    "# Evaluate best model on test data\n",
    "pred = cv.best_estimator_.predict(Xtest)"
   ]
  },
  {
   "cell_type": "code",
   "execution_count": 52,
   "id": "26ac99a6",
   "metadata": {},
   "outputs": [
    {
     "name": "stdout",
     "output_type": "stream",
     "text": [
      "              precision    recall  f1-score   support\n",
      "\n",
      "           0       0.61      0.69      0.65    500629\n",
      "           1       0.64      0.55      0.59    500680\n",
      "\n",
      "    accuracy                           0.62   1001309\n",
      "   macro avg       0.62      0.62      0.62   1001309\n",
      "weighted avg       0.62      0.62      0.62   1001309\n",
      "\n"
     ]
    }
   ],
   "source": [
    "# View the classification report\n",
    "print(classification_report(ytest, pred))"
   ]
  },
  {
   "cell_type": "code",
   "execution_count": 53,
   "id": "a0efb745",
   "metadata": {
    "scrolled": true
   },
   "outputs": [
    {
     "data": {
      "image/png": "[encoded data removed]",
      "text/plain": [
       "<Figure size 432x288 with 1 Axes>"
      ]
     },
     "metadata": {
      "needs_background": "light"
     },
     "output_type": "display_data"
    }
   ],
   "source": [
    "# Plot the confusion matrix\n",
    "ax = sns.heatmap(\n",
    "    confusion_matrix(ytest, pred), \n",
    "    annot=True, \n",
    "    cbar=False, \n",
    "    fmt='d'\n",
    ")"
   ]
  },
  {
   "cell_type": "code",
   "execution_count": 54,
   "id": "fa23a857",
   "metadata": {},
   "outputs": [
    {
     "data": {
      "image/png": "[encoded data removed]",
      "text/plain": [
       "<Figure size 432x288 with 1 Axes>"
      ]
     },
     "metadata": {
      "needs_background": "light"
     },
     "output_type": "display_data"
    }
   ],
   "source": [
    "# Plot ROC and get the AUC value\n",
    "ax = RocCurveDisplay.from_estimator(\n",
    "    cv.best_estimator_,\n",
    "    Xtest,\n",
    "    ytest,\n",
    "    name='sarcasm'\n",
    ")\n",
    "plt.plot([0, 1], [0, 1], 'k--', label='chance level (AUC = 0.5)')\n",
    "plt.axis('square')\n",
    "plt.xlabel('False Positive Rate')\n",
    "plt.ylabel('True Positive Rate')\n",
    "plt.legend()\n",
    "plt.show()"
   ]
  },
  {
   "cell_type": "markdown",
   "id": "18d4edf6",
   "metadata": {},
   "source": [
    "**Sarcasm Prediction using raw text**"
   ]
  },
  {
   "cell_type": "code",
   "execution_count": 55,
   "id": "14e35971",
   "metadata": {},
   "outputs": [],
   "source": [
    "# Split data into train-test chunks\n",
    "Xtrain = train[['comment']]\n",
    "Xtest = test[['comment']]\n",
    "ytrain = train[['label']]\n",
    "ytest = test[['label']]"
   ]
  },
  {
   "cell_type": "code",
   "execution_count": 56,
   "id": "258d9b1b",
   "metadata": {},
   "outputs": [],
   "source": [
    "# Column transformer to create unigram bag of words in pipeline\n",
    "transformer_bagging = ColumnTransformer(\n",
    "    [('transformer_bagging', CountVectorizer(ngram_range=(1, 1)), 'comment')], \n",
    "    remainder='passthrough'\n",
    ")"
   ]
  },
  {
   "cell_type": "code",
   "execution_count": 57,
   "id": "0319fa55",
   "metadata": {},
   "outputs": [],
   "source": [
    "# Pipeline to create bag of words, test scalling the data, then test various models\n",
    "pipe = Pipeline([\n",
    "    ('transform', transformer_bagging),\n",
    "    ('preprocess', None),\n",
    "    ('model', LogisticRegression())\n",
    "])"
   ]
  },
  {
   "cell_type": "code",
   "execution_count": 58,
   "id": "b1b35177",
   "metadata": {},
   "outputs": [],
   "source": [
    "# Set grid search parameters\n",
    "hyperparams = {\n",
    "    #'preprocess': [StandardScaler(with_mean=False), MaxAbsScaler(), Normalizer(copy=False), None],\n",
    "    'model': [LogisticRegression(), MLPClassifier(max_iter=1000)]\n",
    "    # [LinearSVC(), LogisticRegression(), DecisionTreeClassifier(), RandomForestClassifier(), \n",
    "    #          GradientBoostingClassifier(), GaussianNB(), MLPClassifier()],\n",
    "    #'transform__transformer_bagging__ngram_range': [(1, 1), (1, 2), (1, 3)]\n",
    "}"
   ]
  },
  {
   "cell_type": "code",
   "execution_count": 59,
   "id": "a2627c70",
   "metadata": {},
   "outputs": [],
   "source": [
    "# Configure pipeline for grid search\n",
    "grid = GridSearchCV(\n",
    "    estimator=pipe,\n",
    "    param_grid=hyperparams,\n",
    "    scoring='roc_auc',\n",
    "    n_jobs=-1,\n",
    "    cv=2\n",
    ")"
   ]
  },
  {
   "cell_type": "code",
   "execution_count": 60,
   "id": "e8a5abb6",
   "metadata": {},
   "outputs": [
    {
     "name": "stderr",
     "output_type": "stream",
     "text": [
      "/Users/doski/miniconda3/envs/getinno-env/lib/python3.9/site-packages/sklearn/utils/validation.py:993: DataConversionWarning: A column-vector y was passed when a 1d array was expected. Please change the shape of y to (n_samples, ), for example using ravel().\n",
      "  y = column_or_1d(y, warn=True)\n",
      "/Users/doski/miniconda3/envs/getinno-env/lib/python3.9/site-packages/sklearn/linear_model/_logistic.py:814: ConvergenceWarning: lbfgs failed to converge (status=1):\n",
      "STOP: TOTAL NO. of ITERATIONS REACHED LIMIT.\n",
      "\n",
      "Increase the number of iterations (max_iter) or scale the data as shown in:\n",
      "    https://scikit-learn.org/stable/modules/preprocessing.html\n",
      "Please also refer to the documentation for alternative solver options:\n",
      "    https://scikit-learn.org/stable/modules/linear_model.html#logistic-regression\n",
      "  n_iter_i = _check_optimize_result(\n"
     ]
    }
   ],
   "source": [
    "# Train a pipeline using the grid search settings to predict sarcasm\n",
    "cv = grid.fit(Xtrain, ytrain)"
   ]
  },
  {
   "cell_type": "code",
   "execution_count": 61,
   "id": "30c6331a",
   "metadata": {},
   "outputs": [
    {
     "data": {
      "text/plain": [
       "Pipeline(steps=[('transform',\n",
       "                 ColumnTransformer(remainder='passthrough',\n",
       "                                   transformers=[('transformer_bagging',\n",
       "                                                  CountVectorizer(),\n",
       "                                                  'comment')])),\n",
       "                ('preprocess', None), ('model', LogisticRegression())])"
      ]
     },
     "execution_count": 61,
     "metadata": {},
     "output_type": "execute_result"
    }
   ],
   "source": [
    "cv.best_estimator_"
   ]
  },
  {
   "cell_type": "code",
   "execution_count": 62,
   "id": "e2d8ca43",
   "metadata": {},
   "outputs": [
    {
     "data": {
      "text/plain": [
       "0.6674022917387563"
      ]
     },
     "execution_count": 62,
     "metadata": {},
     "output_type": "execute_result"
    }
   ],
   "source": [
    "cv.best_score_"
   ]
  },
  {
   "cell_type": "code",
   "execution_count": 63,
   "id": "76b5facf",
   "metadata": {},
   "outputs": [],
   "source": [
    "# Evaluate best model on test data\n",
    "pred = cv.best_estimator_.predict(Xtest)"
   ]
  },
  {
   "cell_type": "code",
   "execution_count": 64,
   "id": "5bb7abe3",
   "metadata": {},
   "outputs": [
    {
     "name": "stdout",
     "output_type": "stream",
     "text": [
      "              precision    recall  f1-score   support\n",
      "\n",
      "           0       0.63      0.68      0.65    500629\n",
      "           1       0.65      0.60      0.62    500680\n",
      "\n",
      "    accuracy                           0.64   1001309\n",
      "   macro avg       0.64      0.64      0.64   1001309\n",
      "weighted avg       0.64      0.64      0.64   1001309\n",
      "\n"
     ]
    }
   ],
   "source": [
    "# View the classification report\n",
    "print(classification_report(ytest, pred))"
   ]
  },
  {
   "cell_type": "code",
   "execution_count": 65,
   "id": "2357fedc",
   "metadata": {
    "scrolled": true
   },
   "outputs": [
    {
     "data": {
      "image/png": "[encoded data removed]",
      "text/plain": [
       "<Figure size 432x288 with 1 Axes>"
      ]
     },
     "metadata": {
      "needs_background": "light"
     },
     "output_type": "display_data"
    }
   ],
   "source": [
    "# Plot the confusion matrix\n",
    "ax = sns.heatmap(\n",
    "    confusion_matrix(ytest, pred), \n",
    "    annot=True, \n",
    "    cbar=False, \n",
    "    fmt='d'\n",
    ")"
   ]
  },
  {
   "cell_type": "code",
   "execution_count": 66,
   "id": "c24e9f2b",
   "metadata": {},
   "outputs": [
    {
     "data": {
      "image/png": "[encoded data removed]",
      "text/plain": [
       "<Figure size 432x288 with 1 Axes>"
      ]
     },
     "metadata": {
      "needs_background": "light"
     },
     "output_type": "display_data"
    }
   ],
   "source": [
    "# Plot ROC and get the AUC value\n",
    "ax = RocCurveDisplay.from_estimator(\n",
    "    cv.best_estimator_,\n",
    "    Xtest,\n",
    "    ytest,\n",
    "    name='sarcasm'\n",
    ")\n",
    "plt.plot([0, 1], [0, 1], 'k--', label='chance level (AUC = 0.5)')\n",
    "plt.axis('square')\n",
    "plt.xlabel('False Positive Rate')\n",
    "plt.ylabel('True Positive Rate')\n",
    "plt.legend()\n",
    "plt.show()"
   ]
  },
  {
   "cell_type": "markdown",
   "id": "cd24322e",
   "metadata": {},
   "source": [
    "**Sarcasm Prediction using word embeddings on raw text**"
   ]
  },
  {
   "cell_type": "code",
   "execution_count": 67,
   "id": "0b1112d9",
   "metadata": {},
   "outputs": [],
   "source": [
    "# Split data into train-test chunks\n",
    "Xtrain = train[['embeddings_mean', 'embeddings_mid', 'embeddings_std']]\n",
    "Xtest = test[['embeddings_mean', 'embeddings_mid', 'embeddings_std']]\n",
    "ytrain = train[['label']]\n",
    "ytest = test[['label']]"
   ]
  },
  {
   "cell_type": "code",
   "execution_count": 68,
   "id": "a8202b91",
   "metadata": {},
   "outputs": [],
   "source": [
    "# Pipeline to create bag of words, test scalling the data, then test various models\n",
    "pipe = Pipeline([\n",
    "    ('preprocess', None),\n",
    "    ('model', LogisticRegression())\n",
    "])"
   ]
  },
  {
   "cell_type": "code",
   "execution_count": 69,
   "id": "4d9fb829",
   "metadata": {},
   "outputs": [],
   "source": [
    "# Set grid search parameters\n",
    "hyperparams = {\n",
    "    'preprocess': [StandardScaler(with_mean=False), MaxAbsScaler(), Normalizer(copy=False), None],\n",
    "    'model': [LinearSVC(), LogisticRegression(), DecisionTreeClassifier(), RandomForestClassifier(), \n",
    "             GradientBoostingClassifier(), GaussianNB(), MLPClassifier()]\n",
    "}"
   ]
  },
  {
   "cell_type": "code",
   "execution_count": 70,
   "id": "904be4a1",
   "metadata": {},
   "outputs": [],
   "source": [
    "# Configure pipeline for grid search\n",
    "grid = GridSearchCV(\n",
    "    estimator=pipe,\n",
    "    param_grid=hyperparams,\n",
    "    scoring='roc_auc',\n",
    "    n_jobs=-1,\n",
    "    cv=2\n",
    ")"
   ]
  },
  {
   "cell_type": "code",
   "execution_count": 71,
   "id": "ab0095f5",
   "metadata": {},
   "outputs": [
    {
     "name": "stderr",
     "output_type": "stream",
     "text": [
      "/Users/doski/miniconda3/envs/getinno-env/lib/python3.9/site-packages/sklearn/neural_network/_multilayer_perceptron.py:1109: DataConversionWarning: A column-vector y was passed when a 1d array was expected. Please change the shape of y to (n_samples, ), for example using ravel().\n",
      "  y = column_or_1d(y, warn=True)\n"
     ]
    }
   ],
   "source": [
    "# Train a pipeline using the grid search settings to predict sarcasm\n",
    "cv = grid.fit(Xtrain, ytrain)"
   ]
  },
  {
   "cell_type": "code",
   "execution_count": 72,
   "id": "48f13a8c",
   "metadata": {},
   "outputs": [
    {
     "data": {
      "text/plain": [
       "Pipeline(steps=[('preprocess', StandardScaler(with_mean=False)),\n",
       "                ('model', MLPClassifier())])"
      ]
     },
     "execution_count": 72,
     "metadata": {},
     "output_type": "execute_result"
    }
   ],
   "source": [
    "cv.best_estimator_"
   ]
  },
  {
   "cell_type": "code",
   "execution_count": 73,
   "id": "bd4216f0",
   "metadata": {},
   "outputs": [
    {
     "data": {
      "text/plain": [
       "0.5523101135875391"
      ]
     },
     "execution_count": 73,
     "metadata": {},
     "output_type": "execute_result"
    }
   ],
   "source": [
    "cv.best_score_"
   ]
  },
  {
   "cell_type": "code",
   "execution_count": 74,
   "id": "6e30c73b",
   "metadata": {},
   "outputs": [],
   "source": [
    "# Evaluate best model on test data\n",
    "pred = cv.best_estimator_.predict(Xtest)"
   ]
  },
  {
   "cell_type": "code",
   "execution_count": 75,
   "id": "df0ae389",
   "metadata": {},
   "outputs": [
    {
     "name": "stdout",
     "output_type": "stream",
     "text": [
      "              precision    recall  f1-score   support\n",
      "\n",
      "           0       0.56      0.30      0.39    500629\n",
      "           1       0.52      0.76      0.62    500680\n",
      "\n",
      "    accuracy                           0.53   1001309\n",
      "   macro avg       0.54      0.53      0.51   1001309\n",
      "weighted avg       0.54      0.53      0.51   1001309\n",
      "\n"
     ]
    }
   ],
   "source": [
    "# View the classification report\n",
    "print(classification_report(ytest, pred))"
   ]
  },
  {
   "cell_type": "code",
   "execution_count": 76,
   "id": "50505806",
   "metadata": {
    "scrolled": true
   },
   "outputs": [
    {
     "data": {
      "image/png": "[encoded data removed]",
      "text/plain": [
       "<Figure size 432x288 with 1 Axes>"
      ]
     },
     "metadata": {
      "needs_background": "light"
     },
     "output_type": "display_data"
    }
   ],
   "source": [
    "# Plot the confusion matrix\n",
    "ax = sns.heatmap(\n",
    "    confusion_matrix(ytest, pred), \n",
    "    annot=True, \n",
    "    cbar=False, \n",
    "    fmt='d'\n",
    ")"
   ]
  },
  {
   "cell_type": "code",
   "execution_count": 77,
   "id": "2cf3b569",
   "metadata": {},
   "outputs": [
    {
     "data": {
      "image/png": "[encoded data removed]",
      "text/plain": [
       "<Figure size 432x288 with 1 Axes>"
      ]
     },
     "metadata": {
      "needs_background": "light"
     },
     "output_type": "display_data"
    }
   ],
   "source": [
    "# Plot ROC and get the AUC value\n",
    "ax = RocCurveDisplay.from_estimator(\n",
    "    cv.best_estimator_,\n",
    "    Xtest,\n",
    "    ytest,\n",
    "    name='sarcasm'\n",
    ")\n",
    "plt.plot([0, 1], [0, 1], 'k--', label='chance level (AUC = 0.5)')\n",
    "plt.axis('square')\n",
    "plt.xlabel('False Positive Rate')\n",
    "plt.ylabel('True Positive Rate')\n",
    "plt.legend()\n",
    "plt.show()"
   ]
  },
  {
   "cell_type": "markdown",
   "id": "305b937a",
   "metadata": {},
   "source": [
    "**Sarcasm Prediction using Dense Neural Networks on bag of words**"
   ]
  },
  {
   "cell_type": "code",
   "execution_count": 78,
   "id": "cf2cbde9",
   "metadata": {},
   "outputs": [],
   "source": [
    "# Split data into train-test chunks\n",
    "_, __ = train_test_split(test, test_size=2000)\n",
    "Xtrain = train[['lemma']]\n",
    "Xtest = __[['lemma']]\n",
    "ytrain = train[['label']]\n",
    "ytest = __[['label']]"
   ]
  },
  {
   "cell_type": "code",
   "execution_count": 79,
   "id": "12166919",
   "metadata": {},
   "outputs": [],
   "source": [
    "# Column transformer to create unigram bag of words in pipeline\n",
    "transformer_bagging = ColumnTransformer(\n",
    "    [('transformer_bagging', CountVectorizer(ngram_range=(1, 2)), 'lemma')], \n",
    "    remainder='passthrough',\n",
    "    sparse_threshold=0\n",
    ")"
   ]
  },
  {
   "cell_type": "code",
   "execution_count": 80,
   "id": "72cbbc65",
   "metadata": {},
   "outputs": [],
   "source": [
    "bagger = transformer_bagging.fit(Xtrain)"
   ]
  },
  {
   "cell_type": "code",
   "execution_count": 81,
   "id": "eb4577e9",
   "metadata": {},
   "outputs": [],
   "source": [
    "X_train = np.asarray(bagger.transform(Xtrain))\n",
    "y_train = ytrain.values"
   ]
  },
  {
   "cell_type": "code",
   "execution_count": 82,
   "id": "e9567c03",
   "metadata": {},
   "outputs": [],
   "source": [
    "X_test = np.asarray(bagger.transform(Xtest))\n",
    "y_test = ytest.values"
   ]
  },
  {
   "cell_type": "code",
   "execution_count": 83,
   "id": "0d83deea",
   "metadata": {},
   "outputs": [
    {
     "name": "stdout",
     "output_type": "stream",
     "text": [
      "Epoch 1/5\n",
      "1021/1021 [==============================] - 8s 7ms/step - loss: 0.6846 - auc: 0.6018 - accuracy: 0.5729\n",
      "Epoch 2/5\n",
      "1021/1021 [==============================] - 6s 6ms/step - loss: 0.5176 - auc: 0.8702 - accuracy: 0.7965\n",
      "Epoch 3/5\n",
      "1021/1021 [==============================] - 5s 5ms/step - loss: 0.2823 - auc: 0.9740 - accuracy: 0.9092\n",
      "Epoch 4/5\n",
      "1021/1021 [==============================] - 6s 6ms/step - loss: 0.1621 - auc: 0.9927 - accuracy: 0.9546\n",
      "Epoch 5/5\n",
      "1021/1021 [==============================] - 5s 5ms/step - loss: 0.1049 - auc: 0.9971 - accuracy: 0.9714\n"
     ]
    },
    {
     "data": {
      "text/plain": [
       "<keras.callbacks.History at 0x7f80a870adf0>"
      ]
     },
     "execution_count": 83,
     "metadata": {},
     "output_type": "execute_result"
    }
   ],
   "source": [
    "# Initializing the neural network\n",
    "model = Sequential()\n",
    "\n",
    "# hidden layer with 5 nodes using the relu activation function\n",
    "model.add(Dense(units=5, kernel_initializer='uniform', activation='relu'))\n",
    "\n",
    "# Output layer with 1 node using the sigmoid activation function\n",
    "model.add(Dense(units = 1, kernel_initializer = 'uniform', activation = 'sigmoid'))\n",
    "\n",
    "# Compile the neural network\n",
    "model.compile(optimizer = 'adam', loss = 'binary_crossentropy', metrics = [tensorflow.keras.metrics.AUC(), \n",
    "                                                                           'accuracy'])\n",
    "\n",
    "# Uncomment to train the model\n",
    "model.fit(X_train, ytrain, batch_size=10, epochs=5)"
   ]
  },
  {
   "cell_type": "code",
   "execution_count": 84,
   "id": "03dec3d3",
   "metadata": {},
   "outputs": [
    {
     "name": "stdout",
     "output_type": "stream",
     "text": [
      "63/63 [==============================] - 1s 10ms/step\n"
     ]
    }
   ],
   "source": [
    "# Use the model for predictions and convert probabilities above 0.5 to 1\n",
    "y_pred = model.predict(X_test)\n",
    "y_pred = y_pred > 0.5"
   ]
  },
  {
   "cell_type": "code",
   "execution_count": 85,
   "id": "af7a02d6",
   "metadata": {},
   "outputs": [
    {
     "name": "stdout",
     "output_type": "stream",
     "text": [
      "              precision    recall  f1-score   support\n",
      "\n",
      "           0       0.61      0.61      0.61      1006\n",
      "           1       0.61      0.61      0.61       994\n",
      "\n",
      "    accuracy                           0.61      2000\n",
      "   macro avg       0.61      0.61      0.61      2000\n",
      "weighted avg       0.61      0.61      0.61      2000\n",
      "\n"
     ]
    }
   ],
   "source": [
    "# View the classification report\n",
    "print(classification_report(y_test, y_pred))"
   ]
  },
  {
   "cell_type": "code",
   "execution_count": 86,
   "id": "6e2508b9",
   "metadata": {
    "scrolled": true
   },
   "outputs": [
    {
     "data": {
      "image/png": "[encoded data removed]",
      "text/plain": [
       "<Figure size 432x288 with 1 Axes>"
      ]
     },
     "metadata": {
      "needs_background": "light"
     },
     "output_type": "display_data"
    }
   ],
   "source": [
    "# Plot the confusion matrix\n",
    "ax = sns.heatmap(\n",
    "    confusion_matrix(y_test, y_pred), \n",
    "    annot=True, \n",
    "    cbar=False, \n",
    "    fmt='d'\n",
    ")"
   ]
  },
  {
   "cell_type": "markdown",
   "id": "bded1fe9",
   "metadata": {},
   "source": [
    "**Sarcasm Prediction using Dense Neural Networks on Word Embeddings**"
   ]
  },
  {
   "cell_type": "code",
   "execution_count": 87,
   "id": "bf0076a2",
   "metadata": {},
   "outputs": [],
   "source": [
    "# Split data into train-test chunks\n",
    "Xtrain = train[['embeddings_mean', 'embeddings_mid', 'embeddings_std']]\n",
    "Xtest = test[['embeddings_mean', 'embeddings_mid', 'embeddings_std']]\n",
    "ytrain = train[['label']]\n",
    "ytest = test[['label']]"
   ]
  },
  {
   "cell_type": "code",
   "execution_count": 88,
   "id": "efc7d738",
   "metadata": {},
   "outputs": [
    {
     "name": "stdout",
     "output_type": "stream",
     "text": [
      "Epoch 1/5\n",
      "1021/1021 [==============================] - 6s 5ms/step - loss: 0.6849 - auc_1: 0.6015 - accuracy: 0.5640\n",
      "Epoch 2/5\n",
      "1021/1021 [==============================] - 4s 4ms/step - loss: 0.5164 - auc_1: 0.8724 - accuracy: 0.7887\n",
      "Epoch 3/5\n",
      "1021/1021 [==============================] - 4s 4ms/step - loss: 0.2792 - auc_1: 0.9752 - accuracy: 0.9138\n",
      "Epoch 4/5\n",
      "1021/1021 [==============================] - 6s 6ms/step - loss: 0.1590 - auc_1: 0.9931 - accuracy: 0.9558\n",
      "Epoch 5/5\n",
      "1021/1021 [==============================] - 5s 5ms/step - loss: 0.1027 - auc_1: 0.9972 - accuracy: 0.9729\n"
     ]
    },
    {
     "data": {
      "text/plain": [
       "<keras.callbacks.History at 0x7f80aaa64400>"
      ]
     },
     "execution_count": 88,
     "metadata": {},
     "output_type": "execute_result"
    }
   ],
   "source": [
    "# Initializing the neural network\n",
    "model = Sequential()\n",
    "\n",
    "# Input layer with 9 nodes and a hidden layer with 5 nodes using the relu activation function\n",
    "model.add(Dense(units=5, kernel_initializer='uniform', activation='relu'))\n",
    "\n",
    "# Output layer with 1 node using the sigmoid activation function\n",
    "model.add(Dense(units = 1, kernel_initializer = 'uniform', activation = 'sigmoid'))\n",
    "\n",
    "# Compile the neural network\n",
    "model.compile(optimizer = 'adam', loss = 'binary_crossentropy', metrics = [tensorflow.keras.metrics.AUC(), \n",
    "                                                                           'accuracy'])\n",
    "\n",
    "# Uncomment to train the model\n",
    "model.fit(X_train, ytrain, batch_size=10, epochs=5)"
   ]
  },
  {
   "cell_type": "code",
   "execution_count": 89,
   "id": "78aa6ed5",
   "metadata": {},
   "outputs": [
    {
     "name": "stdout",
     "output_type": "stream",
     "text": [
      "63/63 [==============================] - 1s 13ms/step\n"
     ]
    }
   ],
   "source": [
    "# Use the model for predictions and convert probabilities above 0.5 to 1\n",
    "y_pred = model.predict(X_test)\n",
    "y_pred = y_pred > 0.5"
   ]
  },
  {
   "cell_type": "code",
   "execution_count": 90,
   "id": "275630ec",
   "metadata": {},
   "outputs": [
    {
     "name": "stdout",
     "output_type": "stream",
     "text": [
      "              precision    recall  f1-score   support\n",
      "\n",
      "           0       0.60      0.68      0.64      1006\n",
      "           1       0.62      0.54      0.58       994\n",
      "\n",
      "    accuracy                           0.61      2000\n",
      "   macro avg       0.61      0.61      0.61      2000\n",
      "weighted avg       0.61      0.61      0.61      2000\n",
      "\n"
     ]
    }
   ],
   "source": [
    "# View the classification report\n",
    "print(classification_report(y_test, y_pred))"
   ]
  },
  {
   "cell_type": "code",
   "execution_count": 91,
   "id": "90f85fdb",
   "metadata": {
    "scrolled": true
   },
   "outputs": [
    {
     "data": {
      "image/png": "[encoded data removed]",
      "text/plain": [
       "<Figure size 432x288 with 1 Axes>"
      ]
     },
     "metadata": {
      "needs_background": "light"
     },
     "output_type": "display_data"
    }
   ],
   "source": [
    "# Plot the confusion matrix\n",
    "ax = sns.heatmap(\n",
    "    confusion_matrix(y_test, y_pred), \n",
    "    annot=True, \n",
    "    cbar=False, \n",
    "    fmt='d'\n",
    ")"
   ]
  },
  {
   "cell_type": "markdown",
   "id": "1fa57ac9",
   "metadata": {},
   "source": [
    "**Sarcasm Prediction using LSTM Neural Networks on raw text**"
   ]
  },
  {
   "cell_type": "code",
   "execution_count": 92,
   "id": "22b0a2a5",
   "metadata": {},
   "outputs": [],
   "source": [
    "# Split data into train-test chunks\n",
    "Xtrain = train[['comment']]\n",
    "Xtest = test[['comment']]\n",
    "ytrain = train[['label']]\n",
    "ytest = test[['label']]"
   ]
  },
  {
   "cell_type": "code",
   "execution_count": 93,
   "id": "b30ebce7",
   "metadata": {},
   "outputs": [],
   "source": [
    "# Hyperparameters of the model\n",
    "vocab_size = 3000 # choose based on statistics\n",
    "oov_tok = ''\n",
    "embedding_dim = 100\n",
    "max_length = 200 # choose based on statistics, for example 150 to 200\n",
    "padding_type='post'\n",
    "trunc_type='post'"
   ]
  },
  {
   "cell_type": "code",
   "execution_count": 94,
   "id": "c0d3706c",
   "metadata": {},
   "outputs": [],
   "source": [
    "# tokenize sentences\n",
    "tokenizer = Tokenizer(num_words=vocab_size, oov_token=oov_tok)\n",
    "tokenizer.fit_on_texts(Xtrain['comment'].values)"
   ]
  },
  {
   "cell_type": "code",
   "execution_count": 95,
   "id": "fa146c92",
   "metadata": {},
   "outputs": [],
   "source": [
    "# convert train dataset to sequence and pad sequences\n",
    "Xtrain = tokenizer.texts_to_sequences(Xtrain['comment'].values)"
   ]
  },
  {
   "cell_type": "code",
   "execution_count": 96,
   "id": "df3f5b31",
   "metadata": {},
   "outputs": [],
   "source": [
    "Xtrain = pad_sequences(Xtrain, padding='post', truncating='post', maxlen=len(Xtrain[0]))"
   ]
  },
  {
   "cell_type": "code",
   "execution_count": 97,
   "id": "cf2ec3ca",
   "metadata": {},
   "outputs": [],
   "source": [
    "# convert Test dataset to sequence and pad sequences\n",
    "Xtest = tokenizer.texts_to_sequences(Xtest['comment'].values)\n",
    "Xtest = pad_sequences(Xtest, padding='post', truncating='post', maxlen=len(Xtrain[0]))"
   ]
  },
  {
   "cell_type": "code",
   "execution_count": 98,
   "id": "2b42180b",
   "metadata": {},
   "outputs": [],
   "source": [
    "# Build the model\n",
    "model = Sequential([\n",
    "    Embedding(vocab_size, embedding_dim, input_length=Xtrain.shape[1]),\n",
    "    Bidirectional(LSTM(196)),\n",
    "#     Dense(24, activation='relu'),\n",
    "    Dense(1, activation='sigmoid')\n",
    "])"
   ]
  },
  {
   "cell_type": "code",
   "execution_count": 99,
   "id": "3794860e",
   "metadata": {},
   "outputs": [],
   "source": [
    "model.compile(optimizer='adam', loss='binary_crossentropy', metrics=[tensorflow.keras.metrics.AUC(), 'accuracy'])"
   ]
  },
  {
   "cell_type": "code",
   "execution_count": 100,
   "id": "8159f957",
   "metadata": {},
   "outputs": [
    {
     "name": "stdout",
     "output_type": "stream",
     "text": [
      "Epoch 1/5\n",
      "1021/1021 [==============================] - 16s 13ms/step - loss: 0.6455 - auc_2: 0.6656 - accuracy: 0.6222\n",
      "Epoch 2/5\n",
      "1021/1021 [==============================] - 14s 13ms/step - loss: 0.5651 - auc_2: 0.7764 - accuracy: 0.7040\n",
      "Epoch 3/5\n",
      "1021/1021 [==============================] - 14s 14ms/step - loss: 0.4850 - auc_2: 0.8446 - accuracy: 0.7652\n",
      "Epoch 4/5\n",
      "1021/1021 [==============================] - 14s 14ms/step - loss: 0.4062 - auc_2: 0.8949 - accuracy: 0.8119\n",
      "Epoch 5/5\n",
      "1021/1021 [==============================] - 14s 14ms/step - loss: 0.3371 - auc_2: 0.9278 - accuracy: 0.8459\n"
     ]
    },
    {
     "data": {
      "text/plain": [
       "<keras.callbacks.History at 0x7f831be38790>"
      ]
     },
     "execution_count": 100,
     "metadata": {},
     "output_type": "execute_result"
    }
   ],
   "source": [
    "model.fit(Xtrain, ytrain, batch_size=10, epochs=5)"
   ]
  },
  {
   "cell_type": "code",
   "execution_count": 101,
   "id": "d98ee400",
   "metadata": {},
   "outputs": [
    {
     "name": "stdout",
     "output_type": "stream",
     "text": [
      "100131/100131 [==============================] - 321s 3ms/step - loss: 0.9903 - auc_2: 0.6516 - accuracy: 0.6123\n"
     ]
    },
    {
     "data": {
      "text/plain": [
       "[0.990349292755127, 0.6516327261924744, 0.6123354434967041]"
      ]
     },
     "execution_count": 101,
     "metadata": {},
     "output_type": "execute_result"
    }
   ],
   "source": [
    "model.evaluate(Xtest, ytest, batch_size=10)"
   ]
  },
  {
   "cell_type": "code",
   "execution_count": 102,
   "id": "c5cdeea7",
   "metadata": {},
   "outputs": [
    {
     "name": "stdout",
     "output_type": "stream",
     "text": [
      "31291/31291 [==============================] - 199s 6ms/step\n"
     ]
    }
   ],
   "source": [
    "# Use the model for predictions and convert probabilities above 0.5 to 1\n",
    "y_pred = model.predict(Xtest)\n",
    "y_pred = y_pred > 0.5"
   ]
  },
  {
   "cell_type": "code",
   "execution_count": 103,
   "id": "1308e374",
   "metadata": {},
   "outputs": [
    {
     "name": "stdout",
     "output_type": "stream",
     "text": [
      "              precision    recall  f1-score   support\n",
      "\n",
      "           0       0.62      0.57      0.60    500629\n",
      "           1       0.60      0.65      0.63    500680\n",
      "\n",
      "    accuracy                           0.61   1001309\n",
      "   macro avg       0.61      0.61      0.61   1001309\n",
      "weighted avg       0.61      0.61      0.61   1001309\n",
      "\n"
     ]
    }
   ],
   "source": [
    "# View the classification report\n",
    "print(classification_report(ytest, y_pred))"
   ]
  },
  {
   "cell_type": "code",
   "execution_count": 104,
   "id": "c6abf72f",
   "metadata": {
    "scrolled": true
   },
   "outputs": [
    {
     "data": {
      "image/png": "[encoded data removed]",
      "text/plain": [
       "<Figure size 432x288 with 1 Axes>"
      ]
     },
     "metadata": {
      "needs_background": "light"
     },
     "output_type": "display_data"
    }
   ],
   "source": [
    "# Plot the confusion matrix\n",
    "ax = sns.heatmap(\n",
    "    confusion_matrix(ytest, y_pred), \n",
    "    annot=True, \n",
    "    cbar=False, \n",
    "    fmt='d'\n",
    ")"
   ]
  },
  {
   "cell_type": "markdown",
   "id": "3f7f7b94",
   "metadata": {},
   "source": [
    "**Sarcasm Prediction using Cohere.ai on raw text**"
   ]
  },
  {
   "cell_type": "code",
   "execution_count": 105,
   "id": "3ac451bd",
   "metadata": {},
   "outputs": [],
   "source": [
    "cohere_keys = 'IbsZe1jhUFWOuE6UkjLvxvsQMTVTr7D5FJQIhcvj'"
   ]
  },
  {
   "cell_type": "code",
   "execution_count": 106,
   "id": "668de5b5",
   "metadata": {},
   "outputs": [],
   "source": [
    "import cohere\n",
    "from cohere.responses.classify import Example"
   ]
  },
  {
   "cell_type": "code",
   "execution_count": 107,
   "id": "70b40e82",
   "metadata": {},
   "outputs": [],
   "source": [
    "co = cohere.Client(cohere_keys)"
   ]
  },
  {
   "cell_type": "code",
   "execution_count": 108,
   "id": "ebf655c8",
   "metadata": {},
   "outputs": [],
   "source": [
    "co_train, co_test = train_test_split(pd.concat([train, test]), train_size=360, test_size=90, random_state=9)"
   ]
  },
  {
   "cell_type": "code",
   "execution_count": 109,
   "id": "2f81b4eb",
   "metadata": {},
   "outputs": [
    {
     "data": {
      "text/plain": [
       "((360, 12), (90, 12))"
      ]
     },
     "execution_count": 109,
     "metadata": {},
     "output_type": "execute_result"
    }
   ],
   "source": [
    "co_train.shape, co_test.shape"
   ]
  },
  {
   "cell_type": "code",
   "execution_count": 110,
   "id": "061498b3",
   "metadata": {},
   "outputs": [],
   "source": [
    "co_train.replace({'label': {1: 'sarcasm', 0: 'no sarcasm'}}, inplace=True)\n",
    "co_test.replace({'label': {1: 'sarcasm', 0: 'no sarcasm'}}, inplace=True)"
   ]
  },
  {
   "cell_type": "code",
   "execution_count": 111,
   "id": "133e7c09",
   "metadata": {},
   "outputs": [],
   "source": [
    "classifications = co.classify(\n",
    "  model='embed-english-v2.0',\n",
    "  inputs=[row for row in co_test.comment],\n",
    "  examples=[Example(row.comment, row.label) for index, row in co_train.iterrows()]\n",
    ")"
   ]
  },
  {
   "cell_type": "code",
   "execution_count": 112,
   "id": "76ff350f",
   "metadata": {},
   "outputs": [],
   "source": [
    "y_pred = [1 if result.prediction == 'sarcasm' else 0 for result in classifications.classifications]"
   ]
  },
  {
   "cell_type": "code",
   "execution_count": 113,
   "id": "4f4cb806",
   "metadata": {},
   "outputs": [],
   "source": [
    "co_train.replace({'label': {'sarcasm': 1, 'no sarcasm': 0}}, inplace=True)\n",
    "co_test.replace({'label': {'sarcasm': 1, 'no sarcasm': 0}}, inplace=True)"
   ]
  },
  {
   "cell_type": "code",
   "execution_count": 114,
   "id": "b6af3968",
   "metadata": {},
   "outputs": [
    {
     "name": "stdout",
     "output_type": "stream",
     "text": [
      "              precision    recall  f1-score   support\n",
      "\n",
      "           0       0.68      0.65      0.67        52\n",
      "           1       0.55      0.58      0.56        38\n",
      "\n",
      "    accuracy                           0.62        90\n",
      "   macro avg       0.61      0.62      0.62        90\n",
      "weighted avg       0.63      0.62      0.62        90\n",
      "\n"
     ]
    }
   ],
   "source": [
    "# View the classification report\n",
    "print(classification_report(co_test.label.values, y_pred))"
   ]
  },
  {
   "cell_type": "code",
   "execution_count": 115,
   "id": "d0fa35c0",
   "metadata": {
    "scrolled": true
   },
   "outputs": [
    {
     "data": {
      "image/png": "[encoded data removed]",
      "text/plain": [
       "<Figure size 432x288 with 1 Axes>"
      ]
     },
     "metadata": {
      "needs_background": "light"
     },
     "output_type": "display_data"
    }
   ],
   "source": [
    "# Plot the confusion matrix\n",
    "ax = sns.heatmap(\n",
    "    confusion_matrix(co_test.label.values, y_pred), \n",
    "    annot=True, \n",
    "    cbar=False, \n",
    "    fmt='d'\n",
    ")"
   ]
  },
  {
   "cell_type": "markdown",
   "id": "79f280d8",
   "metadata": {},
   "source": [
    "**Sarcasm prediction using embedding from the sentence-transformers library**"
   ]
  },
  {
   "cell_type": "code",
   "execution_count": 128,
   "id": "95150264",
   "metadata": {},
   "outputs": [],
   "source": [
    "model = SentenceTransformer('sentence-transformers/all-MiniLM-L6-v2')"
   ]
  },
  {
   "cell_type": "code",
   "execution_count": 129,
   "id": "d8e1b838",
   "metadata": {},
   "outputs": [],
   "source": [
    "# df['embeddings_st'] = df['comment'].apply(model.encode)"
   ]
  },
  {
   "cell_type": "code",
   "execution_count": 130,
   "id": "abbce12c",
   "metadata": {},
   "outputs": [],
   "source": [
    "# Split data into train-test chunks\n",
    "Xtrain = train[['comment']]\n",
    "Xtest = test[['comment']]\n",
    "ytrain = train[['label']]\n",
    "ytest = test[['label']]"
   ]
  },
  {
   "cell_type": "code",
   "execution_count": 131,
   "id": "c6471340",
   "metadata": {},
   "outputs": [
    {
     "name": "stderr",
     "output_type": "stream",
     "text": [
      "Batches: 100%|██████████| 319/319 [00:51<00:00,  6.23it/s]\n"
     ]
    }
   ],
   "source": [
    "res_train = model.encode(Xtrain['comment'].values, show_progress_bar=True)"
   ]
  },
  {
   "cell_type": "code",
   "execution_count": 132,
   "id": "9535e08a",
   "metadata": {},
   "outputs": [
    {
     "name": "stderr",
     "output_type": "stream",
     "text": [
      "Batches: 100%|██████████| 31291/31291 [1:05:19<00:00,  7.98it/s] \n"
     ]
    }
   ],
   "source": [
    "res_test = model.encode(Xtest['comment'].values, show_progress_bar=True)"
   ]
  },
  {
   "cell_type": "code",
   "execution_count": 133,
   "id": "23592179",
   "metadata": {},
   "outputs": [],
   "source": [
    "# Pipeline to create bag of words, test scalling the data, then test various models\n",
    "pipe = Pipeline([\n",
    "    ('preprocess', None),\n",
    "    ('model', LogisticRegression())\n",
    "])"
   ]
  },
  {
   "cell_type": "code",
   "execution_count": 134,
   "id": "656822c4",
   "metadata": {},
   "outputs": [],
   "source": [
    "# Set grid search parameters\n",
    "hyperparams = {\n",
    "    'preprocess': [StandardScaler(with_mean=False), MaxAbsScaler(), Normalizer(copy=False), None],\n",
    "    'model': [LinearSVC(), LogisticRegression(), DecisionTreeClassifier(), RandomForestClassifier(), \n",
    "             GradientBoostingClassifier(), GaussianNB(), MLPClassifier()]\n",
    "}"
   ]
  },
  {
   "cell_type": "code",
   "execution_count": 135,
   "id": "857063ea",
   "metadata": {},
   "outputs": [],
   "source": [
    "# Configure pipeline for grid search\n",
    "grid = GridSearchCV(\n",
    "    estimator=pipe,\n",
    "    param_grid=hyperparams,\n",
    "    scoring='roc_auc',\n",
    "    n_jobs=-1,\n",
    "    cv=2\n",
    ")"
   ]
  },
  {
   "cell_type": "code",
   "execution_count": 136,
   "id": "4c00e0d0",
   "metadata": {},
   "outputs": [
    {
     "name": "stderr",
     "output_type": "stream",
     "text": [
      "/Users/doski/miniconda3/envs/getinno-env/lib/python3.9/site-packages/sklearn/utils/validation.py:993: DataConversionWarning: A column-vector y was passed when a 1d array was expected. Please change the shape of y to (n_samples, ), for example using ravel().\n",
      "  y = column_or_1d(y, warn=True)\n"
     ]
    }
   ],
   "source": [
    "# Train a pipeline using the grid search settings to predict sarcasm\n",
    "cv = grid.fit(res_train, ytrain)"
   ]
  },
  {
   "cell_type": "code",
   "execution_count": 137,
   "id": "5165c5d7",
   "metadata": {},
   "outputs": [
    {
     "data": {
      "text/plain": [
       "Pipeline(steps=[('preprocess', None), ('model', LogisticRegression())])"
      ]
     },
     "execution_count": 137,
     "metadata": {},
     "output_type": "execute_result"
    }
   ],
   "source": [
    "cv.best_estimator_"
   ]
  },
  {
   "cell_type": "code",
   "execution_count": 138,
   "id": "393fe532",
   "metadata": {},
   "outputs": [
    {
     "data": {
      "text/plain": [
       "0.6891370230711701"
      ]
     },
     "execution_count": 138,
     "metadata": {},
     "output_type": "execute_result"
    }
   ],
   "source": [
    "cv.best_score_"
   ]
  },
  {
   "cell_type": "code",
   "execution_count": 139,
   "id": "5ccc03b8",
   "metadata": {},
   "outputs": [],
   "source": [
    "# Evaluate best model on test data\n",
    "pred = cv.best_estimator_.predict(res_test)"
   ]
  },
  {
   "cell_type": "code",
   "execution_count": 140,
   "id": "d8e191e0",
   "metadata": {},
   "outputs": [
    {
     "name": "stdout",
     "output_type": "stream",
     "text": [
      "              precision    recall  f1-score   support\n",
      "\n",
      "           0       0.65      0.66      0.65    500629\n",
      "           1       0.65      0.65      0.65    500680\n",
      "\n",
      "    accuracy                           0.65   1001309\n",
      "   macro avg       0.65      0.65      0.65   1001309\n",
      "weighted avg       0.65      0.65      0.65   1001309\n",
      "\n"
     ]
    }
   ],
   "source": [
    "# View the classification report\n",
    "print(classification_report(ytest, pred))"
   ]
  },
  {
   "cell_type": "code",
   "execution_count": 141,
   "id": "80455344",
   "metadata": {
    "scrolled": true
   },
   "outputs": [
    {
     "data": {
      "image/png": "[encoded data removed]",
      "text/plain": [
       "<Figure size 432x288 with 1 Axes>"
      ]
     },
     "metadata": {
      "needs_background": "light"
     },
     "output_type": "display_data"
    }
   ],
   "source": [
    "# Plot the confusion matrix\n",
    "ax = sns.heatmap(\n",
    "    confusion_matrix(ytest, pred), \n",
    "    annot=True, \n",
    "    cbar=False, \n",
    "    fmt='d'\n",
    ")"
   ]
  },
  {
   "cell_type": "code",
   "execution_count": 142,
   "id": "505e537e",
   "metadata": {},
   "outputs": [
    {
     "data": {
      "image/png": "[encoded data removed]",
      "text/plain": [
       "<Figure size 432x288 with 1 Axes>"
      ]
     },
     "metadata": {
      "needs_background": "light"
     },
     "output_type": "display_data"
    }
   ],
   "source": [
    "# Plot ROC and get the AUC value\n",
    "ax = RocCurveDisplay.from_estimator(\n",
    "    cv.best_estimator_,\n",
    "    res_test,\n",
    "    ytest,\n",
    "    name='sarcasm'\n",
    ")\n",
    "plt.plot([0, 1], [0, 1], 'k--', label='chance level (AUC = 0.5)')\n",
    "plt.axis('square')\n",
    "plt.xlabel('False Positive Rate')\n",
    "plt.ylabel('True Positive Rate')\n",
    "plt.legend()\n",
    "plt.show()"
   ]
  },
  {
   "cell_type": "code",
   "execution_count": null,
   "id": "707abad0",
   "metadata": {},
   "outputs": [],
   "source": []
  },
  {
   "cell_type": "code",
   "execution_count": null,
   "id": "50dba062",
   "metadata": {},
   "outputs": [],
   "source": []
  },
  {
   "cell_type": "code",
   "execution_count": null,
   "id": "e54aef16",
   "metadata": {},
   "outputs": [],
   "source": []
  }
 ],
 "metadata": {
  "kernelspec": {
   "display_name": "Python 3",
   "language": "python",
   "name": "python3"
  },
  "language_info": {
   "codemirror_mode": {
    "name": "ipython",
    "version": 3
   },
   "file_extension": ".py",
   "mimetype": "text/x-python",
   "name": "python",
   "nbconvert_exporter": "python",
   "pygments_lexer": "ipython3",
   "version": "3.9.6"
  }
 },
 "nbformat": 4,
 "nbformat_minor": 5
}
